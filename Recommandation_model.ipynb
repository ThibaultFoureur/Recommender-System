{
 "cells": [
  {
   "cell_type": "markdown",
   "metadata": {
    "colab_type": "text",
    "id": "gPZXoEpbIqq9"
   },
   "source": [
    "# Import data"
   ]
  },
  {
   "cell_type": "code",
   "execution_count": 5,
   "metadata": {
    "colab": {},
    "colab_type": "code",
    "id": "OvmZOJwAIqq-"
   },
   "outputs": [],
   "source": [
    "import os\n",
    "import pandas as pd\n",
    "import numpy as np\n",
    "from ast import literal_eval\n",
    "from six.moves import urllib\n",
    "import json\n",
    "import requests\n",
    "import csv\n",
    "\n",
    "#base_url_path = \"https://storage.cloud.google.com/ebap-data/technical-test/data-scientist/\"\n",
    "#Not directly usable, returns an html file instead of a csv\n",
    "\n",
    "evaluation_ratings_file = \"technical-test_data-scientist_evaluation_ratings.csv\"\n",
    "movies_metadata_file = \"technical-test_data-scientist_movies_metadata.csv\"\n",
    "ratings_file = \"technical-test_data-scientist_ratings.csv\""
   ]
  },
  {
   "cell_type": "code",
   "execution_count": 9,
   "metadata": {},
   "outputs": [],
   "source": [
    "import csv\n",
    "import requests\n",
    "\n",
    "CSV_URL = \"https://storage.cloud.google.com/ebap-data/technical-test/data-scientist/technical-test_data-scientist_evaluation_ratings.csv\"\n",
    "\n",
    "with open(os.path.split(CSV_URL)[1], 'wb') as f, \\\n",
    "        requests.get(CSV_URL, stream=True) as r:\n",
    "    for line in r.iter_lines():\n",
    "        f.write(line)"
   ]
  },
  {
   "cell_type": "code",
   "execution_count": 10,
   "metadata": {},
   "outputs": [
    {
     "data": {
      "text/plain": [
       "<_io.BufferedWriter name='technical-test_data-scientist_evaluation_ratings.csv'>"
      ]
     },
     "execution_count": 10,
     "metadata": {},
     "output_type": "execute_result"
    }
   ],
   "source": []
  },
  {
   "cell_type": "code",
   "execution_count": 7,
   "metadata": {},
   "outputs": [
    {
     "ename": "ValueError",
     "evalue": "Invalid file path or buffer object type: <class '_csv.reader'>",
     "output_type": "error",
     "traceback": [
      "\u001b[0;31m---------------------------------------------------------------------------\u001b[0m",
      "\u001b[0;31mValueError\u001b[0m                                Traceback (most recent call last)",
      "\u001b[0;32m<ipython-input-7-1445bd06efa3>\u001b[0m in \u001b[0;36m<module>\u001b[0;34m\u001b[0m\n\u001b[0;32m----> 1\u001b[0;31m \u001b[0mpd\u001b[0m\u001b[0;34m.\u001b[0m\u001b[0mread_csv\u001b[0m\u001b[0;34m(\u001b[0m\u001b[0mcr\u001b[0m\u001b[0;34m)\u001b[0m\u001b[0;34m\u001b[0m\u001b[0m\n\u001b[0m",
      "\u001b[0;32m~/.virtualenvs/handsonml/lib/python3.7/site-packages/pandas/io/parsers.py\u001b[0m in \u001b[0;36mparser_f\u001b[0;34m(filepath_or_buffer, sep, delimiter, header, names, index_col, usecols, squeeze, prefix, mangle_dupe_cols, dtype, engine, converters, true_values, false_values, skipinitialspace, skiprows, skipfooter, nrows, na_values, keep_default_na, na_filter, verbose, skip_blank_lines, parse_dates, infer_datetime_format, keep_date_col, date_parser, dayfirst, iterator, chunksize, compression, thousands, decimal, lineterminator, quotechar, quoting, doublequote, escapechar, comment, encoding, dialect, tupleize_cols, error_bad_lines, warn_bad_lines, delim_whitespace, low_memory, memory_map, float_precision)\u001b[0m\n\u001b[1;32m    700\u001b[0m                     skip_blank_lines=skip_blank_lines)\n\u001b[1;32m    701\u001b[0m \u001b[0;34m\u001b[0m\u001b[0m\n\u001b[0;32m--> 702\u001b[0;31m         \u001b[0;32mreturn\u001b[0m \u001b[0m_read\u001b[0m\u001b[0;34m(\u001b[0m\u001b[0mfilepath_or_buffer\u001b[0m\u001b[0;34m,\u001b[0m \u001b[0mkwds\u001b[0m\u001b[0;34m)\u001b[0m\u001b[0;34m\u001b[0m\u001b[0m\n\u001b[0m\u001b[1;32m    703\u001b[0m \u001b[0;34m\u001b[0m\u001b[0m\n\u001b[1;32m    704\u001b[0m     \u001b[0mparser_f\u001b[0m\u001b[0;34m.\u001b[0m\u001b[0m__name__\u001b[0m \u001b[0;34m=\u001b[0m \u001b[0mname\u001b[0m\u001b[0;34m\u001b[0m\u001b[0m\n",
      "\u001b[0;32m~/.virtualenvs/handsonml/lib/python3.7/site-packages/pandas/io/parsers.py\u001b[0m in \u001b[0;36m_read\u001b[0;34m(filepath_or_buffer, kwds)\u001b[0m\n\u001b[1;32m    411\u001b[0m     \u001b[0mcompression\u001b[0m \u001b[0;34m=\u001b[0m \u001b[0m_infer_compression\u001b[0m\u001b[0;34m(\u001b[0m\u001b[0mfilepath_or_buffer\u001b[0m\u001b[0;34m,\u001b[0m \u001b[0mcompression\u001b[0m\u001b[0;34m)\u001b[0m\u001b[0;34m\u001b[0m\u001b[0m\n\u001b[1;32m    412\u001b[0m     filepath_or_buffer, _, compression, should_close = get_filepath_or_buffer(\n\u001b[0;32m--> 413\u001b[0;31m         filepath_or_buffer, encoding, compression)\n\u001b[0m\u001b[1;32m    414\u001b[0m     \u001b[0mkwds\u001b[0m\u001b[0;34m[\u001b[0m\u001b[0;34m'compression'\u001b[0m\u001b[0;34m]\u001b[0m \u001b[0;34m=\u001b[0m \u001b[0mcompression\u001b[0m\u001b[0;34m\u001b[0m\u001b[0m\n\u001b[1;32m    415\u001b[0m \u001b[0;34m\u001b[0m\u001b[0m\n",
      "\u001b[0;32m~/.virtualenvs/handsonml/lib/python3.7/site-packages/pandas/io/common.py\u001b[0m in \u001b[0;36mget_filepath_or_buffer\u001b[0;34m(filepath_or_buffer, encoding, compression, mode)\u001b[0m\n\u001b[1;32m    230\u001b[0m     \u001b[0;32mif\u001b[0m \u001b[0;32mnot\u001b[0m \u001b[0mis_file_like\u001b[0m\u001b[0;34m(\u001b[0m\u001b[0mfilepath_or_buffer\u001b[0m\u001b[0;34m)\u001b[0m\u001b[0;34m:\u001b[0m\u001b[0;34m\u001b[0m\u001b[0m\n\u001b[1;32m    231\u001b[0m         \u001b[0mmsg\u001b[0m \u001b[0;34m=\u001b[0m \u001b[0;34m\"Invalid file path or buffer object type: {_type}\"\u001b[0m\u001b[0;34m\u001b[0m\u001b[0m\n\u001b[0;32m--> 232\u001b[0;31m         \u001b[0;32mraise\u001b[0m \u001b[0mValueError\u001b[0m\u001b[0;34m(\u001b[0m\u001b[0mmsg\u001b[0m\u001b[0;34m.\u001b[0m\u001b[0mformat\u001b[0m\u001b[0;34m(\u001b[0m\u001b[0m_type\u001b[0m\u001b[0;34m=\u001b[0m\u001b[0mtype\u001b[0m\u001b[0;34m(\u001b[0m\u001b[0mfilepath_or_buffer\u001b[0m\u001b[0;34m)\u001b[0m\u001b[0;34m)\u001b[0m\u001b[0;34m)\u001b[0m\u001b[0;34m\u001b[0m\u001b[0m\n\u001b[0m\u001b[1;32m    233\u001b[0m \u001b[0;34m\u001b[0m\u001b[0m\n\u001b[1;32m    234\u001b[0m     \u001b[0;32mreturn\u001b[0m \u001b[0mfilepath_or_buffer\u001b[0m\u001b[0;34m,\u001b[0m \u001b[0;32mNone\u001b[0m\u001b[0;34m,\u001b[0m \u001b[0mcompression\u001b[0m\u001b[0;34m,\u001b[0m \u001b[0;32mFalse\u001b[0m\u001b[0;34m\u001b[0m\u001b[0m\n",
      "\u001b[0;31mValueError\u001b[0m: Invalid file path or buffer object type: <class '_csv.reader'>"
     ]
    }
   ],
   "source": [
    "pd.read_csv(cr)"
   ]
  },
  {
   "cell_type": "markdown",
   "metadata": {},
   "source": [
    "To be used from a google colab environment"
   ]
  },
  {
   "cell_type": "code",
   "execution_count": 2,
   "metadata": {
    "colab": {
     "base_uri": "https://localhost:8080/",
     "height": 34
    },
    "colab_type": "code",
    "executionInfo": {
     "elapsed": 3893,
     "status": "ok",
     "timestamp": 1563396798841,
     "user": {
      "displayName": "Thibault Foureur",
      "photoUrl": "",
      "userId": "09770321977413832787"
     },
     "user_tz": -120
    },
    "id": "3ZRcinYgKerT",
    "outputId": "f100e8e6-2682-4813-cde1-520cb4f71e4b"
   },
   "outputs": [],
   "source": [
    "#from google.colab import drive\n",
    "#drive.mount('/content/gdrive',force_remount=True)\n",
    "#local_path = 'gdrive/My Drive/ML/Test'"
   ]
  },
  {
   "cell_type": "markdown",
   "metadata": {
    "colab_type": "text",
    "id": "XkR5c41Xr1xa"
   },
   "source": [
    "Please define \"local path\" as your local folder which contain the three datasets for the test"
   ]
  },
  {
   "cell_type": "code",
   "execution_count": 9,
   "metadata": {
    "colab": {},
    "colab_type": "code",
    "id": "15DwZF81LMLf"
   },
   "outputs": [],
   "source": [
    "local_path = 'Data'"
   ]
  },
  {
   "cell_type": "code",
   "execution_count": 10,
   "metadata": {
    "colab": {},
    "colab_type": "code",
    "id": "E8piqKstIqrB"
   },
   "outputs": [],
   "source": [
    "def load_data(path,filename,dtype=None):\n",
    "    \"\"\"\n",
    "    :param path: path to the csv file\n",
    "    :param filename: the csv filename ending with .csv extension\n",
    "    :return: a pandas dataframe\n",
    "    \"\"\"\n",
    "    csv_path = os.path.join(path, filename)\n",
    "    \n",
    "    return pd.read_csv(csv_path)"
   ]
  },
  {
   "cell_type": "code",
   "execution_count": 11,
   "metadata": {
    "colab": {
     "base_uri": "https://localhost:8080/",
     "height": 71
    },
    "colab_type": "code",
    "executionInfo": {
     "elapsed": 18074,
     "status": "ok",
     "timestamp": 1563396813051,
     "user": {
      "displayName": "Thibault Foureur",
      "photoUrl": "",
      "userId": "09770321977413832787"
     },
     "user_tz": -120
    },
    "id": "3k5GNM-jDBd_",
    "outputId": "6ee4fc13-f316-4020-da68-3dcb02259a26"
   },
   "outputs": [
    {
     "name": "stderr",
     "output_type": "stream",
     "text": [
      "/Users/thibaultf/.virtualenvs/handsonml/lib/python3.7/site-packages/IPython/core/interactiveshell.py:3248: DtypeWarning: Columns (10) have mixed types. Specify dtype option on import or set low_memory=False.\n",
      "  if (await self.run_code(code, result,  async_=asy)):\n"
     ]
    }
   ],
   "source": [
    "evaluation_ratings = load_data(local_path,evaluation_ratings_file)\n",
    "movies_metadata = load_data(local_path,movies_metadata_file )\n",
    "ratings = load_data(local_path,ratings_file)"
   ]
  },
  {
   "cell_type": "code",
   "execution_count": 0,
   "metadata": {
    "colab": {},
    "colab_type": "code",
    "id": "iabDzs3gIqrC"
   },
   "outputs": [],
   "source": [
    "def convert_int(x):\n",
    "    \"\"\"\n",
    "    Function used to change a dataframe column type into int64\n",
    "    \"\"\"\n",
    "    try:\n",
    "        return int(x)\n",
    "    except:\n",
    "        return np.nan"
   ]
  },
  {
   "cell_type": "code",
   "execution_count": 0,
   "metadata": {
    "colab": {},
    "colab_type": "code",
    "id": "e2c7vL4BP6Wz"
   },
   "outputs": [],
   "source": [
    "def explode(df, lst_cols, fill_value='', preserve_index=False):\n",
    "    \"\"\"\n",
    "    Explode a dataframe's array column into rows\n",
    "    :param df: dataframe with the column to explode\n",
    "    :param lst_cols: name of the array column to explode\n",
    "    :param fill_value: the value that will be assigned if an array is empty in one of the rows\n",
    "    :param preserve_index: indicates if we want to reset the dataframe index or not\n",
    "    :return: a pandas dataframe with the chose array type column exploded\n",
    "    \"\"\"\n",
    "    # make sure `lst_cols` is list-alike\n",
    "    if (lst_cols is not None\n",
    "        and len(lst_cols) > 0\n",
    "        and not isinstance(lst_cols, (list, tuple, np.ndarray, pd.Series))):\n",
    "        lst_cols = [lst_cols]\n",
    "    # all columns except `lst_cols`\n",
    "    idx_cols = df.columns.difference(lst_cols)\n",
    "    # calculate lengths of lists\n",
    "    lens = df[lst_cols[0]].str.len()\n",
    "    # preserve original index values    \n",
    "    idx = np.repeat(df.index.values, lens)\n",
    "    # create \"exploded\" DF\n",
    "    res = (pd.DataFrame({\n",
    "                col:np.repeat(df[col].values, lens)\n",
    "                for col in idx_cols},\n",
    "                index=idx)\n",
    "             .assign(**{col:np.concatenate(df.loc[lens>0, col].values)\n",
    "                            for col in lst_cols}))\n",
    "    # append those rows that have empty lists\n",
    "    if (lens == 0).any():\n",
    "        # at least one list in cells is empty\n",
    "        res = (res.append(df.loc[lens==0, idx_cols], sort=False)\n",
    "                  .fillna(fill_value))\n",
    "    # revert the original index order\n",
    "    res = res.sort_index()\n",
    "    # reset index if requested\n",
    "    if not preserve_index:        \n",
    "        res = res.reset_index(drop=True)\n",
    "    return res"
   ]
  },
  {
   "cell_type": "code",
   "execution_count": 92,
   "metadata": {
    "colab": {
     "base_uri": "https://localhost:8080/",
     "height": 204
    },
    "colab_type": "code",
    "executionInfo": {
     "elapsed": 18048,
     "status": "ok",
     "timestamp": 1563396813056,
     "user": {
      "displayName": "Thibault Foureur",
      "photoUrl": "",
      "userId": "09770321977413832787"
     },
     "user_tz": -120
    },
    "id": "6KL8FxGDIqrH",
    "outputId": "dc09f131-6d3f-4cf0-bd4b-69865063d278"
   },
   "outputs": [
    {
     "data": {
      "text/html": [
       "<div>\n",
       "<style scoped>\n",
       "    .dataframe tbody tr th:only-of-type {\n",
       "        vertical-align: middle;\n",
       "    }\n",
       "\n",
       "    .dataframe tbody tr th {\n",
       "        vertical-align: top;\n",
       "    }\n",
       "\n",
       "    .dataframe thead th {\n",
       "        text-align: right;\n",
       "    }\n",
       "</style>\n",
       "<table border=\"1\" class=\"dataframe\">\n",
       "  <thead>\n",
       "    <tr style=\"text-align: right;\">\n",
       "      <th></th>\n",
       "      <th>userId</th>\n",
       "      <th>movieId</th>\n",
       "    </tr>\n",
       "  </thead>\n",
       "  <tbody>\n",
       "    <tr>\n",
       "      <th>0</th>\n",
       "      <td>1</td>\n",
       "      <td>110</td>\n",
       "    </tr>\n",
       "    <tr>\n",
       "      <th>1</th>\n",
       "      <td>1</td>\n",
       "      <td>1968</td>\n",
       "    </tr>\n",
       "    <tr>\n",
       "      <th>2</th>\n",
       "      <td>1</td>\n",
       "      <td>4878</td>\n",
       "    </tr>\n",
       "    <tr>\n",
       "      <th>3</th>\n",
       "      <td>1</td>\n",
       "      <td>54503</td>\n",
       "    </tr>\n",
       "    <tr>\n",
       "      <th>4</th>\n",
       "      <td>1</td>\n",
       "      <td>91542</td>\n",
       "    </tr>\n",
       "  </tbody>\n",
       "</table>\n",
       "</div>"
      ],
      "text/plain": [
       "   userId  movieId\n",
       "0       1      110\n",
       "1       1     1968\n",
       "2       1     4878\n",
       "3       1    54503\n",
       "4       1    91542"
      ]
     },
     "execution_count": 92,
     "metadata": {
      "tags": []
     },
     "output_type": "execute_result"
    }
   ],
   "source": [
    "evaluation_ratings.head()"
   ]
  },
  {
   "cell_type": "code",
   "execution_count": 93,
   "metadata": {
    "colab": {
     "base_uri": "https://localhost:8080/",
     "height": 136
    },
    "colab_type": "code",
    "executionInfo": {
     "elapsed": 18037,
     "status": "ok",
     "timestamp": 1563396813056,
     "user": {
      "displayName": "Thibault Foureur",
      "photoUrl": "",
      "userId": "09770321977413832787"
     },
     "user_tz": -120
    },
    "id": "MAATcDhSIqrK",
    "outputId": "e4e09b2a-c53d-4cf8-9f1b-5fc20acf4f6c"
   },
   "outputs": [
    {
     "name": "stdout",
     "output_type": "stream",
     "text": [
      "<class 'pandas.core.frame.DataFrame'>\n",
      "RangeIndex: 5198034 entries, 0 to 5198033\n",
      "Data columns (total 2 columns):\n",
      "userId     int64\n",
      "movieId    int64\n",
      "dtypes: int64(2)\n",
      "memory usage: 79.3 MB\n"
     ]
    }
   ],
   "source": [
    "evaluation_ratings.info()"
   ]
  },
  {
   "cell_type": "code",
   "execution_count": 94,
   "metadata": {
    "colab": {
     "base_uri": "https://localhost:8080/",
     "height": 793
    },
    "colab_type": "code",
    "executionInfo": {
     "elapsed": 18028,
     "status": "ok",
     "timestamp": 1563396813057,
     "user": {
      "displayName": "Thibault Foureur",
      "photoUrl": "",
      "userId": "09770321977413832787"
     },
     "user_tz": -120
    },
    "id": "vCvLj75qIqrM",
    "outputId": "7a2f022b-5a5d-4575-c6e6-a771184f8778"
   },
   "outputs": [
    {
     "data": {
      "text/html": [
       "<div>\n",
       "<style scoped>\n",
       "    .dataframe tbody tr th:only-of-type {\n",
       "        vertical-align: middle;\n",
       "    }\n",
       "\n",
       "    .dataframe tbody tr th {\n",
       "        vertical-align: top;\n",
       "    }\n",
       "\n",
       "    .dataframe thead th {\n",
       "        text-align: right;\n",
       "    }\n",
       "</style>\n",
       "<table border=\"1\" class=\"dataframe\">\n",
       "  <thead>\n",
       "    <tr style=\"text-align: right;\">\n",
       "      <th></th>\n",
       "      <th>0</th>\n",
       "      <th>1</th>\n",
       "      <th>2</th>\n",
       "    </tr>\n",
       "  </thead>\n",
       "  <tbody>\n",
       "    <tr>\n",
       "      <th>adult</th>\n",
       "      <td>False</td>\n",
       "      <td>False</td>\n",
       "      <td>False</td>\n",
       "    </tr>\n",
       "    <tr>\n",
       "      <th>belongs_to_collection</th>\n",
       "      <td>{'id': 10194, 'name': 'Toy Story Collection', ...</td>\n",
       "      <td>NaN</td>\n",
       "      <td>{'id': 119050, 'name': 'Grumpy Old Men Collect...</td>\n",
       "    </tr>\n",
       "    <tr>\n",
       "      <th>budget</th>\n",
       "      <td>30000000</td>\n",
       "      <td>65000000</td>\n",
       "      <td>0</td>\n",
       "    </tr>\n",
       "    <tr>\n",
       "      <th>genres</th>\n",
       "      <td>[{'id': 16, 'name': 'Animation'}, {'id': 35, '...</td>\n",
       "      <td>[{'id': 12, 'name': 'Adventure'}, {'id': 14, '...</td>\n",
       "      <td>[{'id': 10749, 'name': 'Romance'}, {'id': 35, ...</td>\n",
       "    </tr>\n",
       "    <tr>\n",
       "      <th>homepage</th>\n",
       "      <td>http://toystory.disney.com/toy-story</td>\n",
       "      <td>NaN</td>\n",
       "      <td>NaN</td>\n",
       "    </tr>\n",
       "    <tr>\n",
       "      <th>id</th>\n",
       "      <td>862</td>\n",
       "      <td>8844</td>\n",
       "      <td>15602</td>\n",
       "    </tr>\n",
       "    <tr>\n",
       "      <th>imdb_id</th>\n",
       "      <td>tt0114709</td>\n",
       "      <td>tt0113497</td>\n",
       "      <td>tt0113228</td>\n",
       "    </tr>\n",
       "    <tr>\n",
       "      <th>original_language</th>\n",
       "      <td>en</td>\n",
       "      <td>en</td>\n",
       "      <td>en</td>\n",
       "    </tr>\n",
       "    <tr>\n",
       "      <th>original_title</th>\n",
       "      <td>Toy Story</td>\n",
       "      <td>Jumanji</td>\n",
       "      <td>Grumpier Old Men</td>\n",
       "    </tr>\n",
       "    <tr>\n",
       "      <th>overview</th>\n",
       "      <td>Led by Woody, Andy's toys live happily in his ...</td>\n",
       "      <td>When siblings Judy and Peter discover an encha...</td>\n",
       "      <td>A family wedding reignites the ancient feud be...</td>\n",
       "    </tr>\n",
       "    <tr>\n",
       "      <th>popularity</th>\n",
       "      <td>21.9469</td>\n",
       "      <td>17.0155</td>\n",
       "      <td>11.7129</td>\n",
       "    </tr>\n",
       "    <tr>\n",
       "      <th>poster_path</th>\n",
       "      <td>/rhIRbceoE9lR4veEXuwCC2wARtG.jpg</td>\n",
       "      <td>/vzmL6fP7aPKNKPRTFnZmiUfciyV.jpg</td>\n",
       "      <td>/6ksm1sjKMFLbO7UY2i6G1ju9SML.jpg</td>\n",
       "    </tr>\n",
       "    <tr>\n",
       "      <th>production_companies</th>\n",
       "      <td>[{'name': 'Pixar Animation Studios', 'id': 3}]</td>\n",
       "      <td>[{'name': 'TriStar Pictures', 'id': 559}, {'na...</td>\n",
       "      <td>[{'name': 'Warner Bros.', 'id': 6194}, {'name'...</td>\n",
       "    </tr>\n",
       "    <tr>\n",
       "      <th>production_countries</th>\n",
       "      <td>[{'iso_3166_1': 'US', 'name': 'United States o...</td>\n",
       "      <td>[{'iso_3166_1': 'US', 'name': 'United States o...</td>\n",
       "      <td>[{'iso_3166_1': 'US', 'name': 'United States o...</td>\n",
       "    </tr>\n",
       "    <tr>\n",
       "      <th>release_date</th>\n",
       "      <td>1995-10-30</td>\n",
       "      <td>1995-12-15</td>\n",
       "      <td>1995-12-22</td>\n",
       "    </tr>\n",
       "    <tr>\n",
       "      <th>revenue</th>\n",
       "      <td>3.73554e+08</td>\n",
       "      <td>2.62797e+08</td>\n",
       "      <td>0</td>\n",
       "    </tr>\n",
       "    <tr>\n",
       "      <th>runtime</th>\n",
       "      <td>81</td>\n",
       "      <td>104</td>\n",
       "      <td>101</td>\n",
       "    </tr>\n",
       "    <tr>\n",
       "      <th>spoken_languages</th>\n",
       "      <td>[{'iso_639_1': 'en', 'name': 'English'}]</td>\n",
       "      <td>[{'iso_639_1': 'en', 'name': 'English'}, {'iso...</td>\n",
       "      <td>[{'iso_639_1': 'en', 'name': 'English'}]</td>\n",
       "    </tr>\n",
       "    <tr>\n",
       "      <th>status</th>\n",
       "      <td>Released</td>\n",
       "      <td>Released</td>\n",
       "      <td>Released</td>\n",
       "    </tr>\n",
       "    <tr>\n",
       "      <th>tagline</th>\n",
       "      <td>NaN</td>\n",
       "      <td>Roll the dice and unleash the excitement!</td>\n",
       "      <td>Still Yelling. Still Fighting. Still Ready for...</td>\n",
       "    </tr>\n",
       "    <tr>\n",
       "      <th>title</th>\n",
       "      <td>Toy Story</td>\n",
       "      <td>Jumanji</td>\n",
       "      <td>Grumpier Old Men</td>\n",
       "    </tr>\n",
       "    <tr>\n",
       "      <th>video</th>\n",
       "      <td>False</td>\n",
       "      <td>False</td>\n",
       "      <td>False</td>\n",
       "    </tr>\n",
       "    <tr>\n",
       "      <th>vote_average</th>\n",
       "      <td>7.7</td>\n",
       "      <td>6.9</td>\n",
       "      <td>6.5</td>\n",
       "    </tr>\n",
       "    <tr>\n",
       "      <th>vote_count</th>\n",
       "      <td>5415</td>\n",
       "      <td>2413</td>\n",
       "      <td>92</td>\n",
       "    </tr>\n",
       "  </tbody>\n",
       "</table>\n",
       "</div>"
      ],
      "text/plain": [
       "                                                                       0  ...                                                  2\n",
       "adult                                                              False  ...                                              False\n",
       "belongs_to_collection  {'id': 10194, 'name': 'Toy Story Collection', ...  ...  {'id': 119050, 'name': 'Grumpy Old Men Collect...\n",
       "budget                                                          30000000  ...                                                  0\n",
       "genres                 [{'id': 16, 'name': 'Animation'}, {'id': 35, '...  ...  [{'id': 10749, 'name': 'Romance'}, {'id': 35, ...\n",
       "homepage                            http://toystory.disney.com/toy-story  ...                                                NaN\n",
       "id                                                                   862  ...                                              15602\n",
       "imdb_id                                                        tt0114709  ...                                          tt0113228\n",
       "original_language                                                     en  ...                                                 en\n",
       "original_title                                                 Toy Story  ...                                   Grumpier Old Men\n",
       "overview               Led by Woody, Andy's toys live happily in his ...  ...  A family wedding reignites the ancient feud be...\n",
       "popularity                                                       21.9469  ...                                            11.7129\n",
       "poster_path                             /rhIRbceoE9lR4veEXuwCC2wARtG.jpg  ...                   /6ksm1sjKMFLbO7UY2i6G1ju9SML.jpg\n",
       "production_companies      [{'name': 'Pixar Animation Studios', 'id': 3}]  ...  [{'name': 'Warner Bros.', 'id': 6194}, {'name'...\n",
       "production_countries   [{'iso_3166_1': 'US', 'name': 'United States o...  ...  [{'iso_3166_1': 'US', 'name': 'United States o...\n",
       "release_date                                                  1995-10-30  ...                                         1995-12-22\n",
       "revenue                                                      3.73554e+08  ...                                                  0\n",
       "runtime                                                               81  ...                                                101\n",
       "spoken_languages                [{'iso_639_1': 'en', 'name': 'English'}]  ...           [{'iso_639_1': 'en', 'name': 'English'}]\n",
       "status                                                          Released  ...                                           Released\n",
       "tagline                                                              NaN  ...  Still Yelling. Still Fighting. Still Ready for...\n",
       "title                                                          Toy Story  ...                                   Grumpier Old Men\n",
       "video                                                              False  ...                                              False\n",
       "vote_average                                                         7.7  ...                                                6.5\n",
       "vote_count                                                          5415  ...                                                 92\n",
       "\n",
       "[24 rows x 3 columns]"
      ]
     },
     "execution_count": 94,
     "metadata": {
      "tags": []
     },
     "output_type": "execute_result"
    }
   ],
   "source": [
    "movies_metadata.iloc[0:3].transpose()"
   ]
  },
  {
   "cell_type": "code",
   "execution_count": 95,
   "metadata": {
    "colab": {
     "base_uri": "https://localhost:8080/",
     "height": 510
    },
    "colab_type": "code",
    "executionInfo": {
     "elapsed": 18264,
     "status": "ok",
     "timestamp": 1563396813304,
     "user": {
      "displayName": "Thibault Foureur",
      "photoUrl": "",
      "userId": "09770321977413832787"
     },
     "user_tz": -120
    },
    "id": "0NmpOB2uIqrO",
    "outputId": "4b500dde-072e-4eb0-d553-1c0cd129fc07"
   },
   "outputs": [
    {
     "name": "stdout",
     "output_type": "stream",
     "text": [
      "<class 'pandas.core.frame.DataFrame'>\n",
      "RangeIndex: 45466 entries, 0 to 45465\n",
      "Data columns (total 24 columns):\n",
      "adult                    45466 non-null object\n",
      "belongs_to_collection    4494 non-null object\n",
      "budget                   45466 non-null object\n",
      "genres                   45466 non-null object\n",
      "homepage                 7782 non-null object\n",
      "id                       45466 non-null object\n",
      "imdb_id                  45449 non-null object\n",
      "original_language        45455 non-null object\n",
      "original_title           45466 non-null object\n",
      "overview                 44512 non-null object\n",
      "popularity               45461 non-null object\n",
      "poster_path              45080 non-null object\n",
      "production_companies     45463 non-null object\n",
      "production_countries     45463 non-null object\n",
      "release_date             45379 non-null object\n",
      "revenue                  45460 non-null float64\n",
      "runtime                  45203 non-null float64\n",
      "spoken_languages         45460 non-null object\n",
      "status                   45379 non-null object\n",
      "tagline                  20412 non-null object\n",
      "title                    45460 non-null object\n",
      "video                    45460 non-null object\n",
      "vote_average             45460 non-null float64\n",
      "vote_count               45460 non-null float64\n",
      "dtypes: float64(4), object(20)\n",
      "memory usage: 8.3+ MB\n"
     ]
    }
   ],
   "source": [
    "movies_metadata.info()"
   ]
  },
  {
   "cell_type": "markdown",
   "metadata": {
    "colab_type": "text",
    "id": "kvUOxVI5uwMw"
   },
   "source": [
    "We have 45,466 movies"
   ]
  },
  {
   "cell_type": "code",
   "execution_count": 96,
   "metadata": {
    "colab": {
     "base_uri": "https://localhost:8080/",
     "height": 297
    },
    "colab_type": "code",
    "executionInfo": {
     "elapsed": 18254,
     "status": "ok",
     "timestamp": 1563396813305,
     "user": {
      "displayName": "Thibault Foureur",
      "photoUrl": "",
      "userId": "09770321977413832787"
     },
     "user_tz": -120
    },
    "id": "AEWQajwEIqrQ",
    "outputId": "c86ef36b-2ace-4360-88bd-1b5244fea231"
   },
   "outputs": [
    {
     "data": {
      "text/html": [
       "<div>\n",
       "<style scoped>\n",
       "    .dataframe tbody tr th:only-of-type {\n",
       "        vertical-align: middle;\n",
       "    }\n",
       "\n",
       "    .dataframe tbody tr th {\n",
       "        vertical-align: top;\n",
       "    }\n",
       "\n",
       "    .dataframe thead th {\n",
       "        text-align: right;\n",
       "    }\n",
       "</style>\n",
       "<table border=\"1\" class=\"dataframe\">\n",
       "  <thead>\n",
       "    <tr style=\"text-align: right;\">\n",
       "      <th></th>\n",
       "      <th>revenue</th>\n",
       "      <th>runtime</th>\n",
       "      <th>vote_average</th>\n",
       "      <th>vote_count</th>\n",
       "    </tr>\n",
       "  </thead>\n",
       "  <tbody>\n",
       "    <tr>\n",
       "      <th>count</th>\n",
       "      <td>4.546000e+04</td>\n",
       "      <td>45203.000000</td>\n",
       "      <td>45460.000000</td>\n",
       "      <td>45460.000000</td>\n",
       "    </tr>\n",
       "    <tr>\n",
       "      <th>mean</th>\n",
       "      <td>1.120935e+07</td>\n",
       "      <td>94.128199</td>\n",
       "      <td>5.618207</td>\n",
       "      <td>109.897338</td>\n",
       "    </tr>\n",
       "    <tr>\n",
       "      <th>std</th>\n",
       "      <td>6.433225e+07</td>\n",
       "      <td>38.407810</td>\n",
       "      <td>1.924216</td>\n",
       "      <td>491.310374</td>\n",
       "    </tr>\n",
       "    <tr>\n",
       "      <th>min</th>\n",
       "      <td>0.000000e+00</td>\n",
       "      <td>0.000000</td>\n",
       "      <td>0.000000</td>\n",
       "      <td>0.000000</td>\n",
       "    </tr>\n",
       "    <tr>\n",
       "      <th>25%</th>\n",
       "      <td>0.000000e+00</td>\n",
       "      <td>85.000000</td>\n",
       "      <td>5.000000</td>\n",
       "      <td>3.000000</td>\n",
       "    </tr>\n",
       "    <tr>\n",
       "      <th>50%</th>\n",
       "      <td>0.000000e+00</td>\n",
       "      <td>95.000000</td>\n",
       "      <td>6.000000</td>\n",
       "      <td>10.000000</td>\n",
       "    </tr>\n",
       "    <tr>\n",
       "      <th>75%</th>\n",
       "      <td>0.000000e+00</td>\n",
       "      <td>107.000000</td>\n",
       "      <td>6.800000</td>\n",
       "      <td>34.000000</td>\n",
       "    </tr>\n",
       "    <tr>\n",
       "      <th>max</th>\n",
       "      <td>2.787965e+09</td>\n",
       "      <td>1256.000000</td>\n",
       "      <td>10.000000</td>\n",
       "      <td>14075.000000</td>\n",
       "    </tr>\n",
       "  </tbody>\n",
       "</table>\n",
       "</div>"
      ],
      "text/plain": [
       "            revenue       runtime  vote_average    vote_count\n",
       "count  4.546000e+04  45203.000000  45460.000000  45460.000000\n",
       "mean   1.120935e+07     94.128199      5.618207    109.897338\n",
       "std    6.433225e+07     38.407810      1.924216    491.310374\n",
       "min    0.000000e+00      0.000000      0.000000      0.000000\n",
       "25%    0.000000e+00     85.000000      5.000000      3.000000\n",
       "50%    0.000000e+00     95.000000      6.000000     10.000000\n",
       "75%    0.000000e+00    107.000000      6.800000     34.000000\n",
       "max    2.787965e+09   1256.000000     10.000000  14075.000000"
      ]
     },
     "execution_count": 96,
     "metadata": {
      "tags": []
     },
     "output_type": "execute_result"
    }
   ],
   "source": [
    "movies_metadata.describe()"
   ]
  },
  {
   "cell_type": "code",
   "execution_count": 97,
   "metadata": {
    "colab": {
     "base_uri": "https://localhost:8080/",
     "height": 204
    },
    "colab_type": "code",
    "executionInfo": {
     "elapsed": 18245,
     "status": "ok",
     "timestamp": 1563396813306,
     "user": {
      "displayName": "Thibault Foureur",
      "photoUrl": "",
      "userId": "09770321977413832787"
     },
     "user_tz": -120
    },
    "id": "4Dc35vBJIqrS",
    "outputId": "a8f8bb55-5a12-41bf-829a-cdde974ad96e"
   },
   "outputs": [
    {
     "data": {
      "text/html": [
       "<div>\n",
       "<style scoped>\n",
       "    .dataframe tbody tr th:only-of-type {\n",
       "        vertical-align: middle;\n",
       "    }\n",
       "\n",
       "    .dataframe tbody tr th {\n",
       "        vertical-align: top;\n",
       "    }\n",
       "\n",
       "    .dataframe thead th {\n",
       "        text-align: right;\n",
       "    }\n",
       "</style>\n",
       "<table border=\"1\" class=\"dataframe\">\n",
       "  <thead>\n",
       "    <tr style=\"text-align: right;\">\n",
       "      <th></th>\n",
       "      <th>userId</th>\n",
       "      <th>movieId</th>\n",
       "      <th>rating</th>\n",
       "      <th>timestamp</th>\n",
       "    </tr>\n",
       "  </thead>\n",
       "  <tbody>\n",
       "    <tr>\n",
       "      <th>0</th>\n",
       "      <td>1</td>\n",
       "      <td>81834</td>\n",
       "      <td>5.0</td>\n",
       "      <td>1425942133</td>\n",
       "    </tr>\n",
       "    <tr>\n",
       "      <th>1</th>\n",
       "      <td>1</td>\n",
       "      <td>112552</td>\n",
       "      <td>5.0</td>\n",
       "      <td>1425941336</td>\n",
       "    </tr>\n",
       "    <tr>\n",
       "      <th>2</th>\n",
       "      <td>1</td>\n",
       "      <td>98809</td>\n",
       "      <td>0.5</td>\n",
       "      <td>1425942640</td>\n",
       "    </tr>\n",
       "    <tr>\n",
       "      <th>3</th>\n",
       "      <td>1</td>\n",
       "      <td>99114</td>\n",
       "      <td>4.0</td>\n",
       "      <td>1425941667</td>\n",
       "    </tr>\n",
       "    <tr>\n",
       "      <th>4</th>\n",
       "      <td>1</td>\n",
       "      <td>858</td>\n",
       "      <td>5.0</td>\n",
       "      <td>1425941523</td>\n",
       "    </tr>\n",
       "  </tbody>\n",
       "</table>\n",
       "</div>"
      ],
      "text/plain": [
       "   userId  movieId  rating   timestamp\n",
       "0       1    81834     5.0  1425942133\n",
       "1       1   112552     5.0  1425941336\n",
       "2       1    98809     0.5  1425942640\n",
       "3       1    99114     4.0  1425941667\n",
       "4       1      858     5.0  1425941523"
      ]
     },
     "execution_count": 97,
     "metadata": {
      "tags": []
     },
     "output_type": "execute_result"
    }
   ],
   "source": [
    "ratings.head()"
   ]
  },
  {
   "cell_type": "code",
   "execution_count": 98,
   "metadata": {
    "colab": {
     "base_uri": "https://localhost:8080/",
     "height": 170
    },
    "colab_type": "code",
    "executionInfo": {
     "elapsed": 18232,
     "status": "ok",
     "timestamp": 1563396813306,
     "user": {
      "displayName": "Thibault Foureur",
      "photoUrl": "",
      "userId": "09770321977413832787"
     },
     "user_tz": -120
    },
    "id": "UEs4RzfTIqrV",
    "outputId": "853871b6-dea1-4390-c8d8-b3308a691d9c"
   },
   "outputs": [
    {
     "name": "stdout",
     "output_type": "stream",
     "text": [
      "<class 'pandas.core.frame.DataFrame'>\n",
      "RangeIndex: 20824175 entries, 0 to 20824174\n",
      "Data columns (total 4 columns):\n",
      "userId       int64\n",
      "movieId      int64\n",
      "rating       float64\n",
      "timestamp    int64\n",
      "dtypes: float64(1), int64(3)\n",
      "memory usage: 635.5 MB\n"
     ]
    }
   ],
   "source": [
    "ratings.info()"
   ]
  },
  {
   "cell_type": "code",
   "execution_count": 99,
   "metadata": {
    "colab": {
     "base_uri": "https://localhost:8080/",
     "height": 34
    },
    "colab_type": "code",
    "executionInfo": {
     "elapsed": 18224,
     "status": "ok",
     "timestamp": 1563396813307,
     "user": {
      "displayName": "Thibault Foureur",
      "photoUrl": "",
      "userId": "09770321977413832787"
     },
     "user_tz": -120
    },
    "id": "htytTEJ2IqrX",
    "outputId": "de39cd33-4588-46d0-fc9d-59e9ac688387"
   },
   "outputs": [
    {
     "data": {
      "text/plain": [
       "270896"
      ]
     },
     "execution_count": 99,
     "metadata": {
      "tags": []
     },
     "output_type": "execute_result"
    }
   ],
   "source": [
    "n_unique_users = ratings.userId.unique().shape[0]\n",
    "n_unique_users"
   ]
  },
  {
   "cell_type": "code",
   "execution_count": 100,
   "metadata": {
    "colab": {
     "base_uri": "https://localhost:8080/",
     "height": 34
    },
    "colab_type": "code",
    "executionInfo": {
     "elapsed": 18476,
     "status": "ok",
     "timestamp": 1563396813570,
     "user": {
      "displayName": "Thibault Foureur",
      "photoUrl": "",
      "userId": "09770321977413832787"
     },
     "user_tz": -120
    },
    "id": "s1QUWusgIqrZ",
    "outputId": "c5c75fa6-e344-444d-847c-c7828e9ba998"
   },
   "outputs": [
    {
     "data": {
      "text/plain": [
       "43331"
      ]
     },
     "execution_count": 100,
     "metadata": {
      "tags": []
     },
     "output_type": "execute_result"
    }
   ],
   "source": [
    "n_unique_movies_rated = ratings.movieId.unique().shape[0]\n",
    "n_unique_movies_rated"
   ]
  },
  {
   "cell_type": "code",
   "execution_count": 101,
   "metadata": {
    "colab": {
     "base_uri": "https://localhost:8080/",
     "height": 34
    },
    "colab_type": "code",
    "executionInfo": {
     "elapsed": 18466,
     "status": "ok",
     "timestamp": 1563396813571,
     "user": {
      "displayName": "Thibault Foureur",
      "photoUrl": "",
      "userId": "09770321977413832787"
     },
     "user_tz": -120
    },
    "id": "ICuQIX9of10I",
    "outputId": "8d559cd8-a391-4cbe-890c-d2ab1889f73e"
   },
   "outputs": [
    {
     "data": {
      "text/plain": [
       "45436"
      ]
     },
     "execution_count": 101,
     "metadata": {
      "tags": []
     },
     "output_type": "execute_result"
    }
   ],
   "source": [
    "n_unique_movies = movies_metadata.id.unique().shape[0]\n",
    "n_unique_movies"
   ]
  },
  {
   "cell_type": "markdown",
   "metadata": {
    "colab_type": "text",
    "id": "cFNoXO2tV3xr"
   },
   "source": [
    "Let's check how many users are included in the evaluation file :"
   ]
  },
  {
   "cell_type": "code",
   "execution_count": 102,
   "metadata": {
    "colab": {
     "base_uri": "https://localhost:8080/",
     "height": 34
    },
    "colab_type": "code",
    "executionInfo": {
     "elapsed": 18459,
     "status": "ok",
     "timestamp": 1563396813572,
     "user": {
      "displayName": "Thibault Foureur",
      "photoUrl": "",
      "userId": "09770321977413832787"
     },
     "user_tz": -120
    },
    "id": "yZs0MiuIWDJu",
    "outputId": "e1a6dc77-4e4e-4ff5-9bfe-74946a7be564"
   },
   "outputs": [
    {
     "data": {
      "text/plain": [
       "262202"
      ]
     },
     "execution_count": 102,
     "metadata": {
      "tags": []
     },
     "output_type": "execute_result"
    }
   ],
   "source": [
    "n_unique_users_eval = evaluation_ratings.userId.unique().shape[0]\n",
    "n_unique_users_eval"
   ]
  },
  {
   "cell_type": "code",
   "execution_count": 103,
   "metadata": {
    "colab": {
     "base_uri": "https://localhost:8080/",
     "height": 34
    },
    "colab_type": "code",
    "executionInfo": {
     "elapsed": 22207,
     "status": "ok",
     "timestamp": 1563396817331,
     "user": {
      "displayName": "Thibault Foureur",
      "photoUrl": "",
      "userId": "09770321977413832787"
     },
     "user_tz": -120
    },
    "id": "y1uzSk1UWgjk",
    "outputId": "0d600680-46eb-4e1a-e0ff-738ecd713871"
   },
   "outputs": [
    {
     "data": {
      "text/plain": [
       "262202"
      ]
     },
     "execution_count": 103,
     "metadata": {
      "tags": []
     },
     "output_type": "execute_result"
    }
   ],
   "source": [
    "rating_user_in_eval = ratings[ratings['userId'].isin(evaluation_ratings['userId'])].userId.unique().shape[0]\n",
    "rating_user_in_eval"
   ]
  },
  {
   "cell_type": "markdown",
   "metadata": {
    "colab_type": "text",
    "id": "D-_W6edhXOB8"
   },
   "source": [
    "There is no \"new users\" in the evaluation file"
   ]
  },
  {
   "cell_type": "markdown",
   "metadata": {
    "colab_type": "text",
    "id": "1XGSYZDWIqrc"
   },
   "source": [
    "# Data exploration"
   ]
  },
  {
   "cell_type": "markdown",
   "metadata": {
    "colab_type": "text",
    "id": "b92_FMdOZlqG"
   },
   "source": [
    "## User's rating"
   ]
  },
  {
   "cell_type": "code",
   "execution_count": 20,
   "metadata": {
    "colab": {
     "base_uri": "https://localhost:8080/",
     "height": 170
    },
    "colab_type": "code",
    "executionInfo": {
     "elapsed": 1613,
     "status": "ok",
     "timestamp": 1563390858467,
     "user": {
      "displayName": "Thibault Foureur",
      "photoUrl": "",
      "userId": "09770321977413832787"
     },
     "user_tz": -120
    },
    "id": "qjt0MFuNaFmF",
    "outputId": "508cae51-80a5-429a-e053-20f337ac0cfb"
   },
   "outputs": [
    {
     "data": {
      "text/plain": [
       "count    2.082418e+07\n",
       "mean     3.528153e+00\n",
       "std      1.065369e+00\n",
       "min      5.000000e-01\n",
       "25%      3.000000e+00\n",
       "50%      3.500000e+00\n",
       "75%      4.000000e+00\n",
       "max      5.000000e+00\n",
       "Name: rating, dtype: float64"
      ]
     },
     "execution_count": 20,
     "metadata": {
      "tags": []
     },
     "output_type": "execute_result"
    }
   ],
   "source": [
    "ratings['rating'].describe()"
   ]
  },
  {
   "cell_type": "code",
   "execution_count": 21,
   "metadata": {
    "colab": {
     "base_uri": "https://localhost:8080/",
     "height": 286
    },
    "colab_type": "code",
    "executionInfo": {
     "elapsed": 3268,
     "status": "ok",
     "timestamp": 1563390860281,
     "user": {
      "displayName": "Thibault Foureur",
      "photoUrl": "",
      "userId": "09770321977413832787"
     },
     "user_tz": -120
    },
    "id": "cxug8xIdZuF2",
    "outputId": "1ca66e97-01d9-413a-ac5f-0951b017a644"
   },
   "outputs": [
    {
     "data": {
      "text/plain": [
       "<matplotlib.axes._subplots.AxesSubplot at 0x7f1801f85b38>"
      ]
     },
     "execution_count": 21,
     "metadata": {
      "tags": []
     },
     "output_type": "execute_result"
    },
    {
     "data": {
      "image/png": "[encoded data removed]",
      "text/plain": [
       "<Figure size 720x288 with 1 Axes>"
      ]
     },
     "metadata": {
      "tags": []
     },
     "output_type": "display_data"
    }
   ],
   "source": [
    "import matplotlib.pyplot as plt \n",
    "import seaborn as sns \n",
    "\n",
    "sns.set_style('white') \n",
    "%matplotlib inline \n",
    "\n",
    "plt.figure(figsize =(10, 4)) \n",
    "  \n",
    "ratings['rating'].hist(bins = 10) "
   ]
  },
  {
   "cell_type": "code",
   "execution_count": 22,
   "metadata": {
    "colab": {
     "base_uri": "https://localhost:8080/",
     "height": 170
    },
    "colab_type": "code",
    "executionInfo": {
     "elapsed": 3638,
     "status": "ok",
     "timestamp": 1563390860816,
     "user": {
      "displayName": "Thibault Foureur",
      "photoUrl": "",
      "userId": "09770321977413832787"
     },
     "user_tz": -120
    },
    "id": "FpuX18DXUbGc",
    "outputId": "e57c20dc-10be-48f8-c7fd-0194ff73b5c1"
   },
   "outputs": [
    {
     "data": {
      "text/plain": [
       "count    270896.000000\n",
       "mean         76.871475\n",
       "std         164.569618\n",
       "min           1.000000\n",
       "25%          12.000000\n",
       "50%          24.000000\n",
       "75%          74.000000\n",
       "max       14621.000000\n",
       "Name: rating, dtype: float64"
      ]
     },
     "execution_count": 22,
     "metadata": {
      "tags": []
     },
     "output_type": "execute_result"
    }
   ],
   "source": [
    "ratings.groupby('userId')['rating'].count().describe()"
   ]
  },
  {
   "cell_type": "markdown",
   "metadata": {
    "colab_type": "text",
    "id": "oRnrxJSevBZf"
   },
   "source": [
    "Half of the users made less than 24 movie ratings and one of them rated as much as 14,261 movies"
   ]
  },
  {
   "cell_type": "code",
   "execution_count": 23,
   "metadata": {
    "colab": {
     "base_uri": "https://localhost:8080/",
     "height": 286
    },
    "colab_type": "code",
    "executionInfo": {
     "elapsed": 3093,
     "status": "ok",
     "timestamp": 1563390861736,
     "user": {
      "displayName": "Thibault Foureur",
      "photoUrl": "",
      "userId": "09770321977413832787"
     },
     "user_tz": -120
    },
    "id": "SUDC_QkhUZp9",
    "outputId": "6dc0c69c-a2da-4033-81df-90be24c5d854"
   },
   "outputs": [
    {
     "data": {
      "text/plain": [
       "<matplotlib.axes._subplots.AxesSubplot at 0x7f1801fbdfd0>"
      ]
     },
     "execution_count": 23,
     "metadata": {
      "tags": []
     },
     "output_type": "execute_result"
    },
    {
     "data": {
      "image/png": "[encoded data removed]",
      "text/plain": [
       "<Figure size 720x288 with 1 Axes>"
      ]
     },
     "metadata": {
      "tags": []
     },
     "output_type": "display_data"
    }
   ],
   "source": [
    "import matplotlib.pyplot as plt \n",
    "import seaborn as sns \n",
    "\n",
    "sns.set_style('white') \n",
    "%matplotlib inline \n",
    "\n",
    "plt.figure(figsize =(10, 4)) \n",
    "  \n",
    "ratings.groupby('userId')['rating'].count().clip(upper=200).hist(bins = 20) "
   ]
  },
  {
   "cell_type": "markdown",
   "metadata": {
    "colab_type": "text",
    "id": "BT_Tab2CIqrd"
   },
   "source": [
    "# Data preprocessing"
   ]
  },
  {
   "cell_type": "markdown",
   "metadata": {
    "colab_type": "text",
    "id": "KB-qMOANIqre"
   },
   "source": [
    "## Movies metadata"
   ]
  },
  {
   "cell_type": "markdown",
   "metadata": {
    "colab_type": "text",
    "id": "fji6sjpeh4wa"
   },
   "source": [
    "### Movies id"
   ]
  },
  {
   "cell_type": "markdown",
   "metadata": {
    "colab_type": "text",
    "id": "i68wTYqtlcdL"
   },
   "source": [
    "We want to convert movies_metadata id column into int64 type and to exclude movie with an id that couldn't be converted as such (NaN after using our convert_int function)"
   ]
  },
  {
   "cell_type": "code",
   "execution_count": 0,
   "metadata": {
    "colab": {},
    "colab_type": "code",
    "id": "q4gNM6CllXSK"
   },
   "outputs": [],
   "source": [
    "movies_metadata['id'] = movies_metadata['id'].apply(convert_int)\n"
   ]
  },
  {
   "cell_type": "code",
   "execution_count": 105,
   "metadata": {
    "colab": {
     "base_uri": "https://localhost:8080/",
     "height": 366
    },
    "colab_type": "code",
    "executionInfo": {
     "elapsed": 19885,
     "status": "ok",
     "timestamp": 1563396817334,
     "user": {
      "displayName": "Thibault Foureur",
      "photoUrl": "",
      "userId": "09770321977413832787"
     },
     "user_tz": -120
    },
    "id": "jROERyoHhyyc",
    "outputId": "ca9a3d73-cfda-4e85-b3e9-f619cbc71964"
   },
   "outputs": [
    {
     "data": {
      "text/html": [
       "<div>\n",
       "<style scoped>\n",
       "    .dataframe tbody tr th:only-of-type {\n",
       "        vertical-align: middle;\n",
       "    }\n",
       "\n",
       "    .dataframe tbody tr th {\n",
       "        vertical-align: top;\n",
       "    }\n",
       "\n",
       "    .dataframe thead th {\n",
       "        text-align: right;\n",
       "    }\n",
       "</style>\n",
       "<table border=\"1\" class=\"dataframe\">\n",
       "  <thead>\n",
       "    <tr style=\"text-align: right;\">\n",
       "      <th></th>\n",
       "      <th>adult</th>\n",
       "      <th>belongs_to_collection</th>\n",
       "      <th>budget</th>\n",
       "      <th>genres</th>\n",
       "      <th>homepage</th>\n",
       "      <th>id</th>\n",
       "      <th>imdb_id</th>\n",
       "      <th>original_language</th>\n",
       "      <th>original_title</th>\n",
       "      <th>overview</th>\n",
       "      <th>popularity</th>\n",
       "      <th>poster_path</th>\n",
       "      <th>production_companies</th>\n",
       "      <th>production_countries</th>\n",
       "      <th>release_date</th>\n",
       "      <th>revenue</th>\n",
       "      <th>runtime</th>\n",
       "      <th>spoken_languages</th>\n",
       "      <th>status</th>\n",
       "      <th>tagline</th>\n",
       "      <th>title</th>\n",
       "      <th>video</th>\n",
       "      <th>vote_average</th>\n",
       "      <th>vote_count</th>\n",
       "    </tr>\n",
       "  </thead>\n",
       "  <tbody>\n",
       "    <tr>\n",
       "      <th>19730</th>\n",
       "      <td>- Written by Ørnås</td>\n",
       "      <td>0.065736</td>\n",
       "      <td>/ff9qCepilowshEtG2GYWwzt2bs4.jpg</td>\n",
       "      <td>[{'name': 'Carousel Productions', 'id': 11176}...</td>\n",
       "      <td>[{'iso_3166_1': 'CA', 'name': 'Canada'}, {'iso...</td>\n",
       "      <td>NaN</td>\n",
       "      <td>0</td>\n",
       "      <td>104.0</td>\n",
       "      <td>[{'iso_639_1': 'en', 'name': 'English'}]</td>\n",
       "      <td>Released</td>\n",
       "      <td>NaN</td>\n",
       "      <td>Midnight Man</td>\n",
       "      <td>False</td>\n",
       "      <td>6.0</td>\n",
       "      <td>1</td>\n",
       "      <td>NaN</td>\n",
       "      <td>NaN</td>\n",
       "      <td>NaN</td>\n",
       "      <td>NaN</td>\n",
       "      <td>NaN</td>\n",
       "      <td>NaN</td>\n",
       "      <td>NaN</td>\n",
       "      <td>NaN</td>\n",
       "      <td>NaN</td>\n",
       "    </tr>\n",
       "    <tr>\n",
       "      <th>29503</th>\n",
       "      <td>Rune Balot goes to a casino connected to the ...</td>\n",
       "      <td>1.931659</td>\n",
       "      <td>/zV8bHuSL6WXoD6FWogP9j4x80bL.jpg</td>\n",
       "      <td>[{'name': 'Aniplex', 'id': 2883}, {'name': 'Go...</td>\n",
       "      <td>[{'iso_3166_1': 'US', 'name': 'United States o...</td>\n",
       "      <td>NaN</td>\n",
       "      <td>0</td>\n",
       "      <td>68.0</td>\n",
       "      <td>[{'iso_639_1': 'ja', 'name': '日本語'}]</td>\n",
       "      <td>Released</td>\n",
       "      <td>NaN</td>\n",
       "      <td>Mardock Scramble: The Third Exhaust</td>\n",
       "      <td>False</td>\n",
       "      <td>7.0</td>\n",
       "      <td>12</td>\n",
       "      <td>NaN</td>\n",
       "      <td>NaN</td>\n",
       "      <td>NaN</td>\n",
       "      <td>NaN</td>\n",
       "      <td>NaN</td>\n",
       "      <td>NaN</td>\n",
       "      <td>NaN</td>\n",
       "      <td>NaN</td>\n",
       "      <td>NaN</td>\n",
       "    </tr>\n",
       "    <tr>\n",
       "      <th>35587</th>\n",
       "      <td>Avalanche Sharks tells the story of a bikini ...</td>\n",
       "      <td>2.185485</td>\n",
       "      <td>/zaSf5OG7V8X8gqFvly88zDdRm46.jpg</td>\n",
       "      <td>[{'name': 'Odyssey Media', 'id': 17161}, {'nam...</td>\n",
       "      <td>[{'iso_3166_1': 'CA', 'name': 'Canada'}]</td>\n",
       "      <td>NaN</td>\n",
       "      <td>0</td>\n",
       "      <td>82.0</td>\n",
       "      <td>[{'iso_639_1': 'en', 'name': 'English'}]</td>\n",
       "      <td>Released</td>\n",
       "      <td>Beware Of Frost Bites</td>\n",
       "      <td>Avalanche Sharks</td>\n",
       "      <td>False</td>\n",
       "      <td>4.3</td>\n",
       "      <td>22</td>\n",
       "      <td>NaN</td>\n",
       "      <td>NaN</td>\n",
       "      <td>NaN</td>\n",
       "      <td>NaN</td>\n",
       "      <td>NaN</td>\n",
       "      <td>NaN</td>\n",
       "      <td>NaN</td>\n",
       "      <td>NaN</td>\n",
       "      <td>NaN</td>\n",
       "    </tr>\n",
       "  </tbody>\n",
       "</table>\n",
       "</div>"
      ],
      "text/plain": [
       "                                                   adult  ... vote_count\n",
       "19730                                 - Written by Ørnås  ...        NaN\n",
       "29503   Rune Balot goes to a casino connected to the ...  ...        NaN\n",
       "35587   Avalanche Sharks tells the story of a bikini ...  ...        NaN\n",
       "\n",
       "[3 rows x 24 columns]"
      ]
     },
     "execution_count": 105,
     "metadata": {
      "tags": []
     },
     "output_type": "execute_result"
    }
   ],
   "source": [
    "movies_metadata[movies_metadata['id'].isna()]"
   ]
  },
  {
   "cell_type": "markdown",
   "metadata": {
    "colab_type": "text",
    "id": "B_NbMwA6iX5e"
   },
   "source": [
    "3 movies need to be excluded here as their data seems to be in the wrong columns and they don't have any id to use them anyway"
   ]
  },
  {
   "cell_type": "code",
   "execution_count": 0,
   "metadata": {
    "colab": {},
    "colab_type": "code",
    "id": "QaAI7W6hiBAC"
   },
   "outputs": [],
   "source": [
    "movies_metadata = movies_metadata[~movies_metadata['id'].isna()]"
   ]
  },
  {
   "cell_type": "markdown",
   "metadata": {
    "colab_type": "text",
    "id": "1YjNM7Jielzk"
   },
   "source": [
    "### Genres"
   ]
  },
  {
   "cell_type": "markdown",
   "metadata": {
    "colab_type": "text",
    "id": "_6SXHab_Iqrf"
   },
   "source": [
    "We transform the genres column from the movies metadata from a list of dictionary to a list of genres, the same will be done for the producting company and for the spoken languages"
   ]
  },
  {
   "cell_type": "code",
   "execution_count": 0,
   "metadata": {
    "colab": {},
    "colab_type": "code",
    "id": "uFq0uIZkIqrf"
   },
   "outputs": [],
   "source": [
    "movies_metadata['genres'] = movies_metadata['genres'].fillna('[]').apply(literal_eval).apply(lambda x: list(d['name'] for d in x))"
   ]
  },
  {
   "cell_type": "code",
   "execution_count": 108,
   "metadata": {
    "colab": {
     "base_uri": "https://localhost:8080/",
     "height": 119
    },
    "colab_type": "code",
    "executionInfo": {
     "elapsed": 17444,
     "status": "ok",
     "timestamp": 1563396820271,
     "user": {
      "displayName": "Thibault Foureur",
      "photoUrl": "",
      "userId": "09770321977413832787"
     },
     "user_tz": -120
    },
    "id": "ZH9r5idnIqri",
    "outputId": "9b074578-4895-45b7-fab4-f2b2d45c5dac"
   },
   "outputs": [
    {
     "data": {
      "text/plain": [
       "0     [Animation, Comedy, Family]\n",
       "1    [Adventure, Fantasy, Family]\n",
       "2               [Romance, Comedy]\n",
       "3        [Comedy, Drama, Romance]\n",
       "4                        [Comedy]\n",
       "Name: genres, dtype: object"
      ]
     },
     "execution_count": 108,
     "metadata": {
      "tags": []
     },
     "output_type": "execute_result"
    }
   ],
   "source": [
    "movies_metadata['genres'][:5]"
   ]
  },
  {
   "cell_type": "code",
   "execution_count": 111,
   "metadata": {
    "colab": {
     "base_uri": "https://localhost:8080/",
     "height": 669
    },
    "colab_type": "code",
    "executionInfo": {
     "elapsed": 35570,
     "status": "ok",
     "timestamp": 1563396854407,
     "user": {
      "displayName": "Thibault Foureur",
      "photoUrl": "",
      "userId": "09770321977413832787"
     },
     "user_tz": -120
    },
    "id": "RjQuUJ1Lo0Uy",
    "outputId": "064cfc4a-f0e0-447d-9fc9-26e9f0fd3a7a"
   },
   "outputs": [
    {
     "data": {
      "text/html": [
       "<div>\n",
       "<style scoped>\n",
       "    .dataframe tbody tr th:only-of-type {\n",
       "        vertical-align: middle;\n",
       "    }\n",
       "\n",
       "    .dataframe tbody tr th {\n",
       "        vertical-align: top;\n",
       "    }\n",
       "\n",
       "    .dataframe thead th {\n",
       "        text-align: right;\n",
       "    }\n",
       "</style>\n",
       "<table border=\"1\" class=\"dataframe\">\n",
       "  <thead>\n",
       "    <tr style=\"text-align: right;\">\n",
       "      <th></th>\n",
       "      <th>index</th>\n",
       "      <th>0</th>\n",
       "    </tr>\n",
       "  </thead>\n",
       "  <tbody>\n",
       "    <tr>\n",
       "      <th>0</th>\n",
       "      <td>Drama</td>\n",
       "      <td>20265</td>\n",
       "    </tr>\n",
       "    <tr>\n",
       "      <th>1</th>\n",
       "      <td>Comedy</td>\n",
       "      <td>13182</td>\n",
       "    </tr>\n",
       "    <tr>\n",
       "      <th>2</th>\n",
       "      <td>Thriller</td>\n",
       "      <td>7624</td>\n",
       "    </tr>\n",
       "    <tr>\n",
       "      <th>3</th>\n",
       "      <td>Romance</td>\n",
       "      <td>6735</td>\n",
       "    </tr>\n",
       "    <tr>\n",
       "      <th>4</th>\n",
       "      <td>Action</td>\n",
       "      <td>6596</td>\n",
       "    </tr>\n",
       "    <tr>\n",
       "      <th>5</th>\n",
       "      <td>Horror</td>\n",
       "      <td>4673</td>\n",
       "    </tr>\n",
       "    <tr>\n",
       "      <th>6</th>\n",
       "      <td>Crime</td>\n",
       "      <td>4307</td>\n",
       "    </tr>\n",
       "    <tr>\n",
       "      <th>7</th>\n",
       "      <td>Documentary</td>\n",
       "      <td>3932</td>\n",
       "    </tr>\n",
       "    <tr>\n",
       "      <th>8</th>\n",
       "      <td>Adventure</td>\n",
       "      <td>3496</td>\n",
       "    </tr>\n",
       "    <tr>\n",
       "      <th>9</th>\n",
       "      <td>Science Fiction</td>\n",
       "      <td>3049</td>\n",
       "    </tr>\n",
       "    <tr>\n",
       "      <th>10</th>\n",
       "      <td>Family</td>\n",
       "      <td>2770</td>\n",
       "    </tr>\n",
       "    <tr>\n",
       "      <th>11</th>\n",
       "      <td>Mystery</td>\n",
       "      <td>2467</td>\n",
       "    </tr>\n",
       "    <tr>\n",
       "      <th>12</th>\n",
       "      <td>Fantasy</td>\n",
       "      <td>2313</td>\n",
       "    </tr>\n",
       "    <tr>\n",
       "      <th>13</th>\n",
       "      <td>Animation</td>\n",
       "      <td>1935</td>\n",
       "    </tr>\n",
       "    <tr>\n",
       "      <th>14</th>\n",
       "      <td>Foreign</td>\n",
       "      <td>1622</td>\n",
       "    </tr>\n",
       "    <tr>\n",
       "      <th>15</th>\n",
       "      <td>Music</td>\n",
       "      <td>1598</td>\n",
       "    </tr>\n",
       "    <tr>\n",
       "      <th>16</th>\n",
       "      <td>History</td>\n",
       "      <td>1398</td>\n",
       "    </tr>\n",
       "    <tr>\n",
       "      <th>17</th>\n",
       "      <td>War</td>\n",
       "      <td>1323</td>\n",
       "    </tr>\n",
       "    <tr>\n",
       "      <th>18</th>\n",
       "      <td>Western</td>\n",
       "      <td>1042</td>\n",
       "    </tr>\n",
       "    <tr>\n",
       "      <th>19</th>\n",
       "      <td>TV Movie</td>\n",
       "      <td>767</td>\n",
       "    </tr>\n",
       "  </tbody>\n",
       "</table>\n",
       "</div>"
      ],
      "text/plain": [
       "              index      0\n",
       "0             Drama  20265\n",
       "1            Comedy  13182\n",
       "2          Thriller   7624\n",
       "3           Romance   6735\n",
       "4            Action   6596\n",
       "5            Horror   4673\n",
       "6             Crime   4307\n",
       "7       Documentary   3932\n",
       "8         Adventure   3496\n",
       "9   Science Fiction   3049\n",
       "10           Family   2770\n",
       "11          Mystery   2467\n",
       "12          Fantasy   2313\n",
       "13        Animation   1935\n",
       "14          Foreign   1622\n",
       "15            Music   1598\n",
       "16          History   1398\n",
       "17              War   1323\n",
       "18          Western   1042\n",
       "19         TV Movie    767"
      ]
     },
     "execution_count": 111,
     "metadata": {
      "tags": []
     },
     "output_type": "execute_result"
    }
   ],
   "source": [
    "genre_occurences = movies_metadata['genres'].apply(pd.Series).stack().value_counts()\n",
    "genre_occurences.reset_index()"
   ]
  },
  {
   "cell_type": "markdown",
   "metadata": {
    "colab_type": "text",
    "id": "wAhfkuNMjLZS"
   },
   "source": [
    "### Production companies"
   ]
  },
  {
   "cell_type": "code",
   "execution_count": 0,
   "metadata": {
    "colab": {},
    "colab_type": "code",
    "id": "yIpGazgIb7R9"
   },
   "outputs": [],
   "source": [
    "movies_metadata['production_companies'] = movies_metadata['production_companies'].fillna('[]').apply(literal_eval).apply(lambda x: list(d['name'] for d in x))"
   ]
  },
  {
   "cell_type": "code",
   "execution_count": 110,
   "metadata": {
    "colab": {
     "base_uri": "https://localhost:8080/",
     "height": 1000
    },
    "colab_type": "code",
    "executionInfo": {
     "elapsed": 23332,
     "status": "ok",
     "timestamp": 1563396838718,
     "user": {
      "displayName": "Thibault Foureur",
      "photoUrl": "",
      "userId": "09770321977413832787"
     },
     "user_tz": -120
    },
    "id": "UzbnD6Izi6Co",
    "outputId": "b0a5a5f0-6ce4-405d-db55-058849e2dd1f"
   },
   "outputs": [
    {
     "data": {
      "text/html": [
       "<div>\n",
       "<style scoped>\n",
       "    .dataframe tbody tr th:only-of-type {\n",
       "        vertical-align: middle;\n",
       "    }\n",
       "\n",
       "    .dataframe tbody tr th {\n",
       "        vertical-align: top;\n",
       "    }\n",
       "\n",
       "    .dataframe thead th {\n",
       "        text-align: right;\n",
       "    }\n",
       "</style>\n",
       "<table border=\"1\" class=\"dataframe\">\n",
       "  <thead>\n",
       "    <tr style=\"text-align: right;\">\n",
       "      <th></th>\n",
       "      <th>index</th>\n",
       "      <th>0</th>\n",
       "    </tr>\n",
       "  </thead>\n",
       "  <tbody>\n",
       "    <tr>\n",
       "      <th>0</th>\n",
       "      <td>Warner Bros.</td>\n",
       "      <td>1250</td>\n",
       "    </tr>\n",
       "    <tr>\n",
       "      <th>1</th>\n",
       "      <td>Metro-Goldwyn-Mayer (MGM)</td>\n",
       "      <td>1076</td>\n",
       "    </tr>\n",
       "    <tr>\n",
       "      <th>2</th>\n",
       "      <td>Paramount Pictures</td>\n",
       "      <td>1003</td>\n",
       "    </tr>\n",
       "    <tr>\n",
       "      <th>3</th>\n",
       "      <td>Twentieth Century Fox Film Corporation</td>\n",
       "      <td>836</td>\n",
       "    </tr>\n",
       "    <tr>\n",
       "      <th>4</th>\n",
       "      <td>Universal Pictures</td>\n",
       "      <td>830</td>\n",
       "    </tr>\n",
       "    <tr>\n",
       "      <th>5</th>\n",
       "      <td>Columbia Pictures Corporation</td>\n",
       "      <td>448</td>\n",
       "    </tr>\n",
       "    <tr>\n",
       "      <th>6</th>\n",
       "      <td>Canal+</td>\n",
       "      <td>438</td>\n",
       "    </tr>\n",
       "    <tr>\n",
       "      <th>7</th>\n",
       "      <td>Columbia Pictures</td>\n",
       "      <td>431</td>\n",
       "    </tr>\n",
       "    <tr>\n",
       "      <th>8</th>\n",
       "      <td>RKO Radio Pictures</td>\n",
       "      <td>290</td>\n",
       "    </tr>\n",
       "    <tr>\n",
       "      <th>9</th>\n",
       "      <td>United Artists</td>\n",
       "      <td>279</td>\n",
       "    </tr>\n",
       "    <tr>\n",
       "      <th>10</th>\n",
       "      <td>New Line Cinema</td>\n",
       "      <td>277</td>\n",
       "    </tr>\n",
       "    <tr>\n",
       "      <th>11</th>\n",
       "      <td>Walt Disney Pictures</td>\n",
       "      <td>263</td>\n",
       "    </tr>\n",
       "    <tr>\n",
       "      <th>12</th>\n",
       "      <td>Touchstone Pictures</td>\n",
       "      <td>225</td>\n",
       "    </tr>\n",
       "    <tr>\n",
       "      <th>13</th>\n",
       "      <td>TriStar Pictures</td>\n",
       "      <td>197</td>\n",
       "    </tr>\n",
       "    <tr>\n",
       "      <th>14</th>\n",
       "      <td>Mosfilm</td>\n",
       "      <td>188</td>\n",
       "    </tr>\n",
       "    <tr>\n",
       "      <th>15</th>\n",
       "      <td>Miramax Films</td>\n",
       "      <td>183</td>\n",
       "    </tr>\n",
       "    <tr>\n",
       "      <th>16</th>\n",
       "      <td>France 2 Cinéma</td>\n",
       "      <td>168</td>\n",
       "    </tr>\n",
       "    <tr>\n",
       "      <th>17</th>\n",
       "      <td>Centre National de la Cinématographie (CNC)</td>\n",
       "      <td>163</td>\n",
       "    </tr>\n",
       "    <tr>\n",
       "      <th>18</th>\n",
       "      <td>Toho Company</td>\n",
       "      <td>142</td>\n",
       "    </tr>\n",
       "    <tr>\n",
       "      <th>19</th>\n",
       "      <td>BBC Films</td>\n",
       "      <td>131</td>\n",
       "    </tr>\n",
       "    <tr>\n",
       "      <th>20</th>\n",
       "      <td>Gaumont</td>\n",
       "      <td>126</td>\n",
       "    </tr>\n",
       "    <tr>\n",
       "      <th>21</th>\n",
       "      <td>StudioCanal</td>\n",
       "      <td>123</td>\n",
       "    </tr>\n",
       "    <tr>\n",
       "      <th>22</th>\n",
       "      <td>Relativity Media</td>\n",
       "      <td>119</td>\n",
       "    </tr>\n",
       "    <tr>\n",
       "      <th>23</th>\n",
       "      <td>British Broadcasting Corporation (BBC)</td>\n",
       "      <td>118</td>\n",
       "    </tr>\n",
       "    <tr>\n",
       "      <th>24</th>\n",
       "      <td>Walt Disney Productions</td>\n",
       "      <td>117</td>\n",
       "    </tr>\n",
       "    <tr>\n",
       "      <th>25</th>\n",
       "      <td>TF1 Films Production</td>\n",
       "      <td>117</td>\n",
       "    </tr>\n",
       "    <tr>\n",
       "      <th>26</th>\n",
       "      <td>Orion Pictures</td>\n",
       "      <td>111</td>\n",
       "    </tr>\n",
       "    <tr>\n",
       "      <th>27</th>\n",
       "      <td>Regency Enterprises</td>\n",
       "      <td>106</td>\n",
       "    </tr>\n",
       "    <tr>\n",
       "      <th>28</th>\n",
       "      <td>Village Roadshow Pictures</td>\n",
       "      <td>106</td>\n",
       "    </tr>\n",
       "    <tr>\n",
       "      <th>29</th>\n",
       "      <td>Lionsgate</td>\n",
       "      <td>98</td>\n",
       "    </tr>\n",
       "    <tr>\n",
       "      <th>...</th>\n",
       "      <td>...</td>\n",
       "      <td>...</td>\n",
       "    </tr>\n",
       "    <tr>\n",
       "      <th>23507</th>\n",
       "      <td>Odyssey Entertainmant</td>\n",
       "      <td>1</td>\n",
       "    </tr>\n",
       "    <tr>\n",
       "      <th>23508</th>\n",
       "      <td>Eye to Eye</td>\n",
       "      <td>1</td>\n",
       "    </tr>\n",
       "    <tr>\n",
       "      <th>23509</th>\n",
       "      <td>Orinward Ltd.</td>\n",
       "      <td>1</td>\n",
       "    </tr>\n",
       "    <tr>\n",
       "      <th>23510</th>\n",
       "      <td>Seven Cities Media</td>\n",
       "      <td>1</td>\n",
       "    </tr>\n",
       "    <tr>\n",
       "      <th>23511</th>\n",
       "      <td>Filmswell International Ltd.</td>\n",
       "      <td>1</td>\n",
       "    </tr>\n",
       "    <tr>\n",
       "      <th>23512</th>\n",
       "      <td>Rolize GmbH &amp; Co.</td>\n",
       "      <td>1</td>\n",
       "    </tr>\n",
       "    <tr>\n",
       "      <th>23513</th>\n",
       "      <td>Escazal Films</td>\n",
       "      <td>1</td>\n",
       "    </tr>\n",
       "    <tr>\n",
       "      <th>23514</th>\n",
       "      <td>Montauk Films</td>\n",
       "      <td>1</td>\n",
       "    </tr>\n",
       "    <tr>\n",
       "      <th>23515</th>\n",
       "      <td>Pakhshiran</td>\n",
       "      <td>1</td>\n",
       "    </tr>\n",
       "    <tr>\n",
       "      <th>23516</th>\n",
       "      <td>M7200 Productions</td>\n",
       "      <td>1</td>\n",
       "    </tr>\n",
       "    <tr>\n",
       "      <th>23517</th>\n",
       "      <td>Pelican Point Media</td>\n",
       "      <td>1</td>\n",
       "    </tr>\n",
       "    <tr>\n",
       "      <th>23518</th>\n",
       "      <td>Sofiya</td>\n",
       "      <td>1</td>\n",
       "    </tr>\n",
       "    <tr>\n",
       "      <th>23519</th>\n",
       "      <td>Tactical Media Productions</td>\n",
       "      <td>1</td>\n",
       "    </tr>\n",
       "    <tr>\n",
       "      <th>23520</th>\n",
       "      <td>Durga Entertainment</td>\n",
       "      <td>1</td>\n",
       "    </tr>\n",
       "    <tr>\n",
       "      <th>23521</th>\n",
       "      <td>Ledge Productions</td>\n",
       "      <td>1</td>\n",
       "    </tr>\n",
       "    <tr>\n",
       "      <th>23522</th>\n",
       "      <td>Golden Port Productions Ltd.</td>\n",
       "      <td>1</td>\n",
       "    </tr>\n",
       "    <tr>\n",
       "      <th>23523</th>\n",
       "      <td>Pro7</td>\n",
       "      <td>1</td>\n",
       "    </tr>\n",
       "    <tr>\n",
       "      <th>23524</th>\n",
       "      <td>Caviar</td>\n",
       "      <td>1</td>\n",
       "    </tr>\n",
       "    <tr>\n",
       "      <th>23525</th>\n",
       "      <td>TBS Radio &amp; Communications</td>\n",
       "      <td>1</td>\n",
       "    </tr>\n",
       "    <tr>\n",
       "      <th>23526</th>\n",
       "      <td>FTG Media</td>\n",
       "      <td>1</td>\n",
       "    </tr>\n",
       "    <tr>\n",
       "      <th>23527</th>\n",
       "      <td>Polaris Pictures</td>\n",
       "      <td>1</td>\n",
       "    </tr>\n",
       "    <tr>\n",
       "      <th>23528</th>\n",
       "      <td>Babibutafilm</td>\n",
       "      <td>1</td>\n",
       "    </tr>\n",
       "    <tr>\n",
       "      <th>23529</th>\n",
       "      <td>Embassy Productions</td>\n",
       "      <td>1</td>\n",
       "    </tr>\n",
       "    <tr>\n",
       "      <th>23530</th>\n",
       "      <td>Kingdom of Light Entertainment</td>\n",
       "      <td>1</td>\n",
       "    </tr>\n",
       "    <tr>\n",
       "      <th>23531</th>\n",
       "      <td>Obelisk Productions</td>\n",
       "      <td>1</td>\n",
       "    </tr>\n",
       "    <tr>\n",
       "      <th>23532</th>\n",
       "      <td>Bulletproof Films</td>\n",
       "      <td>1</td>\n",
       "    </tr>\n",
       "    <tr>\n",
       "      <th>23533</th>\n",
       "      <td>Bee Train</td>\n",
       "      <td>1</td>\n",
       "    </tr>\n",
       "    <tr>\n",
       "      <th>23534</th>\n",
       "      <td>First Choice Canadian Communication Corporation</td>\n",
       "      <td>1</td>\n",
       "    </tr>\n",
       "    <tr>\n",
       "      <th>23535</th>\n",
       "      <td>Goldmine Pictures</td>\n",
       "      <td>1</td>\n",
       "    </tr>\n",
       "    <tr>\n",
       "      <th>23536</th>\n",
       "      <td>Saeculum Productions</td>\n",
       "      <td>1</td>\n",
       "    </tr>\n",
       "  </tbody>\n",
       "</table>\n",
       "<p>23537 rows × 2 columns</p>\n",
       "</div>"
      ],
      "text/plain": [
       "                                                 index     0\n",
       "0                                         Warner Bros.  1250\n",
       "1                            Metro-Goldwyn-Mayer (MGM)  1076\n",
       "2                                   Paramount Pictures  1003\n",
       "3               Twentieth Century Fox Film Corporation   836\n",
       "4                                   Universal Pictures   830\n",
       "5                        Columbia Pictures Corporation   448\n",
       "6                                               Canal+   438\n",
       "7                                    Columbia Pictures   431\n",
       "8                                   RKO Radio Pictures   290\n",
       "9                                       United Artists   279\n",
       "10                                     New Line Cinema   277\n",
       "11                                Walt Disney Pictures   263\n",
       "12                                 Touchstone Pictures   225\n",
       "13                                    TriStar Pictures   197\n",
       "14                                             Mosfilm   188\n",
       "15                                       Miramax Films   183\n",
       "16                                     France 2 Cinéma   168\n",
       "17         Centre National de la Cinématographie (CNC)   163\n",
       "18                                        Toho Company   142\n",
       "19                                           BBC Films   131\n",
       "20                                             Gaumont   126\n",
       "21                                         StudioCanal   123\n",
       "22                                    Relativity Media   119\n",
       "23              British Broadcasting Corporation (BBC)   118\n",
       "24                             Walt Disney Productions   117\n",
       "25                                TF1 Films Production   117\n",
       "26                                      Orion Pictures   111\n",
       "27                                 Regency Enterprises   106\n",
       "28                           Village Roadshow Pictures   106\n",
       "29                                           Lionsgate    98\n",
       "...                                                ...   ...\n",
       "23507                            Odyssey Entertainmant     1\n",
       "23508                                       Eye to Eye     1\n",
       "23509                                    Orinward Ltd.     1\n",
       "23510                               Seven Cities Media     1\n",
       "23511                     Filmswell International Ltd.     1\n",
       "23512                                Rolize GmbH & Co.     1\n",
       "23513                                    Escazal Films     1\n",
       "23514                                    Montauk Films     1\n",
       "23515                                       Pakhshiran     1\n",
       "23516                                M7200 Productions     1\n",
       "23517                              Pelican Point Media     1\n",
       "23518                                           Sofiya     1\n",
       "23519                       Tactical Media Productions     1\n",
       "23520                              Durga Entertainment     1\n",
       "23521                                Ledge Productions     1\n",
       "23522                     Golden Port Productions Ltd.     1\n",
       "23523                                             Pro7     1\n",
       "23524                                           Caviar     1\n",
       "23525                       TBS Radio & Communications     1\n",
       "23526                                        FTG Media     1\n",
       "23527                                 Polaris Pictures     1\n",
       "23528                                     Babibutafilm     1\n",
       "23529                              Embassy Productions     1\n",
       "23530                   Kingdom of Light Entertainment     1\n",
       "23531                              Obelisk Productions     1\n",
       "23532                                Bulletproof Films     1\n",
       "23533                                        Bee Train     1\n",
       "23534  First Choice Canadian Communication Corporation     1\n",
       "23535                                Goldmine Pictures     1\n",
       "23536                             Saeculum Productions     1\n",
       "\n",
       "[23537 rows x 2 columns]"
      ]
     },
     "execution_count": 110,
     "metadata": {
      "tags": []
     },
     "output_type": "execute_result"
    }
   ],
   "source": [
    "production_occurences = movies_metadata['production_companies'].apply(pd.Series).stack().value_counts()\n",
    "production_occurences.reset_index()"
   ]
  },
  {
   "cell_type": "markdown",
   "metadata": {
    "colab_type": "text",
    "id": "gq6boOOBjN0B"
   },
   "source": [
    "### Spoken languages"
   ]
  },
  {
   "cell_type": "code",
   "execution_count": 0,
   "metadata": {
    "colab": {},
    "colab_type": "code",
    "id": "uXuGJHHIjTYT"
   },
   "outputs": [],
   "source": [
    "movies_metadata['spoken_languages'] = movies_metadata['spoken_languages'].fillna('[]').apply(literal_eval).apply(lambda x: list(d['name'] for d in x))"
   ]
  },
  {
   "cell_type": "code",
   "execution_count": 113,
   "metadata": {
    "colab": {
     "base_uri": "https://localhost:8080/",
     "height": 1000
    },
    "colab_type": "code",
    "executionInfo": {
     "elapsed": 48284,
     "status": "ok",
     "timestamp": 1563396872312,
     "user": {
      "displayName": "Thibault Foureur",
      "photoUrl": "",
      "userId": "09770321977413832787"
     },
     "user_tz": -120
    },
    "id": "RJxW1HiBjUge",
    "outputId": "55a0c803-34bd-494d-b330-7d655a4bb2a7"
   },
   "outputs": [
    {
     "data": {
      "text/html": [
       "<div>\n",
       "<style scoped>\n",
       "    .dataframe tbody tr th:only-of-type {\n",
       "        vertical-align: middle;\n",
       "    }\n",
       "\n",
       "    .dataframe tbody tr th {\n",
       "        vertical-align: top;\n",
       "    }\n",
       "\n",
       "    .dataframe thead th {\n",
       "        text-align: right;\n",
       "    }\n",
       "</style>\n",
       "<table border=\"1\" class=\"dataframe\">\n",
       "  <thead>\n",
       "    <tr style=\"text-align: right;\">\n",
       "      <th></th>\n",
       "      <th>index</th>\n",
       "      <th>0</th>\n",
       "    </tr>\n",
       "  </thead>\n",
       "  <tbody>\n",
       "    <tr>\n",
       "      <th>0</th>\n",
       "      <td>English</td>\n",
       "      <td>28745</td>\n",
       "    </tr>\n",
       "    <tr>\n",
       "      <th>1</th>\n",
       "      <td>Français</td>\n",
       "      <td>4196</td>\n",
       "    </tr>\n",
       "    <tr>\n",
       "      <th>2</th>\n",
       "      <td>Deutsch</td>\n",
       "      <td>2625</td>\n",
       "    </tr>\n",
       "    <tr>\n",
       "      <th>3</th>\n",
       "      <td>Español</td>\n",
       "      <td>2413</td>\n",
       "    </tr>\n",
       "    <tr>\n",
       "      <th>4</th>\n",
       "      <td>Italiano</td>\n",
       "      <td>2367</td>\n",
       "    </tr>\n",
       "    <tr>\n",
       "      <th>5</th>\n",
       "      <td>日本語</td>\n",
       "      <td>1758</td>\n",
       "    </tr>\n",
       "    <tr>\n",
       "      <th>6</th>\n",
       "      <td>Pусский</td>\n",
       "      <td>1563</td>\n",
       "    </tr>\n",
       "    <tr>\n",
       "      <th>7</th>\n",
       "      <td>普通话</td>\n",
       "      <td>790</td>\n",
       "    </tr>\n",
       "    <tr>\n",
       "      <th>8</th>\n",
       "      <td>हिन्दी</td>\n",
       "      <td>707</td>\n",
       "    </tr>\n",
       "    <tr>\n",
       "      <th>9</th>\n",
       "      <td>Português</td>\n",
       "      <td>591</td>\n",
       "    </tr>\n",
       "    <tr>\n",
       "      <th>10</th>\n",
       "      <td>svenska</td>\n",
       "      <td>560</td>\n",
       "    </tr>\n",
       "    <tr>\n",
       "      <th>11</th>\n",
       "      <td>한국어/조선말</td>\n",
       "      <td>542</td>\n",
       "    </tr>\n",
       "    <tr>\n",
       "      <th>12</th>\n",
       "      <td>Polski</td>\n",
       "      <td>524</td>\n",
       "    </tr>\n",
       "    <tr>\n",
       "      <th>13</th>\n",
       "      <td></td>\n",
       "      <td>498</td>\n",
       "    </tr>\n",
       "    <tr>\n",
       "      <th>14</th>\n",
       "      <td>广州话 / 廣州話</td>\n",
       "      <td>473</td>\n",
       "    </tr>\n",
       "    <tr>\n",
       "      <th>15</th>\n",
       "      <td>suomi</td>\n",
       "      <td>371</td>\n",
       "    </tr>\n",
       "    <tr>\n",
       "      <th>16</th>\n",
       "      <td>Magyar</td>\n",
       "      <td>360</td>\n",
       "    </tr>\n",
       "    <tr>\n",
       "      <th>17</th>\n",
       "      <td>العربية</td>\n",
       "      <td>341</td>\n",
       "    </tr>\n",
       "    <tr>\n",
       "      <th>18</th>\n",
       "      <td>Nederlands</td>\n",
       "      <td>340</td>\n",
       "    </tr>\n",
       "    <tr>\n",
       "      <th>19</th>\n",
       "      <td>No Language</td>\n",
       "      <td>319</td>\n",
       "    </tr>\n",
       "    <tr>\n",
       "      <th>20</th>\n",
       "      <td>Dansk</td>\n",
       "      <td>302</td>\n",
       "    </tr>\n",
       "    <tr>\n",
       "      <th>21</th>\n",
       "      <td>Český</td>\n",
       "      <td>284</td>\n",
       "    </tr>\n",
       "    <tr>\n",
       "      <th>22</th>\n",
       "      <td>Türkçe</td>\n",
       "      <td>247</td>\n",
       "    </tr>\n",
       "    <tr>\n",
       "      <th>23</th>\n",
       "      <td>עִבְרִית</td>\n",
       "      <td>215</td>\n",
       "    </tr>\n",
       "    <tr>\n",
       "      <th>24</th>\n",
       "      <td>ελληνικά</td>\n",
       "      <td>213</td>\n",
       "    </tr>\n",
       "    <tr>\n",
       "      <th>25</th>\n",
       "      <td>ภาษาไทย</td>\n",
       "      <td>176</td>\n",
       "    </tr>\n",
       "    <tr>\n",
       "      <th>26</th>\n",
       "      <td>Norsk</td>\n",
       "      <td>171</td>\n",
       "    </tr>\n",
       "    <tr>\n",
       "      <th>27</th>\n",
       "      <td>فارسی</td>\n",
       "      <td>142</td>\n",
       "    </tr>\n",
       "    <tr>\n",
       "      <th>28</th>\n",
       "      <td>Latin</td>\n",
       "      <td>140</td>\n",
       "    </tr>\n",
       "    <tr>\n",
       "      <th>29</th>\n",
       "      <td>Română</td>\n",
       "      <td>128</td>\n",
       "    </tr>\n",
       "    <tr>\n",
       "      <th>...</th>\n",
       "      <td>...</td>\n",
       "      <td>...</td>\n",
       "    </tr>\n",
       "    <tr>\n",
       "      <th>45</th>\n",
       "      <td>shqip</td>\n",
       "      <td>29</td>\n",
       "    </tr>\n",
       "    <tr>\n",
       "      <th>46</th>\n",
       "      <td>Afrikaans</td>\n",
       "      <td>28</td>\n",
       "    </tr>\n",
       "    <tr>\n",
       "      <th>47</th>\n",
       "      <td>Lietuvikai</td>\n",
       "      <td>26</td>\n",
       "    </tr>\n",
       "    <tr>\n",
       "      <th>48</th>\n",
       "      <td>Slovenčina</td>\n",
       "      <td>25</td>\n",
       "    </tr>\n",
       "    <tr>\n",
       "      <th>49</th>\n",
       "      <td>Kiswahili</td>\n",
       "      <td>24</td>\n",
       "    </tr>\n",
       "    <tr>\n",
       "      <th>50</th>\n",
       "      <td>Slovenščina</td>\n",
       "      <td>22</td>\n",
       "    </tr>\n",
       "    <tr>\n",
       "      <th>51</th>\n",
       "      <td>Latviešu</td>\n",
       "      <td>21</td>\n",
       "    </tr>\n",
       "    <tr>\n",
       "      <th>52</th>\n",
       "      <td>Gaeilge</td>\n",
       "      <td>21</td>\n",
       "    </tr>\n",
       "    <tr>\n",
       "      <th>53</th>\n",
       "      <td>isiZulu</td>\n",
       "      <td>18</td>\n",
       "    </tr>\n",
       "    <tr>\n",
       "      <th>54</th>\n",
       "      <td>ਪੰਜਾਬੀ</td>\n",
       "      <td>18</td>\n",
       "    </tr>\n",
       "    <tr>\n",
       "      <th>55</th>\n",
       "      <td>Bahasa melayu</td>\n",
       "      <td>16</td>\n",
       "    </tr>\n",
       "    <tr>\n",
       "      <th>56</th>\n",
       "      <td>euskera</td>\n",
       "      <td>16</td>\n",
       "    </tr>\n",
       "    <tr>\n",
       "      <th>57</th>\n",
       "      <td>Wolof</td>\n",
       "      <td>14</td>\n",
       "    </tr>\n",
       "    <tr>\n",
       "      <th>58</th>\n",
       "      <td>қазақ</td>\n",
       "      <td>11</td>\n",
       "    </tr>\n",
       "    <tr>\n",
       "      <th>59</th>\n",
       "      <td>Somali</td>\n",
       "      <td>9</td>\n",
       "    </tr>\n",
       "    <tr>\n",
       "      <th>60</th>\n",
       "      <td>Cymraeg</td>\n",
       "      <td>9</td>\n",
       "    </tr>\n",
       "    <tr>\n",
       "      <th>61</th>\n",
       "      <td>پښتو</td>\n",
       "      <td>8</td>\n",
       "    </tr>\n",
       "    <tr>\n",
       "      <th>62</th>\n",
       "      <td>Esperanto</td>\n",
       "      <td>7</td>\n",
       "    </tr>\n",
       "    <tr>\n",
       "      <th>63</th>\n",
       "      <td>Bamanankan</td>\n",
       "      <td>6</td>\n",
       "    </tr>\n",
       "    <tr>\n",
       "      <th>64</th>\n",
       "      <td>??????</td>\n",
       "      <td>5</td>\n",
       "    </tr>\n",
       "    <tr>\n",
       "      <th>65</th>\n",
       "      <td>Galego</td>\n",
       "      <td>5</td>\n",
       "    </tr>\n",
       "    <tr>\n",
       "      <th>66</th>\n",
       "      <td>Azərbaycan</td>\n",
       "      <td>4</td>\n",
       "    </tr>\n",
       "    <tr>\n",
       "      <th>67</th>\n",
       "      <td>?????</td>\n",
       "      <td>4</td>\n",
       "    </tr>\n",
       "    <tr>\n",
       "      <th>68</th>\n",
       "      <td>Malti</td>\n",
       "      <td>3</td>\n",
       "    </tr>\n",
       "    <tr>\n",
       "      <th>69</th>\n",
       "      <td>Kinyarwanda</td>\n",
       "      <td>3</td>\n",
       "    </tr>\n",
       "    <tr>\n",
       "      <th>70</th>\n",
       "      <td>Bokmål</td>\n",
       "      <td>3</td>\n",
       "    </tr>\n",
       "    <tr>\n",
       "      <th>71</th>\n",
       "      <td>ozbek</td>\n",
       "      <td>2</td>\n",
       "    </tr>\n",
       "    <tr>\n",
       "      <th>72</th>\n",
       "      <td>беларуская мова</td>\n",
       "      <td>2</td>\n",
       "    </tr>\n",
       "    <tr>\n",
       "      <th>73</th>\n",
       "      <td>Fulfulde</td>\n",
       "      <td>2</td>\n",
       "    </tr>\n",
       "    <tr>\n",
       "      <th>74</th>\n",
       "      <td>Hausa</td>\n",
       "      <td>1</td>\n",
       "    </tr>\n",
       "  </tbody>\n",
       "</table>\n",
       "<p>75 rows × 2 columns</p>\n",
       "</div>"
      ],
      "text/plain": [
       "              index      0\n",
       "0           English  28745\n",
       "1          Français   4196\n",
       "2           Deutsch   2625\n",
       "3           Español   2413\n",
       "4          Italiano   2367\n",
       "5               日本語   1758\n",
       "6           Pусский   1563\n",
       "7               普通话    790\n",
       "8            हिन्दी    707\n",
       "9         Português    591\n",
       "10          svenska    560\n",
       "11          한국어/조선말    542\n",
       "12           Polski    524\n",
       "13                     498\n",
       "14        广州话 / 廣州話    473\n",
       "15            suomi    371\n",
       "16           Magyar    360\n",
       "17          العربية    341\n",
       "18       Nederlands    340\n",
       "19      No Language    319\n",
       "20            Dansk    302\n",
       "21            Český    284\n",
       "22           Türkçe    247\n",
       "23         עִבְרִית    215\n",
       "24         ελληνικά    213\n",
       "25          ภาษาไทย    176\n",
       "26            Norsk    171\n",
       "27            فارسی    142\n",
       "28            Latin    140\n",
       "29           Română    128\n",
       "..              ...    ...\n",
       "45            shqip     29\n",
       "46        Afrikaans     28\n",
       "47      Lietuvikai     26\n",
       "48       Slovenčina     25\n",
       "49        Kiswahili     24\n",
       "50      Slovenščina     22\n",
       "51         Latviešu     21\n",
       "52          Gaeilge     21\n",
       "53          isiZulu     18\n",
       "54           ਪੰਜਾਬੀ     18\n",
       "55    Bahasa melayu     16\n",
       "56          euskera     16\n",
       "57            Wolof     14\n",
       "58            қазақ     11\n",
       "59           Somali      9\n",
       "60          Cymraeg      9\n",
       "61             پښتو      8\n",
       "62        Esperanto      7\n",
       "63       Bamanankan      6\n",
       "64           ??????      5\n",
       "65           Galego      5\n",
       "66       Azərbaycan      4\n",
       "67            ?????      4\n",
       "68            Malti      3\n",
       "69      Kinyarwanda      3\n",
       "70           Bokmål      3\n",
       "71            ozbek      2\n",
       "72  беларуская мова      2\n",
       "73         Fulfulde      2\n",
       "74            Hausa      1\n",
       "\n",
       "[75 rows x 2 columns]"
      ]
     },
     "execution_count": 113,
     "metadata": {
      "tags": []
     },
     "output_type": "execute_result"
    }
   ],
   "source": [
    "spoken_languages_occurences = movies_metadata['spoken_languages'].apply(pd.Series).stack().value_counts()\n",
    "spoken_languages_occurences.reset_index()"
   ]
  },
  {
   "cell_type": "markdown",
   "metadata": {
    "colab_type": "text",
    "id": "nA1U46JkjQOs"
   },
   "source": []
  },
  {
   "cell_type": "markdown",
   "metadata": {
    "colab_type": "text",
    "id": "h1hheKggjBCE"
   },
   "source": [
    "### Weighted rating"
   ]
  },
  {
   "cell_type": "markdown",
   "metadata": {
    "colab_type": "text",
    "id": "EY-V0MvGIqrp"
   },
   "source": [
    "We need to add a weightedrating to our movies metadata because a very highly rated movies with 5 votes can't be compared to a highly rated movie with 10,000 votes"
   ]
  },
  {
   "cell_type": "code",
   "execution_count": 114,
   "metadata": {
    "colab": {
     "base_uri": "https://localhost:8080/",
     "height": 34
    },
    "colab_type": "code",
    "executionInfo": {
     "elapsed": 44305,
     "status": "ok",
     "timestamp": 1563396872313,
     "user": {
      "displayName": "Thibault Foureur",
      "photoUrl": "",
      "userId": "09770321977413832787"
     },
     "user_tz": -120
    },
    "id": "ez4YfMcrIqrp",
    "outputId": "629fb7b8-eea4-4fb9-f42e-92bc205b92d8"
   },
   "outputs": [
    {
     "data": {
      "text/plain": [
       "5.618207215133889"
      ]
     },
     "execution_count": 114,
     "metadata": {
      "tags": []
     },
     "output_type": "execute_result"
    }
   ],
   "source": [
    "mean_rating = movies_metadata['vote_average'].mean()\n",
    "mean_rating"
   ]
  },
  {
   "cell_type": "code",
   "execution_count": 115,
   "metadata": {
    "colab": {
     "base_uri": "https://localhost:8080/",
     "height": 34
    },
    "colab_type": "code",
    "executionInfo": {
     "elapsed": 44038,
     "status": "ok",
     "timestamp": 1563396872313,
     "user": {
      "displayName": "Thibault Foureur",
      "photoUrl": "",
      "userId": "09770321977413832787"
     },
     "user_tz": -120
    },
    "id": "EU8TiK6TIqrs",
    "outputId": "962a4ff9-59d6-4cae-f8af-85999d286778"
   },
   "outputs": [
    {
     "data": {
      "text/plain": [
       "160.0"
      ]
     },
     "execution_count": 115,
     "metadata": {
      "tags": []
     },
     "output_type": "execute_result"
    }
   ],
   "source": [
    "vote_count_90 = movies_metadata['vote_count'].quantile(0.9)\n",
    "vote_count_90"
   ]
  },
  {
   "cell_type": "code",
   "execution_count": 0,
   "metadata": {
    "colab": {},
    "colab_type": "code",
    "id": "AnttJbwXIqru"
   },
   "outputs": [],
   "source": [
    "def weighted_rating(X,dataframe):\n",
    "    m = dataframe['vote_count'].quantile(0.9)\n",
    "    C = dataframe['vote_average'].mean()\n",
    "    v = X['vote_count']\n",
    "    R = X['vote_average']\n",
    "    return (v/(v+m) * R) + (m/(m+v) * C)"
   ]
  },
  {
   "cell_type": "code",
   "execution_count": 0,
   "metadata": {
    "colab": {},
    "colab_type": "code",
    "id": "_bOH1AsbIqrv"
   },
   "outputs": [],
   "source": [
    "movies_metadata['weighted_rating'] = movies_metadata.apply(lambda x: weighted_rating(x, movies_metadata), axis=1)"
   ]
  },
  {
   "cell_type": "code",
   "execution_count": 0,
   "metadata": {
    "colab": {},
    "colab_type": "code",
    "id": "dJucHRSDaHET"
   },
   "outputs": [],
   "source": [
    "movies_metadata.to_csv('result/movies_metadata_modified.csv', sep=';', encoding='utf-8-sig')"
   ]
  },
  {
   "cell_type": "code",
   "execution_count": 119,
   "metadata": {
    "colab": {
     "base_uri": "https://localhost:8080/",
     "height": 824
    },
    "colab_type": "code",
    "executionInfo": {
     "elapsed": 143951,
     "status": "ok",
     "timestamp": 1563396973280,
     "user": {
      "displayName": "Thibault Foureur",
      "photoUrl": "",
      "userId": "09770321977413832787"
     },
     "user_tz": -120
    },
    "id": "i1OUnGUs4R_N",
    "outputId": "f2143f0e-fb53-4633-8b75-9e1f77f5844c"
   },
   "outputs": [
    {
     "data": {
      "text/html": [
       "<div>\n",
       "<style scoped>\n",
       "    .dataframe tbody tr th:only-of-type {\n",
       "        vertical-align: middle;\n",
       "    }\n",
       "\n",
       "    .dataframe tbody tr th {\n",
       "        vertical-align: top;\n",
       "    }\n",
       "\n",
       "    .dataframe thead th {\n",
       "        text-align: right;\n",
       "    }\n",
       "</style>\n",
       "<table border=\"1\" class=\"dataframe\">\n",
       "  <thead>\n",
       "    <tr style=\"text-align: right;\">\n",
       "      <th></th>\n",
       "      <th>0</th>\n",
       "      <th>1</th>\n",
       "      <th>2</th>\n",
       "    </tr>\n",
       "  </thead>\n",
       "  <tbody>\n",
       "    <tr>\n",
       "      <th>adult</th>\n",
       "      <td>False</td>\n",
       "      <td>False</td>\n",
       "      <td>False</td>\n",
       "    </tr>\n",
       "    <tr>\n",
       "      <th>belongs_to_collection</th>\n",
       "      <td>{'id': 10194, 'name': 'Toy Story Collection', ...</td>\n",
       "      <td>NaN</td>\n",
       "      <td>{'id': 119050, 'name': 'Grumpy Old Men Collect...</td>\n",
       "    </tr>\n",
       "    <tr>\n",
       "      <th>budget</th>\n",
       "      <td>30000000</td>\n",
       "      <td>65000000</td>\n",
       "      <td>0</td>\n",
       "    </tr>\n",
       "    <tr>\n",
       "      <th>genres</th>\n",
       "      <td>[Animation, Comedy, Family]</td>\n",
       "      <td>[Adventure, Fantasy, Family]</td>\n",
       "      <td>[Romance, Comedy]</td>\n",
       "    </tr>\n",
       "    <tr>\n",
       "      <th>homepage</th>\n",
       "      <td>http://toystory.disney.com/toy-story</td>\n",
       "      <td>NaN</td>\n",
       "      <td>NaN</td>\n",
       "    </tr>\n",
       "    <tr>\n",
       "      <th>id</th>\n",
       "      <td>862</td>\n",
       "      <td>8844</td>\n",
       "      <td>15602</td>\n",
       "    </tr>\n",
       "    <tr>\n",
       "      <th>imdb_id</th>\n",
       "      <td>tt0114709</td>\n",
       "      <td>tt0113497</td>\n",
       "      <td>tt0113228</td>\n",
       "    </tr>\n",
       "    <tr>\n",
       "      <th>original_language</th>\n",
       "      <td>en</td>\n",
       "      <td>en</td>\n",
       "      <td>en</td>\n",
       "    </tr>\n",
       "    <tr>\n",
       "      <th>original_title</th>\n",
       "      <td>Toy Story</td>\n",
       "      <td>Jumanji</td>\n",
       "      <td>Grumpier Old Men</td>\n",
       "    </tr>\n",
       "    <tr>\n",
       "      <th>overview</th>\n",
       "      <td>Led by Woody, Andy's toys live happily in his ...</td>\n",
       "      <td>When siblings Judy and Peter discover an encha...</td>\n",
       "      <td>A family wedding reignites the ancient feud be...</td>\n",
       "    </tr>\n",
       "    <tr>\n",
       "      <th>popularity</th>\n",
       "      <td>21.9469</td>\n",
       "      <td>17.0155</td>\n",
       "      <td>11.7129</td>\n",
       "    </tr>\n",
       "    <tr>\n",
       "      <th>poster_path</th>\n",
       "      <td>/rhIRbceoE9lR4veEXuwCC2wARtG.jpg</td>\n",
       "      <td>/vzmL6fP7aPKNKPRTFnZmiUfciyV.jpg</td>\n",
       "      <td>/6ksm1sjKMFLbO7UY2i6G1ju9SML.jpg</td>\n",
       "    </tr>\n",
       "    <tr>\n",
       "      <th>production_companies</th>\n",
       "      <td>[Pixar Animation Studios]</td>\n",
       "      <td>[TriStar Pictures, Teitler Film, Interscope Co...</td>\n",
       "      <td>[Warner Bros., Lancaster Gate]</td>\n",
       "    </tr>\n",
       "    <tr>\n",
       "      <th>production_countries</th>\n",
       "      <td>[{'iso_3166_1': 'US', 'name': 'United States o...</td>\n",
       "      <td>[{'iso_3166_1': 'US', 'name': 'United States o...</td>\n",
       "      <td>[{'iso_3166_1': 'US', 'name': 'United States o...</td>\n",
       "    </tr>\n",
       "    <tr>\n",
       "      <th>release_date</th>\n",
       "      <td>1995-10-30</td>\n",
       "      <td>1995-12-15</td>\n",
       "      <td>1995-12-22</td>\n",
       "    </tr>\n",
       "    <tr>\n",
       "      <th>revenue</th>\n",
       "      <td>3.73554e+08</td>\n",
       "      <td>2.62797e+08</td>\n",
       "      <td>0</td>\n",
       "    </tr>\n",
       "    <tr>\n",
       "      <th>runtime</th>\n",
       "      <td>81</td>\n",
       "      <td>104</td>\n",
       "      <td>101</td>\n",
       "    </tr>\n",
       "    <tr>\n",
       "      <th>spoken_languages</th>\n",
       "      <td>[English]</td>\n",
       "      <td>[English, Français]</td>\n",
       "      <td>[English]</td>\n",
       "    </tr>\n",
       "    <tr>\n",
       "      <th>status</th>\n",
       "      <td>Released</td>\n",
       "      <td>Released</td>\n",
       "      <td>Released</td>\n",
       "    </tr>\n",
       "    <tr>\n",
       "      <th>tagline</th>\n",
       "      <td>NaN</td>\n",
       "      <td>Roll the dice and unleash the excitement!</td>\n",
       "      <td>Still Yelling. Still Fighting. Still Ready for...</td>\n",
       "    </tr>\n",
       "    <tr>\n",
       "      <th>title</th>\n",
       "      <td>Toy Story</td>\n",
       "      <td>Jumanji</td>\n",
       "      <td>Grumpier Old Men</td>\n",
       "    </tr>\n",
       "    <tr>\n",
       "      <th>video</th>\n",
       "      <td>False</td>\n",
       "      <td>False</td>\n",
       "      <td>False</td>\n",
       "    </tr>\n",
       "    <tr>\n",
       "      <th>vote_average</th>\n",
       "      <td>7.7</td>\n",
       "      <td>6.9</td>\n",
       "      <td>6.5</td>\n",
       "    </tr>\n",
       "    <tr>\n",
       "      <th>vote_count</th>\n",
       "      <td>5415</td>\n",
       "      <td>2413</td>\n",
       "      <td>92</td>\n",
       "    </tr>\n",
       "    <tr>\n",
       "      <th>weighted_rating</th>\n",
       "      <td>7.64025</td>\n",
       "      <td>6.82029</td>\n",
       "      <td>5.94013</td>\n",
       "    </tr>\n",
       "  </tbody>\n",
       "</table>\n",
       "</div>"
      ],
      "text/plain": [
       "                                                                       0  ...                                                  2\n",
       "adult                                                              False  ...                                              False\n",
       "belongs_to_collection  {'id': 10194, 'name': 'Toy Story Collection', ...  ...  {'id': 119050, 'name': 'Grumpy Old Men Collect...\n",
       "budget                                                          30000000  ...                                                  0\n",
       "genres                                       [Animation, Comedy, Family]  ...                                  [Romance, Comedy]\n",
       "homepage                            http://toystory.disney.com/toy-story  ...                                                NaN\n",
       "id                                                                   862  ...                                              15602\n",
       "imdb_id                                                        tt0114709  ...                                          tt0113228\n",
       "original_language                                                     en  ...                                                 en\n",
       "original_title                                                 Toy Story  ...                                   Grumpier Old Men\n",
       "overview               Led by Woody, Andy's toys live happily in his ...  ...  A family wedding reignites the ancient feud be...\n",
       "popularity                                                       21.9469  ...                                            11.7129\n",
       "poster_path                             /rhIRbceoE9lR4veEXuwCC2wARtG.jpg  ...                   /6ksm1sjKMFLbO7UY2i6G1ju9SML.jpg\n",
       "production_companies                           [Pixar Animation Studios]  ...                     [Warner Bros., Lancaster Gate]\n",
       "production_countries   [{'iso_3166_1': 'US', 'name': 'United States o...  ...  [{'iso_3166_1': 'US', 'name': 'United States o...\n",
       "release_date                                                  1995-10-30  ...                                         1995-12-22\n",
       "revenue                                                      3.73554e+08  ...                                                  0\n",
       "runtime                                                               81  ...                                                101\n",
       "spoken_languages                                               [English]  ...                                          [English]\n",
       "status                                                          Released  ...                                           Released\n",
       "tagline                                                              NaN  ...  Still Yelling. Still Fighting. Still Ready for...\n",
       "title                                                          Toy Story  ...                                   Grumpier Old Men\n",
       "video                                                              False  ...                                              False\n",
       "vote_average                                                         7.7  ...                                                6.5\n",
       "vote_count                                                          5415  ...                                                 92\n",
       "weighted_rating                                                  7.64025  ...                                            5.94013\n",
       "\n",
       "[25 rows x 3 columns]"
      ]
     },
     "execution_count": 119,
     "metadata": {
      "tags": []
     },
     "output_type": "execute_result"
    }
   ],
   "source": [
    "movies_metadata.iloc[0:3].transpose()"
   ]
  },
  {
   "cell_type": "markdown",
   "metadata": {
    "colab_type": "text",
    "id": "8yaOtW-YZcVG"
   },
   "source": [
    "# Data Viz"
   ]
  },
  {
   "cell_type": "markdown",
   "metadata": {
    "colab_type": "text",
    "id": "5cLSjFC2XIrK"
   },
   "source": [
    "## Genres representation in the movie metadata"
   ]
  },
  {
   "cell_type": "code",
   "execution_count": 40,
   "metadata": {
    "colab": {
     "base_uri": "https://localhost:8080/",
     "height": 409
    },
    "colab_type": "code",
    "executionInfo": {
     "elapsed": 134461,
     "status": "ok",
     "timestamp": 1563391007618,
     "user": {
      "displayName": "Thibault Foureur",
      "photoUrl": "",
      "userId": "09770321977413832787"
     },
     "user_tz": -120
    },
    "id": "hNypG2o_i5ne",
    "outputId": "14ba482d-4655-49d8-ea6e-5ca0633c120b"
   },
   "outputs": [
    {
     "data": {
      "image/png": "[encoded data removed]",
      "text/plain": [
       "<Figure size 1152x576 with 1 Axes>"
      ]
     },
     "metadata": {
      "tags": []
     },
     "output_type": "display_data"
    }
   ],
   "source": [
    "%matplotlib inline\n",
    "import wordcloud\n",
    "import matplotlib.pyplot as plt\n",
    "from wordcloud import WordCloud, STOPWORDS\n",
    "\n",
    "genres_dict = dict()\n",
    "for genres in genre_occurences.iteritems():\n",
    "  if genres[1] > 1 :\n",
    "    genres_dict[genres[0]] = genres[1]\n",
    "  \n",
    "genre_wordcloud = WordCloud(width=1000,height=400, background_color='white')\n",
    "genre_wordcloud.generate_from_frequencies(genres_dict)\n",
    "\n",
    "# Plot the wordcloud\n",
    "f, ax = plt.subplots(figsize=(16, 8))\n",
    "plt.imshow(genre_wordcloud, interpolation=\"bilinear\")\n",
    "plt.axis('off')\n",
    "plt.show()"
   ]
  },
  {
   "cell_type": "markdown",
   "metadata": {
    "colab_type": "text",
    "id": "WIgv0rnCXPQJ"
   },
   "source": [
    "## Rating per genre per year in the ratings dataset"
   ]
  },
  {
   "cell_type": "code",
   "execution_count": 0,
   "metadata": {
    "colab": {},
    "colab_type": "code",
    "id": "7QviFubzOzbh"
   },
   "outputs": [],
   "source": [
    "movies_genre = movies_metadata[['id','genres']]\n",
    "movies_genre = explode(movies_genre, ['genres'])"
   ]
  },
  {
   "cell_type": "code",
   "execution_count": 147,
   "metadata": {
    "colab": {
     "base_uri": "https://localhost:8080/",
     "height": 204
    },
    "colab_type": "code",
    "executionInfo": {
     "elapsed": 214295,
     "status": "ok",
     "timestamp": 1563386562101,
     "user": {
      "displayName": "Thibault Foureur",
      "photoUrl": "",
      "userId": "09770321977413832787"
     },
     "user_tz": -120
    },
    "id": "RswbMx5cP91x",
    "outputId": "d8be592e-579f-4189-9cd6-46b8e575b9a8"
   },
   "outputs": [
    {
     "data": {
      "text/html": [
       "<div>\n",
       "<style scoped>\n",
       "    .dataframe tbody tr th:only-of-type {\n",
       "        vertical-align: middle;\n",
       "    }\n",
       "\n",
       "    .dataframe tbody tr th {\n",
       "        vertical-align: top;\n",
       "    }\n",
       "\n",
       "    .dataframe thead th {\n",
       "        text-align: right;\n",
       "    }\n",
       "</style>\n",
       "<table border=\"1\" class=\"dataframe\">\n",
       "  <thead>\n",
       "    <tr style=\"text-align: right;\">\n",
       "      <th></th>\n",
       "      <th>userId</th>\n",
       "      <th>movieId</th>\n",
       "      <th>rating</th>\n",
       "      <th>timestamp</th>\n",
       "    </tr>\n",
       "  </thead>\n",
       "  <tbody>\n",
       "    <tr>\n",
       "      <th>0</th>\n",
       "      <td>1</td>\n",
       "      <td>81834</td>\n",
       "      <td>5.0</td>\n",
       "      <td>2015</td>\n",
       "    </tr>\n",
       "    <tr>\n",
       "      <th>1</th>\n",
       "      <td>1</td>\n",
       "      <td>112552</td>\n",
       "      <td>5.0</td>\n",
       "      <td>2015</td>\n",
       "    </tr>\n",
       "    <tr>\n",
       "      <th>2</th>\n",
       "      <td>1</td>\n",
       "      <td>98809</td>\n",
       "      <td>0.5</td>\n",
       "      <td>2015</td>\n",
       "    </tr>\n",
       "    <tr>\n",
       "      <th>3</th>\n",
       "      <td>1</td>\n",
       "      <td>99114</td>\n",
       "      <td>4.0</td>\n",
       "      <td>2015</td>\n",
       "    </tr>\n",
       "    <tr>\n",
       "      <th>4</th>\n",
       "      <td>1</td>\n",
       "      <td>858</td>\n",
       "      <td>5.0</td>\n",
       "      <td>2015</td>\n",
       "    </tr>\n",
       "  </tbody>\n",
       "</table>\n",
       "</div>"
      ],
      "text/plain": [
       "   userId  movieId  rating timestamp\n",
       "0       1    81834     5.0      2015\n",
       "1       1   112552     5.0      2015\n",
       "2       1    98809     0.5      2015\n",
       "3       1    99114     4.0      2015\n",
       "4       1      858     5.0      2015"
      ]
     },
     "execution_count": 147,
     "metadata": {
      "tags": []
     },
     "output_type": "execute_result"
    }
   ],
   "source": [
    "import time \n",
    "ratings_viz = ratings.copy()\n",
    "ratings_viz['timestamp'] = ratings_viz['timestamp'].apply(lambda x: time.strftime('%Y', time.localtime(x))) \n",
    "ratings_viz.head()"
   ]
  },
  {
   "cell_type": "code",
   "execution_count": 148,
   "metadata": {
    "colab": {
     "base_uri": "https://localhost:8080/",
     "height": 204
    },
    "colab_type": "code",
    "executionInfo": {
     "elapsed": 224842,
     "status": "ok",
     "timestamp": 1563386572867,
     "user": {
      "displayName": "Thibault Foureur",
      "photoUrl": "",
      "userId": "09770321977413832787"
     },
     "user_tz": -120
    },
    "id": "_DrnWaz_RFFp",
    "outputId": "dacadb70-dcd8-42d8-88fa-81339ac97a81"
   },
   "outputs": [
    {
     "data": {
      "text/html": [
       "<div>\n",
       "<style scoped>\n",
       "    .dataframe tbody tr th:only-of-type {\n",
       "        vertical-align: middle;\n",
       "    }\n",
       "\n",
       "    .dataframe tbody tr th {\n",
       "        vertical-align: top;\n",
       "    }\n",
       "\n",
       "    .dataframe thead th {\n",
       "        text-align: right;\n",
       "    }\n",
       "</style>\n",
       "<table border=\"1\" class=\"dataframe\">\n",
       "  <thead>\n",
       "    <tr style=\"text-align: right;\">\n",
       "      <th></th>\n",
       "      <th>userId</th>\n",
       "      <th>movieId</th>\n",
       "      <th>rating</th>\n",
       "      <th>timestamp</th>\n",
       "      <th>id</th>\n",
       "      <th>genres</th>\n",
       "    </tr>\n",
       "  </thead>\n",
       "  <tbody>\n",
       "    <tr>\n",
       "      <th>0</th>\n",
       "      <td>1</td>\n",
       "      <td>858</td>\n",
       "      <td>5.0</td>\n",
       "      <td>2015</td>\n",
       "      <td>858.0</td>\n",
       "      <td>Drama</td>\n",
       "    </tr>\n",
       "    <tr>\n",
       "      <th>1</th>\n",
       "      <td>1</td>\n",
       "      <td>858</td>\n",
       "      <td>5.0</td>\n",
       "      <td>2015</td>\n",
       "      <td>858.0</td>\n",
       "      <td>Romance</td>\n",
       "    </tr>\n",
       "    <tr>\n",
       "      <th>2</th>\n",
       "      <td>1</td>\n",
       "      <td>858</td>\n",
       "      <td>5.0</td>\n",
       "      <td>2015</td>\n",
       "      <td>858.0</td>\n",
       "      <td>Comedy</td>\n",
       "    </tr>\n",
       "    <tr>\n",
       "      <th>3</th>\n",
       "      <td>3</td>\n",
       "      <td>858</td>\n",
       "      <td>4.0</td>\n",
       "      <td>2003</td>\n",
       "      <td>858.0</td>\n",
       "      <td>Drama</td>\n",
       "    </tr>\n",
       "    <tr>\n",
       "      <th>4</th>\n",
       "      <td>3</td>\n",
       "      <td>858</td>\n",
       "      <td>4.0</td>\n",
       "      <td>2003</td>\n",
       "      <td>858.0</td>\n",
       "      <td>Romance</td>\n",
       "    </tr>\n",
       "  </tbody>\n",
       "</table>\n",
       "</div>"
      ],
      "text/plain": [
       "   userId  movieId  rating timestamp     id   genres\n",
       "0       1      858     5.0      2015  858.0    Drama\n",
       "1       1      858     5.0      2015  858.0  Romance\n",
       "2       1      858     5.0      2015  858.0   Comedy\n",
       "3       3      858     4.0      2003  858.0    Drama\n",
       "4       3      858     4.0      2003  858.0  Romance"
      ]
     },
     "execution_count": 148,
     "metadata": {
      "tags": []
     },
     "output_type": "execute_result"
    }
   ],
   "source": [
    "ratings_viz = ratings_viz.merge(movies_genre, left_on='movieId', right_on='id', how='inner')\n",
    "ratings_viz.head()"
   ]
  },
  {
   "cell_type": "code",
   "execution_count": 149,
   "metadata": {
    "colab": {
     "base_uri": "https://localhost:8080/",
     "height": 204
    },
    "colab_type": "code",
    "executionInfo": {
     "elapsed": 27,
     "status": "ok",
     "timestamp": 1563387639037,
     "user": {
      "displayName": "Thibault Foureur",
      "photoUrl": "",
      "userId": "09770321977413832787"
     },
     "user_tz": -120
    },
    "id": "ix64E1Q2TWuw",
    "outputId": "b2cd3de8-6fd0-4067-d45f-4908cd281e57"
   },
   "outputs": [
    {
     "data": {
      "text/html": [
       "<div>\n",
       "<style scoped>\n",
       "    .dataframe tbody tr th:only-of-type {\n",
       "        vertical-align: middle;\n",
       "    }\n",
       "\n",
       "    .dataframe tbody tr th {\n",
       "        vertical-align: top;\n",
       "    }\n",
       "\n",
       "    .dataframe thead th {\n",
       "        text-align: right;\n",
       "    }\n",
       "</style>\n",
       "<table border=\"1\" class=\"dataframe\">\n",
       "  <thead>\n",
       "    <tr style=\"text-align: right;\">\n",
       "      <th></th>\n",
       "      <th>timestamp</th>\n",
       "      <th>genres</th>\n",
       "      <th>rating</th>\n",
       "    </tr>\n",
       "  </thead>\n",
       "  <tbody>\n",
       "    <tr>\n",
       "      <th>0</th>\n",
       "      <td>1995</td>\n",
       "      <td>Documentary</td>\n",
       "      <td>3.000000</td>\n",
       "    </tr>\n",
       "    <tr>\n",
       "      <th>1</th>\n",
       "      <td>1996</td>\n",
       "      <td>Action</td>\n",
       "      <td>3.580280</td>\n",
       "    </tr>\n",
       "    <tr>\n",
       "      <th>2</th>\n",
       "      <td>1996</td>\n",
       "      <td>Adventure</td>\n",
       "      <td>3.515263</td>\n",
       "    </tr>\n",
       "    <tr>\n",
       "      <th>3</th>\n",
       "      <td>1996</td>\n",
       "      <td>Animation</td>\n",
       "      <td>3.297509</td>\n",
       "    </tr>\n",
       "    <tr>\n",
       "      <th>4</th>\n",
       "      <td>1996</td>\n",
       "      <td>Comedy</td>\n",
       "      <td>3.529910</td>\n",
       "    </tr>\n",
       "  </tbody>\n",
       "</table>\n",
       "</div>"
      ],
      "text/plain": [
       "  timestamp       genres    rating\n",
       "0      1995  Documentary  3.000000\n",
       "1      1996       Action  3.580280\n",
       "2      1996    Adventure  3.515263\n",
       "3      1996    Animation  3.297509\n",
       "4      1996       Comedy  3.529910"
      ]
     },
     "execution_count": 149,
     "metadata": {
      "tags": []
     },
     "output_type": "execute_result"
    }
   ],
   "source": [
    "aggrating = ratings_viz.groupby(['timestamp', 'genres'], as_index=False)['rating'].aggregate(np.mean)\n",
    "aggrating.head() "
   ]
  },
  {
   "cell_type": "code",
   "execution_count": 150,
   "metadata": {
    "colab": {
     "base_uri": "https://localhost:8080/",
     "height": 255
    },
    "colab_type": "code",
    "executionInfo": {
     "elapsed": 17,
     "status": "ok",
     "timestamp": 1563387639040,
     "user": {
      "displayName": "Thibault Foureur",
      "photoUrl": "",
      "userId": "09770321977413832787"
     },
     "user_tz": -120
    },
    "id": "2cWkWVhEVRuq",
    "outputId": "a105edf1-5a50-494a-ee76-ba2169b960d2"
   },
   "outputs": [
    {
     "name": "stdout",
     "output_type": "stream",
     "text": [
      "Collecting plotly.express\n",
      "  Using cached https://files.pythonhosted.org/packages/04/c2/e16037e4cc6bb9a6fb35eea102d7cffa06376fcd35e5523c880b64588778/plotly_express-0.4.0-py2.py3-none-any.whl\n",
      "Requirement already satisfied: plotly>=4.0.0 in /usr/local/lib/python3.6/dist-packages (from plotly.express) (4.0.0)\n",
      "Requirement already satisfied: pandas>=0.20.0 in /usr/local/lib/python3.6/dist-packages (from plotly.express) (0.24.2)\n",
      "Requirement already satisfied: scipy>=0.18 in /usr/local/lib/python3.6/dist-packages (from plotly.express) (1.3.0)\n",
      "Requirement already satisfied: statsmodels>=0.9.0 in /usr/local/lib/python3.6/dist-packages (from plotly.express) (0.10.0)\n",
      "Requirement already satisfied: numpy>=1.11 in /usr/local/lib/python3.6/dist-packages (from plotly.express) (1.16.4)\n",
      "Requirement already satisfied: patsy>=0.5 in /usr/local/lib/python3.6/dist-packages (from plotly.express) (0.5.1)\n",
      "Requirement already satisfied: retrying>=1.3.3 in /usr/local/lib/python3.6/dist-packages (from plotly>=4.0.0->plotly.express) (1.3.3)\n",
      "Requirement already satisfied: six in /usr/local/lib/python3.6/dist-packages (from plotly>=4.0.0->plotly.express) (1.12.0)\n",
      "Requirement already satisfied: pytz>=2011k in /usr/local/lib/python3.6/dist-packages (from pandas>=0.20.0->plotly.express) (2018.9)\n",
      "Requirement already satisfied: python-dateutil>=2.5.0 in /usr/local/lib/python3.6/dist-packages (from pandas>=0.20.0->plotly.express) (2.5.3)\n",
      "Installing collected packages: plotly.express\n",
      "Successfully installed plotly.express\n"
     ]
    }
   ],
   "source": [
    "!pip install plotly.express"
   ]
  },
  {
   "cell_type": "markdown",
   "metadata": {
    "colab_type": "text",
    "id": "r1qCclUnXVzD"
   },
   "source": [
    "We can see the evolution of the average rating per year of each genre. \n",
    "\n",
    "The TV movie started very low and is now in the top 5 in 2017."
   ]
  },
  {
   "cell_type": "code",
   "execution_count": 151,
   "metadata": {
    "colab": {
     "base_uri": "https://localhost:8080/",
     "height": 580
    },
    "colab_type": "code",
    "executionInfo": {
     "elapsed": 1220,
     "status": "ok",
     "timestamp": 1563387640255,
     "user": {
      "displayName": "Thibault Foureur",
      "photoUrl": "",
      "userId": "09770321977413832787"
     },
     "user_tz": -120
    },
    "id": "ViqDcq3fU61f",
    "outputId": "8cc56dc9-df72-4d69-f622-d9eff53667de"
   },
   "outputs": [
    {
     "data": {
      "text/plain": [
       "<matplotlib.legend.Legend at 0x7f4a1d541898>"
      ]
     },
     "execution_count": 151,
     "metadata": {
      "tags": []
     },
     "output_type": "execute_result"
    },
    {
     "data": {
      "image/png": "[encoded data removed]",
      "text/plain": [
       "<Figure size 864x648 with 1 Axes>"
      ]
     },
     "metadata": {
      "tags": []
     },
     "output_type": "display_data"
    }
   ],
   "source": [
    "sns.set(rc={'figure.figsize':(12,9)})\n",
    "sns.set_style(\"whitegrid\")\n",
    "sns\n",
    "sns.lineplot(x=\"timestamp\", y=\"rating\", hue=\"genres\",data=aggrating)\n",
    "plt.legend(bbox_to_anchor=(1.05, 1), loc=2, borderaxespad=0.)"
   ]
  },
  {
   "cell_type": "markdown",
   "metadata": {
    "colab_type": "text",
    "id": "w89B7_qji02L"
   },
   "source": [
    "## Data sampling"
   ]
  },
  {
   "cell_type": "code",
   "execution_count": 0,
   "metadata": {
    "colab": {},
    "colab_type": "code",
    "id": "0ETerTwCkKXy"
   },
   "outputs": [],
   "source": [
    "unique_users = ratings[['userId']].drop_duplicates()\n",
    "unique_users_sample = unique_users.sample(frac=0.10)"
   ]
  },
  {
   "cell_type": "code",
   "execution_count": 121,
   "metadata": {
    "colab": {
     "base_uri": "https://localhost:8080/",
     "height": 34
    },
    "colab_type": "code",
    "executionInfo": {
     "elapsed": 129252,
     "status": "ok",
     "timestamp": 1563396976625,
     "user": {
      "displayName": "Thibault Foureur",
      "photoUrl": "",
      "userId": "09770321977413832787"
     },
     "user_tz": -120
    },
    "id": "On2TDUOhjmuX",
    "outputId": "6fed617a-f2ae-4408-f6f1-bfff0b832b70"
   },
   "outputs": [
    {
     "data": {
      "text/plain": [
       "27090"
      ]
     },
     "execution_count": 121,
     "metadata": {
      "tags": []
     },
     "output_type": "execute_result"
    }
   ],
   "source": [
    "ratings_sample = ratings[ratings['userId'].isin(unique_users_sample['userId'])]\n",
    "ratings_sample.userId.unique().shape[0]"
   ]
  },
  {
   "cell_type": "code",
   "execution_count": 122,
   "metadata": {
    "colab": {
     "base_uri": "https://localhost:8080/",
     "height": 34
    },
    "colab_type": "code",
    "executionInfo": {
     "elapsed": 128834,
     "status": "ok",
     "timestamp": 1563396976626,
     "user": {
      "displayName": "Thibault Foureur",
      "photoUrl": "",
      "userId": "09770321977413832787"
     },
     "user_tz": -120
    },
    "id": "llWtjK2akxb-",
    "outputId": "551f46e2-b445-49b5-f42d-e6a167b6cf6a"
   },
   "outputs": [
    {
     "data": {
      "text/plain": [
       "5560"
      ]
     },
     "execution_count": 122,
     "metadata": {
      "tags": []
     },
     "output_type": "execute_result"
    }
   ],
   "source": [
    "movies_sample = movies_metadata[movies_metadata['id'].isin(ratings_sample['movieId'])]\n",
    "movies_sample.id.unique().shape[0]"
   ]
  },
  {
   "cell_type": "markdown",
   "metadata": {
    "colab_type": "text",
    "id": "YhrMCNNlj7mb"
   },
   "source": [
    "## Splitting the data"
   ]
  },
  {
   "cell_type": "code",
   "execution_count": 69,
   "metadata": {
    "colab": {
     "base_uri": "https://localhost:8080/",
     "height": 34
    },
    "colab_type": "code",
    "executionInfo": {
     "elapsed": 1809,
     "status": "ok",
     "timestamp": 1563393807456,
     "user": {
      "displayName": "Thibault Foureur",
      "photoUrl": "",
      "userId": "09770321977413832787"
     },
     "user_tz": -120
    },
    "id": "pMpUQe3_j6Wb",
    "outputId": "99043caf-a7fd-449b-df65-6cc48647ab38"
   },
   "outputs": [
    {
     "data": {
      "text/plain": [
       "26948"
      ]
     },
     "execution_count": 69,
     "metadata": {
      "tags": []
     },
     "output_type": "execute_result"
    }
   ],
   "source": [
    "from sklearn import model_selection as ms\n",
    "train_data, test_data = ms.train_test_split(ratings_sample, test_size=0.2)\n",
    "train_data.userId.unique().shape[0]"
   ]
  },
  {
   "cell_type": "code",
   "execution_count": 70,
   "metadata": {
    "colab": {
     "base_uri": "https://localhost:8080/",
     "height": 1000
    },
    "colab_type": "code",
    "executionInfo": {
     "elapsed": 1502,
     "status": "ok",
     "timestamp": 1563393807457,
     "user": {
      "displayName": "Thibault Foureur",
      "photoUrl": "",
      "userId": "09770321977413832787"
     },
     "user_tz": -120
    },
    "id": "sECqwU4fqFuE",
    "outputId": "0d82c432-1b33-4412-b199-2e5a4b99e505"
   },
   "outputs": [
    {
     "data": {
      "text/html": [
       "<div>\n",
       "<style scoped>\n",
       "    .dataframe tbody tr th:only-of-type {\n",
       "        vertical-align: middle;\n",
       "    }\n",
       "\n",
       "    .dataframe tbody tr th {\n",
       "        vertical-align: top;\n",
       "    }\n",
       "\n",
       "    .dataframe thead th {\n",
       "        text-align: right;\n",
       "    }\n",
       "</style>\n",
       "<table border=\"1\" class=\"dataframe\">\n",
       "  <thead>\n",
       "    <tr style=\"text-align: right;\">\n",
       "      <th></th>\n",
       "      <th>userId</th>\n",
       "      <th>movieId</th>\n",
       "      <th>rating</th>\n",
       "      <th>timestamp</th>\n",
       "    </tr>\n",
       "  </thead>\n",
       "  <tbody>\n",
       "    <tr>\n",
       "      <th>119</th>\n",
       "      <td>6</td>\n",
       "      <td>11</td>\n",
       "      <td>3.0</td>\n",
       "      <td>944894480</td>\n",
       "    </tr>\n",
       "    <tr>\n",
       "      <th>120</th>\n",
       "      <td>6</td>\n",
       "      <td>1198</td>\n",
       "      <td>3.0</td>\n",
       "      <td>944894480</td>\n",
       "    </tr>\n",
       "    <tr>\n",
       "      <th>121</th>\n",
       "      <td>6</td>\n",
       "      <td>2628</td>\n",
       "      <td>5.0</td>\n",
       "      <td>944928077</td>\n",
       "    </tr>\n",
       "    <tr>\n",
       "      <th>331</th>\n",
       "      <td>11</td>\n",
       "      <td>4238</td>\n",
       "      <td>3.5</td>\n",
       "      <td>1231674880</td>\n",
       "    </tr>\n",
       "    <tr>\n",
       "      <th>332</th>\n",
       "      <td>11</td>\n",
       "      <td>1370</td>\n",
       "      <td>3.5</td>\n",
       "      <td>1231677340</td>\n",
       "    </tr>\n",
       "    <tr>\n",
       "      <th>333</th>\n",
       "      <td>11</td>\n",
       "      <td>750</td>\n",
       "      <td>3.0</td>\n",
       "      <td>1231677212</td>\n",
       "    </tr>\n",
       "    <tr>\n",
       "      <th>334</th>\n",
       "      <td>11</td>\n",
       "      <td>784</td>\n",
       "      <td>2.0</td>\n",
       "      <td>1231677333</td>\n",
       "    </tr>\n",
       "    <tr>\n",
       "      <th>335</th>\n",
       "      <td>11</td>\n",
       "      <td>50601</td>\n",
       "      <td>2.5</td>\n",
       "      <td>1231678930</td>\n",
       "    </tr>\n",
       "    <tr>\n",
       "      <th>336</th>\n",
       "      <td>11</td>\n",
       "      <td>1276</td>\n",
       "      <td>3.0</td>\n",
       "      <td>1231675786</td>\n",
       "    </tr>\n",
       "    <tr>\n",
       "      <th>337</th>\n",
       "      <td>11</td>\n",
       "      <td>57353</td>\n",
       "      <td>3.5</td>\n",
       "      <td>1231675599</td>\n",
       "    </tr>\n",
       "    <tr>\n",
       "      <th>338</th>\n",
       "      <td>11</td>\n",
       "      <td>59107</td>\n",
       "      <td>2.5</td>\n",
       "      <td>1231676034</td>\n",
       "    </tr>\n",
       "    <tr>\n",
       "      <th>339</th>\n",
       "      <td>11</td>\n",
       "      <td>4052</td>\n",
       "      <td>3.5</td>\n",
       "      <td>1231674934</td>\n",
       "    </tr>\n",
       "    <tr>\n",
       "      <th>340</th>\n",
       "      <td>11</td>\n",
       "      <td>57528</td>\n",
       "      <td>3.0</td>\n",
       "      <td>1231675928</td>\n",
       "    </tr>\n",
       "    <tr>\n",
       "      <th>341</th>\n",
       "      <td>11</td>\n",
       "      <td>56757</td>\n",
       "      <td>4.0</td>\n",
       "      <td>1231675487</td>\n",
       "    </tr>\n",
       "    <tr>\n",
       "      <th>342</th>\n",
       "      <td>11</td>\n",
       "      <td>45672</td>\n",
       "      <td>2.0</td>\n",
       "      <td>1231676242</td>\n",
       "    </tr>\n",
       "    <tr>\n",
       "      <th>343</th>\n",
       "      <td>11</td>\n",
       "      <td>52458</td>\n",
       "      <td>3.0</td>\n",
       "      <td>1231678678</td>\n",
       "    </tr>\n",
       "    <tr>\n",
       "      <th>344</th>\n",
       "      <td>11</td>\n",
       "      <td>2028</td>\n",
       "      <td>4.0</td>\n",
       "      <td>1231677061</td>\n",
       "    </tr>\n",
       "    <tr>\n",
       "      <th>345</th>\n",
       "      <td>11</td>\n",
       "      <td>527</td>\n",
       "      <td>4.5</td>\n",
       "      <td>1231677900</td>\n",
       "    </tr>\n",
       "    <tr>\n",
       "      <th>346</th>\n",
       "      <td>11</td>\n",
       "      <td>5989</td>\n",
       "      <td>4.0</td>\n",
       "      <td>1231676517</td>\n",
       "    </tr>\n",
       "    <tr>\n",
       "      <th>347</th>\n",
       "      <td>11</td>\n",
       "      <td>1573</td>\n",
       "      <td>3.5</td>\n",
       "      <td>1231677261</td>\n",
       "    </tr>\n",
       "    <tr>\n",
       "      <th>348</th>\n",
       "      <td>11</td>\n",
       "      <td>60069</td>\n",
       "      <td>4.5</td>\n",
       "      <td>1231674884</td>\n",
       "    </tr>\n",
       "    <tr>\n",
       "      <th>349</th>\n",
       "      <td>11</td>\n",
       "      <td>59900</td>\n",
       "      <td>2.5</td>\n",
       "      <td>1231679199</td>\n",
       "    </tr>\n",
       "    <tr>\n",
       "      <th>350</th>\n",
       "      <td>11</td>\n",
       "      <td>37653</td>\n",
       "      <td>3.0</td>\n",
       "      <td>1231676959</td>\n",
       "    </tr>\n",
       "    <tr>\n",
       "      <th>351</th>\n",
       "      <td>11</td>\n",
       "      <td>59501</td>\n",
       "      <td>2.5</td>\n",
       "      <td>1231676008</td>\n",
       "    </tr>\n",
       "    <tr>\n",
       "      <th>352</th>\n",
       "      <td>11</td>\n",
       "      <td>60397</td>\n",
       "      <td>2.0</td>\n",
       "      <td>1231679011</td>\n",
       "    </tr>\n",
       "    <tr>\n",
       "      <th>353</th>\n",
       "      <td>11</td>\n",
       "      <td>58103</td>\n",
       "      <td>4.0</td>\n",
       "      <td>1231675496</td>\n",
       "    </tr>\n",
       "    <tr>\n",
       "      <th>354</th>\n",
       "      <td>11</td>\n",
       "      <td>364</td>\n",
       "      <td>3.0</td>\n",
       "      <td>1231677051</td>\n",
       "    </tr>\n",
       "    <tr>\n",
       "      <th>355</th>\n",
       "      <td>11</td>\n",
       "      <td>46948</td>\n",
       "      <td>2.0</td>\n",
       "      <td>1231676270</td>\n",
       "    </tr>\n",
       "    <tr>\n",
       "      <th>356</th>\n",
       "      <td>11</td>\n",
       "      <td>1089</td>\n",
       "      <td>3.5</td>\n",
       "      <td>1231677184</td>\n",
       "    </tr>\n",
       "    <tr>\n",
       "      <th>357</th>\n",
       "      <td>11</td>\n",
       "      <td>62081</td>\n",
       "      <td>3.5</td>\n",
       "      <td>1231675576</td>\n",
       "    </tr>\n",
       "    <tr>\n",
       "      <th>...</th>\n",
       "      <td>...</td>\n",
       "      <td>...</td>\n",
       "      <td>...</td>\n",
       "      <td>...</td>\n",
       "    </tr>\n",
       "    <tr>\n",
       "      <th>20823921</th>\n",
       "      <td>270894</td>\n",
       "      <td>1387</td>\n",
       "      <td>5.0</td>\n",
       "      <td>1419821332</td>\n",
       "    </tr>\n",
       "    <tr>\n",
       "      <th>20823922</th>\n",
       "      <td>270894</td>\n",
       "      <td>32</td>\n",
       "      <td>2.0</td>\n",
       "      <td>1419821783</td>\n",
       "    </tr>\n",
       "    <tr>\n",
       "      <th>20823923</th>\n",
       "      <td>270894</td>\n",
       "      <td>1265</td>\n",
       "      <td>3.0</td>\n",
       "      <td>1419821176</td>\n",
       "    </tr>\n",
       "    <tr>\n",
       "      <th>20823924</th>\n",
       "      <td>270894</td>\n",
       "      <td>968</td>\n",
       "      <td>1.0</td>\n",
       "      <td>1419821500</td>\n",
       "    </tr>\n",
       "    <tr>\n",
       "      <th>20823925</th>\n",
       "      <td>270894</td>\n",
       "      <td>108729</td>\n",
       "      <td>4.5</td>\n",
       "      <td>1419820738</td>\n",
       "    </tr>\n",
       "    <tr>\n",
       "      <th>20823926</th>\n",
       "      <td>270894</td>\n",
       "      <td>34</td>\n",
       "      <td>0.5</td>\n",
       "      <td>1419821465</td>\n",
       "    </tr>\n",
       "    <tr>\n",
       "      <th>20823927</th>\n",
       "      <td>270894</td>\n",
       "      <td>16</td>\n",
       "      <td>2.0</td>\n",
       "      <td>1419821807</td>\n",
       "    </tr>\n",
       "    <tr>\n",
       "      <th>20823928</th>\n",
       "      <td>270894</td>\n",
       "      <td>55247</td>\n",
       "      <td>2.0</td>\n",
       "      <td>1419821731</td>\n",
       "    </tr>\n",
       "    <tr>\n",
       "      <th>20823929</th>\n",
       "      <td>270894</td>\n",
       "      <td>3147</td>\n",
       "      <td>1.0</td>\n",
       "      <td>1419820962</td>\n",
       "    </tr>\n",
       "    <tr>\n",
       "      <th>20823930</th>\n",
       "      <td>270894</td>\n",
       "      <td>1258</td>\n",
       "      <td>2.5</td>\n",
       "      <td>1419820595</td>\n",
       "    </tr>\n",
       "    <tr>\n",
       "      <th>20823931</th>\n",
       "      <td>270894</td>\n",
       "      <td>80463</td>\n",
       "      <td>3.0</td>\n",
       "      <td>1419821621</td>\n",
       "    </tr>\n",
       "    <tr>\n",
       "      <th>20823932</th>\n",
       "      <td>270894</td>\n",
       "      <td>95761</td>\n",
       "      <td>0.5</td>\n",
       "      <td>1419821584</td>\n",
       "    </tr>\n",
       "    <tr>\n",
       "      <th>20823933</th>\n",
       "      <td>270894</td>\n",
       "      <td>55094</td>\n",
       "      <td>2.0</td>\n",
       "      <td>1419821109</td>\n",
       "    </tr>\n",
       "    <tr>\n",
       "      <th>20823934</th>\n",
       "      <td>270894</td>\n",
       "      <td>60684</td>\n",
       "      <td>3.5</td>\n",
       "      <td>1419821183</td>\n",
       "    </tr>\n",
       "    <tr>\n",
       "      <th>20823935</th>\n",
       "      <td>270894</td>\n",
       "      <td>50</td>\n",
       "      <td>3.0</td>\n",
       "      <td>1419820450</td>\n",
       "    </tr>\n",
       "    <tr>\n",
       "      <th>20823936</th>\n",
       "      <td>270894</td>\n",
       "      <td>1259</td>\n",
       "      <td>3.0</td>\n",
       "      <td>1419820646</td>\n",
       "    </tr>\n",
       "    <tr>\n",
       "      <th>20823937</th>\n",
       "      <td>270894</td>\n",
       "      <td>2118</td>\n",
       "      <td>2.5</td>\n",
       "      <td>1419821602</td>\n",
       "    </tr>\n",
       "    <tr>\n",
       "      <th>20823938</th>\n",
       "      <td>270894</td>\n",
       "      <td>1320</td>\n",
       "      <td>1.5</td>\n",
       "      <td>1419820896</td>\n",
       "    </tr>\n",
       "    <tr>\n",
       "      <th>20823939</th>\n",
       "      <td>270894</td>\n",
       "      <td>1247</td>\n",
       "      <td>1.5</td>\n",
       "      <td>1419820629</td>\n",
       "    </tr>\n",
       "    <tr>\n",
       "      <th>20823940</th>\n",
       "      <td>270894</td>\n",
       "      <td>4034</td>\n",
       "      <td>2.5</td>\n",
       "      <td>1419821796</td>\n",
       "    </tr>\n",
       "    <tr>\n",
       "      <th>20823941</th>\n",
       "      <td>270894</td>\n",
       "      <td>86377</td>\n",
       "      <td>3.0</td>\n",
       "      <td>1419820996</td>\n",
       "    </tr>\n",
       "    <tr>\n",
       "      <th>20823942</th>\n",
       "      <td>270894</td>\n",
       "      <td>7156</td>\n",
       "      <td>2.0</td>\n",
       "      <td>1419821610</td>\n",
       "    </tr>\n",
       "    <tr>\n",
       "      <th>20823943</th>\n",
       "      <td>270894</td>\n",
       "      <td>457</td>\n",
       "      <td>3.0</td>\n",
       "      <td>1419821186</td>\n",
       "    </tr>\n",
       "    <tr>\n",
       "      <th>20823944</th>\n",
       "      <td>270894</td>\n",
       "      <td>7153</td>\n",
       "      <td>1.0</td>\n",
       "      <td>1419821359</td>\n",
       "    </tr>\n",
       "    <tr>\n",
       "      <th>20823945</th>\n",
       "      <td>270894</td>\n",
       "      <td>64839</td>\n",
       "      <td>1.5</td>\n",
       "      <td>1419821780</td>\n",
       "    </tr>\n",
       "    <tr>\n",
       "      <th>20823946</th>\n",
       "      <td>270894</td>\n",
       "      <td>1214</td>\n",
       "      <td>5.0</td>\n",
       "      <td>1419820603</td>\n",
       "    </tr>\n",
       "    <tr>\n",
       "      <th>20823947</th>\n",
       "      <td>270894</td>\n",
       "      <td>27773</td>\n",
       "      <td>1.5</td>\n",
       "      <td>1419820876</td>\n",
       "    </tr>\n",
       "    <tr>\n",
       "      <th>20823948</th>\n",
       "      <td>270894</td>\n",
       "      <td>1213</td>\n",
       "      <td>3.0</td>\n",
       "      <td>1419820469</td>\n",
       "    </tr>\n",
       "    <tr>\n",
       "      <th>20823949</th>\n",
       "      <td>270894</td>\n",
       "      <td>112852</td>\n",
       "      <td>2.5</td>\n",
       "      <td>1419820548</td>\n",
       "    </tr>\n",
       "    <tr>\n",
       "      <th>20823950</th>\n",
       "      <td>270894</td>\n",
       "      <td>2916</td>\n",
       "      <td>1.5</td>\n",
       "      <td>1419821203</td>\n",
       "    </tr>\n",
       "  </tbody>\n",
       "</table>\n",
       "<p>2068566 rows × 4 columns</p>\n",
       "</div>"
      ],
      "text/plain": [
       "          userId  movieId  rating   timestamp\n",
       "119            6       11     3.0   944894480\n",
       "120            6     1198     3.0   944894480\n",
       "121            6     2628     5.0   944928077\n",
       "331           11     4238     3.5  1231674880\n",
       "332           11     1370     3.5  1231677340\n",
       "333           11      750     3.0  1231677212\n",
       "334           11      784     2.0  1231677333\n",
       "335           11    50601     2.5  1231678930\n",
       "336           11     1276     3.0  1231675786\n",
       "337           11    57353     3.5  1231675599\n",
       "338           11    59107     2.5  1231676034\n",
       "339           11     4052     3.5  1231674934\n",
       "340           11    57528     3.0  1231675928\n",
       "341           11    56757     4.0  1231675487\n",
       "342           11    45672     2.0  1231676242\n",
       "343           11    52458     3.0  1231678678\n",
       "344           11     2028     4.0  1231677061\n",
       "345           11      527     4.5  1231677900\n",
       "346           11     5989     4.0  1231676517\n",
       "347           11     1573     3.5  1231677261\n",
       "348           11    60069     4.5  1231674884\n",
       "349           11    59900     2.5  1231679199\n",
       "350           11    37653     3.0  1231676959\n",
       "351           11    59501     2.5  1231676008\n",
       "352           11    60397     2.0  1231679011\n",
       "353           11    58103     4.0  1231675496\n",
       "354           11      364     3.0  1231677051\n",
       "355           11    46948     2.0  1231676270\n",
       "356           11     1089     3.5  1231677184\n",
       "357           11    62081     3.5  1231675576\n",
       "...          ...      ...     ...         ...\n",
       "20823921  270894     1387     5.0  1419821332\n",
       "20823922  270894       32     2.0  1419821783\n",
       "20823923  270894     1265     3.0  1419821176\n",
       "20823924  270894      968     1.0  1419821500\n",
       "20823925  270894   108729     4.5  1419820738\n",
       "20823926  270894       34     0.5  1419821465\n",
       "20823927  270894       16     2.0  1419821807\n",
       "20823928  270894    55247     2.0  1419821731\n",
       "20823929  270894     3147     1.0  1419820962\n",
       "20823930  270894     1258     2.5  1419820595\n",
       "20823931  270894    80463     3.0  1419821621\n",
       "20823932  270894    95761     0.5  1419821584\n",
       "20823933  270894    55094     2.0  1419821109\n",
       "20823934  270894    60684     3.5  1419821183\n",
       "20823935  270894       50     3.0  1419820450\n",
       "20823936  270894     1259     3.0  1419820646\n",
       "20823937  270894     2118     2.5  1419821602\n",
       "20823938  270894     1320     1.5  1419820896\n",
       "20823939  270894     1247     1.5  1419820629\n",
       "20823940  270894     4034     2.5  1419821796\n",
       "20823941  270894    86377     3.0  1419820996\n",
       "20823942  270894     7156     2.0  1419821610\n",
       "20823943  270894      457     3.0  1419821186\n",
       "20823944  270894     7153     1.0  1419821359\n",
       "20823945  270894    64839     1.5  1419821780\n",
       "20823946  270894     1214     5.0  1419820603\n",
       "20823947  270894    27773     1.5  1419820876\n",
       "20823948  270894     1213     3.0  1419820469\n",
       "20823949  270894   112852     2.5  1419820548\n",
       "20823950  270894     2916     1.5  1419821203\n",
       "\n",
       "[2068566 rows x 4 columns]"
      ]
     },
     "execution_count": 70,
     "metadata": {
      "tags": []
     },
     "output_type": "execute_result"
    }
   ],
   "source": [
    "ratings_sample"
   ]
  },
  {
   "cell_type": "markdown",
   "metadata": {
    "colab_type": "text",
    "id": "q5iv75yrbu3T"
   },
   "source": [
    "# Model"
   ]
  },
  {
   "cell_type": "markdown",
   "metadata": {
    "colab_type": "text",
    "id": "qeCt_PnKV1gQ"
   },
   "source": [
    "## Choosen algorithm : Surprise SVD"
   ]
  },
  {
   "cell_type": "code",
   "execution_count": 71,
   "metadata": {
    "colab": {
     "base_uri": "https://localhost:8080/",
     "height": 119
    },
    "colab_type": "code",
    "executionInfo": {
     "elapsed": 3946,
     "status": "ok",
     "timestamp": 1563393813108,
     "user": {
      "displayName": "Thibault Foureur",
      "photoUrl": "",
      "userId": "09770321977413832787"
     },
     "user_tz": -120
    },
    "id": "bmFmABdjbElw",
    "outputId": "93b03f2f-a96c-428e-b93f-199b01204b8e"
   },
   "outputs": [
    {
     "name": "stdout",
     "output_type": "stream",
     "text": [
      "Requirement already satisfied: surprise in /usr/local/lib/python3.6/dist-packages (0.1)\n",
      "Requirement already satisfied: scikit-surprise in /usr/local/lib/python3.6/dist-packages (from surprise) (1.0.6)\n",
      "Requirement already satisfied: joblib>=0.11 in /usr/local/lib/python3.6/dist-packages (from scikit-surprise->surprise) (0.13.2)\n",
      "Requirement already satisfied: scipy>=1.0.0 in /usr/local/lib/python3.6/dist-packages (from scikit-surprise->surprise) (1.3.0)\n",
      "Requirement already satisfied: six>=1.10.0 in /usr/local/lib/python3.6/dist-packages (from scikit-surprise->surprise) (1.12.0)\n",
      "Requirement already satisfied: numpy>=1.11.2 in /usr/local/lib/python3.6/dist-packages (from scikit-surprise->surprise) (1.16.4)\n"
     ]
    }
   ],
   "source": [
    "!pip install surprise\n"
   ]
  },
  {
   "cell_type": "code",
   "execution_count": 0,
   "metadata": {
    "colab": {},
    "colab_type": "code",
    "id": "LQGb3ToLcG8W"
   },
   "outputs": [],
   "source": [
    "import surprise\n",
    "from surprise import SVD, SVDpp\n",
    "from surprise import Dataset, Reader, evaluate\n",
    "from surprise.model_selection import cross_validate, GridSearchCV"
   ]
  },
  {
   "cell_type": "code",
   "execution_count": 0,
   "metadata": {
    "colab": {},
    "colab_type": "code",
    "id": "p57PMnWCWvWf"
   },
   "outputs": [],
   "source": [
    "reader = Reader(rating_scale=(0, 5))\n",
    "data = Dataset.load_from_df(ratings_sample[['userId', 'movieId', 'rating']], reader)"
   ]
  },
  {
   "cell_type": "markdown",
   "metadata": {
    "colab_type": "text",
    "id": "dYeW4IU72Woi"
   },
   "source": [
    "Using GridSearchCV took too much time to compute, i had to revert to directly fitting the model with default parameters"
   ]
  },
  {
   "cell_type": "code",
   "execution_count": 0,
   "metadata": {
    "colab": {},
    "colab_type": "code",
    "id": "i2myEeirsuQz"
   },
   "outputs": [],
   "source": [
    "param_grid = {'lr_all':[0.005,0.007]}\n",
    "\n",
    "gs = GridSearchCV(SVDpp,param_grid, measures=['RMSE'], cv = 2,n_jobs=-1,joblib_verbose=50)"
   ]
  },
  {
   "cell_type": "code",
   "execution_count": 51,
   "metadata": {
    "colab": {
     "base_uri": "https://localhost:8080/",
     "height": 375
    },
    "colab_type": "code",
    "executionInfo": {
     "elapsed": 1203600,
     "status": "error",
     "timestamp": 1563392228982,
     "user": {
      "displayName": "Thibault Foureur",
      "photoUrl": "",
      "userId": "09770321977413832787"
     },
     "user_tz": -120
    },
    "id": "KxN-_oHKOWpw",
    "outputId": "5158034d-a172-47d9-8d44-c3d1869aa8f2"
   },
   "outputs": [
    {
     "name": "stdout",
     "output_type": "stream",
     "text": [
      "[Parallel(n_jobs=-1)]: Using backend LokyBackend with 2 concurrent workers.\n",
      "[Parallel(n_jobs=-1)]: Done   1 tasks      | elapsed: 19.9min\n",
      "[Parallel(n_jobs=-1)]: Done   2 out of   4 | elapsed: 19.9min remaining: 19.9min\n",
      "[Parallel(n_jobs=-1)]: Done   4 out of   4 | elapsed: 19.9min remaining:    0.0s\n"
     ]
    },
    {
     "ename": "KeyboardInterrupt",
     "evalue": "ignored",
     "output_type": "error",
     "traceback": [
      "\u001b[0;31m---------------------------------------------------------------------------\u001b[0m",
      "\u001b[0;31mKeyboardInterrupt\u001b[0m                         Traceback (most recent call last)",
      "\u001b[0;32m<ipython-input-51-47a605721ed8>\u001b[0m in \u001b[0;36m<module>\u001b[0;34m()\u001b[0m\n\u001b[0;32m----> 1\u001b[0;31m \u001b[0mgs\u001b[0m\u001b[0;34m.\u001b[0m\u001b[0mfit\u001b[0m\u001b[0;34m(\u001b[0m\u001b[0mdata\u001b[0m\u001b[0;34m)\u001b[0m\u001b[0;34m\u001b[0m\u001b[0;34m\u001b[0m\u001b[0m\n\u001b[0m",
      "\u001b[0;32m/usr/local/lib/python3.6/dist-packages/surprise/model_selection/search.py\u001b[0m in \u001b[0;36mfit\u001b[0;34m(self, data)\u001b[0m\n\u001b[1;32m     88\u001b[0m         out = Parallel(n_jobs=self.n_jobs,\n\u001b[1;32m     89\u001b[0m                        \u001b[0mpre_dispatch\u001b[0m\u001b[0;34m=\u001b[0m\u001b[0mself\u001b[0m\u001b[0;34m.\u001b[0m\u001b[0mpre_dispatch\u001b[0m\u001b[0;34m,\u001b[0m\u001b[0;34m\u001b[0m\u001b[0;34m\u001b[0m\u001b[0m\n\u001b[0;32m---> 90\u001b[0;31m                        verbose=self.joblib_verbose)(delayed_list)\n\u001b[0m\u001b[1;32m     91\u001b[0m \u001b[0;34m\u001b[0m\u001b[0m\n\u001b[1;32m     92\u001b[0m         (test_measures_dicts,\n",
      "\u001b[0;32m/usr/local/lib/python3.6/dist-packages/joblib/parallel.py\u001b[0m in \u001b[0;36m__call__\u001b[0;34m(self, iterable)\u001b[0m\n\u001b[1;32m    932\u001b[0m \u001b[0;34m\u001b[0m\u001b[0m\n\u001b[1;32m    933\u001b[0m             \u001b[0;32mwith\u001b[0m \u001b[0mself\u001b[0m\u001b[0;34m.\u001b[0m\u001b[0m_backend\u001b[0m\u001b[0;34m.\u001b[0m\u001b[0mretrieval_context\u001b[0m\u001b[0;34m(\u001b[0m\u001b[0;34m)\u001b[0m\u001b[0;34m:\u001b[0m\u001b[0;34m\u001b[0m\u001b[0;34m\u001b[0m\u001b[0m\n\u001b[0;32m--> 934\u001b[0;31m                 \u001b[0mself\u001b[0m\u001b[0;34m.\u001b[0m\u001b[0mretrieve\u001b[0m\u001b[0;34m(\u001b[0m\u001b[0;34m)\u001b[0m\u001b[0;34m\u001b[0m\u001b[0;34m\u001b[0m\u001b[0m\n\u001b[0m\u001b[1;32m    935\u001b[0m             \u001b[0;31m# Make sure that we get a last message telling us we are done\u001b[0m\u001b[0;34m\u001b[0m\u001b[0;34m\u001b[0m\u001b[0;34m\u001b[0m\u001b[0m\n\u001b[1;32m    936\u001b[0m             \u001b[0melapsed_time\u001b[0m \u001b[0;34m=\u001b[0m \u001b[0mtime\u001b[0m\u001b[0;34m.\u001b[0m\u001b[0mtime\u001b[0m\u001b[0;34m(\u001b[0m\u001b[0;34m)\u001b[0m \u001b[0;34m-\u001b[0m \u001b[0mself\u001b[0m\u001b[0;34m.\u001b[0m\u001b[0m_start_time\u001b[0m\u001b[0;34m\u001b[0m\u001b[0;34m\u001b[0m\u001b[0m\n",
      "\u001b[0;32m/usr/local/lib/python3.6/dist-packages/joblib/parallel.py\u001b[0m in \u001b[0;36mretrieve\u001b[0;34m(self)\u001b[0m\n\u001b[1;32m    831\u001b[0m             \u001b[0;32mtry\u001b[0m\u001b[0;34m:\u001b[0m\u001b[0;34m\u001b[0m\u001b[0;34m\u001b[0m\u001b[0m\n\u001b[1;32m    832\u001b[0m                 \u001b[0;32mif\u001b[0m \u001b[0mgetattr\u001b[0m\u001b[0;34m(\u001b[0m\u001b[0mself\u001b[0m\u001b[0;34m.\u001b[0m\u001b[0m_backend\u001b[0m\u001b[0;34m,\u001b[0m \u001b[0;34m'supports_timeout'\u001b[0m\u001b[0;34m,\u001b[0m \u001b[0;32mFalse\u001b[0m\u001b[0;34m)\u001b[0m\u001b[0;34m:\u001b[0m\u001b[0;34m\u001b[0m\u001b[0;34m\u001b[0m\u001b[0m\n\u001b[0;32m--> 833\u001b[0;31m                     \u001b[0mself\u001b[0m\u001b[0;34m.\u001b[0m\u001b[0m_output\u001b[0m\u001b[0;34m.\u001b[0m\u001b[0mextend\u001b[0m\u001b[0;34m(\u001b[0m\u001b[0mjob\u001b[0m\u001b[0;34m.\u001b[0m\u001b[0mget\u001b[0m\u001b[0;34m(\u001b[0m\u001b[0mtimeout\u001b[0m\u001b[0;34m=\u001b[0m\u001b[0mself\u001b[0m\u001b[0;34m.\u001b[0m\u001b[0mtimeout\u001b[0m\u001b[0;34m)\u001b[0m\u001b[0;34m)\u001b[0m\u001b[0;34m\u001b[0m\u001b[0;34m\u001b[0m\u001b[0m\n\u001b[0m\u001b[1;32m    834\u001b[0m                 \u001b[0;32melse\u001b[0m\u001b[0;34m:\u001b[0m\u001b[0;34m\u001b[0m\u001b[0;34m\u001b[0m\u001b[0m\n\u001b[1;32m    835\u001b[0m                     \u001b[0mself\u001b[0m\u001b[0;34m.\u001b[0m\u001b[0m_output\u001b[0m\u001b[0;34m.\u001b[0m\u001b[0mextend\u001b[0m\u001b[0;34m(\u001b[0m\u001b[0mjob\u001b[0m\u001b[0;34m.\u001b[0m\u001b[0mget\u001b[0m\u001b[0;34m(\u001b[0m\u001b[0;34m)\u001b[0m\u001b[0;34m)\u001b[0m\u001b[0;34m\u001b[0m\u001b[0;34m\u001b[0m\u001b[0m\n",
      "\u001b[0;32m/usr/local/lib/python3.6/dist-packages/joblib/_parallel_backends.py\u001b[0m in \u001b[0;36mwrap_future_result\u001b[0;34m(future, timeout)\u001b[0m\n\u001b[1;32m    519\u001b[0m         AsyncResults.get from multiprocessing.\"\"\"\n\u001b[1;32m    520\u001b[0m         \u001b[0;32mtry\u001b[0m\u001b[0;34m:\u001b[0m\u001b[0;34m\u001b[0m\u001b[0;34m\u001b[0m\u001b[0m\n\u001b[0;32m--> 521\u001b[0;31m             \u001b[0;32mreturn\u001b[0m \u001b[0mfuture\u001b[0m\u001b[0;34m.\u001b[0m\u001b[0mresult\u001b[0m\u001b[0;34m(\u001b[0m\u001b[0mtimeout\u001b[0m\u001b[0;34m=\u001b[0m\u001b[0mtimeout\u001b[0m\u001b[0;34m)\u001b[0m\u001b[0;34m\u001b[0m\u001b[0;34m\u001b[0m\u001b[0m\n\u001b[0m\u001b[1;32m    522\u001b[0m         \u001b[0;32mexcept\u001b[0m \u001b[0mLokyTimeoutError\u001b[0m\u001b[0;34m:\u001b[0m\u001b[0;34m\u001b[0m\u001b[0;34m\u001b[0m\u001b[0m\n\u001b[1;32m    523\u001b[0m             \u001b[0;32mraise\u001b[0m \u001b[0mTimeoutError\u001b[0m\u001b[0;34m(\u001b[0m\u001b[0;34m)\u001b[0m\u001b[0;34m\u001b[0m\u001b[0;34m\u001b[0m\u001b[0m\n",
      "\u001b[0;32m/usr/lib/python3.6/concurrent/futures/_base.py\u001b[0m in \u001b[0;36mresult\u001b[0;34m(self, timeout)\u001b[0m\n\u001b[1;32m    425\u001b[0m                 \u001b[0;32mreturn\u001b[0m \u001b[0mself\u001b[0m\u001b[0;34m.\u001b[0m\u001b[0m__get_result\u001b[0m\u001b[0;34m(\u001b[0m\u001b[0;34m)\u001b[0m\u001b[0;34m\u001b[0m\u001b[0;34m\u001b[0m\u001b[0m\n\u001b[1;32m    426\u001b[0m \u001b[0;34m\u001b[0m\u001b[0m\n\u001b[0;32m--> 427\u001b[0;31m             \u001b[0mself\u001b[0m\u001b[0;34m.\u001b[0m\u001b[0m_condition\u001b[0m\u001b[0;34m.\u001b[0m\u001b[0mwait\u001b[0m\u001b[0;34m(\u001b[0m\u001b[0mtimeout\u001b[0m\u001b[0;34m)\u001b[0m\u001b[0;34m\u001b[0m\u001b[0;34m\u001b[0m\u001b[0m\n\u001b[0m\u001b[1;32m    428\u001b[0m \u001b[0;34m\u001b[0m\u001b[0m\n\u001b[1;32m    429\u001b[0m             \u001b[0;32mif\u001b[0m \u001b[0mself\u001b[0m\u001b[0;34m.\u001b[0m\u001b[0m_state\u001b[0m \u001b[0;32min\u001b[0m \u001b[0;34m[\u001b[0m\u001b[0mCANCELLED\u001b[0m\u001b[0;34m,\u001b[0m \u001b[0mCANCELLED_AND_NOTIFIED\u001b[0m\u001b[0;34m]\u001b[0m\u001b[0;34m:\u001b[0m\u001b[0;34m\u001b[0m\u001b[0;34m\u001b[0m\u001b[0m\n",
      "\u001b[0;32m/usr/lib/python3.6/threading.py\u001b[0m in \u001b[0;36mwait\u001b[0;34m(self, timeout)\u001b[0m\n\u001b[1;32m    293\u001b[0m         \u001b[0;32mtry\u001b[0m\u001b[0;34m:\u001b[0m    \u001b[0;31m# restore state no matter what (e.g., KeyboardInterrupt)\u001b[0m\u001b[0;34m\u001b[0m\u001b[0;34m\u001b[0m\u001b[0m\n\u001b[1;32m    294\u001b[0m             \u001b[0;32mif\u001b[0m \u001b[0mtimeout\u001b[0m \u001b[0;32mis\u001b[0m \u001b[0;32mNone\u001b[0m\u001b[0;34m:\u001b[0m\u001b[0;34m\u001b[0m\u001b[0;34m\u001b[0m\u001b[0m\n\u001b[0;32m--> 295\u001b[0;31m                 \u001b[0mwaiter\u001b[0m\u001b[0;34m.\u001b[0m\u001b[0macquire\u001b[0m\u001b[0;34m(\u001b[0m\u001b[0;34m)\u001b[0m\u001b[0;34m\u001b[0m\u001b[0;34m\u001b[0m\u001b[0m\n\u001b[0m\u001b[1;32m    296\u001b[0m                 \u001b[0mgotit\u001b[0m \u001b[0;34m=\u001b[0m \u001b[0;32mTrue\u001b[0m\u001b[0;34m\u001b[0m\u001b[0;34m\u001b[0m\u001b[0m\n\u001b[1;32m    297\u001b[0m             \u001b[0;32melse\u001b[0m\u001b[0;34m:\u001b[0m\u001b[0;34m\u001b[0m\u001b[0;34m\u001b[0m\u001b[0m\n",
      "\u001b[0;31mKeyboardInterrupt\u001b[0m: "
     ]
    }
   ],
   "source": [
    "#gs.fit(data)"
   ]
  },
  {
   "cell_type": "code",
   "execution_count": 0,
   "metadata": {
    "colab": {},
    "colab_type": "code",
    "id": "5wZQEfNjLH8x"
   },
   "outputs": [],
   "source": [
    "data.split(n_folds=2)\n",
    "\n",
    "svd = SVD()"
   ]
  },
  {
   "cell_type": "code",
   "execution_count": 76,
   "metadata": {
    "colab": {
     "base_uri": "https://localhost:8080/",
     "height": 340
    },
    "colab_type": "code",
    "executionInfo": {
     "elapsed": 220204,
     "status": "ok",
     "timestamp": 1563394045593,
     "user": {
      "displayName": "Thibault Foureur",
      "photoUrl": "",
      "userId": "09770321977413832787"
     },
     "user_tz": -120
    },
    "id": "Zobvs82oWIvA",
    "outputId": "cde411b4-4e16-4ccb-f97a-4e37fca0f579"
   },
   "outputs": [
    {
     "name": "stderr",
     "output_type": "stream",
     "text": [
      "/usr/local/lib/python3.6/dist-packages/surprise/evaluate.py:66: UserWarning: The evaluate() method is deprecated. Please use model_selection.cross_validate() instead.\n",
      "  'model_selection.cross_validate() instead.', UserWarning)\n",
      "/usr/local/lib/python3.6/dist-packages/surprise/dataset.py:193: UserWarning: Using data.split() or using load_from_folds() without using a CV iterator is now deprecated. \n",
      "  UserWarning)\n"
     ]
    },
    {
     "name": "stdout",
     "output_type": "stream",
     "text": [
      "Evaluating RMSE of algorithm SVD.\n",
      "\n",
      "------------\n",
      "Fold 1\n",
      "RMSE: 0.8771\n",
      "------------\n",
      "Fold 2\n",
      "RMSE: 0.8759\n",
      "------------\n",
      "------------\n",
      "Mean RMSE: 0.8765\n",
      "------------\n",
      "------------\n"
     ]
    },
    {
     "data": {
      "text/plain": [
       "CaseInsensitiveDefaultDict(list,\n",
       "                           {'rmse': [0.8770975446702595, 0.875869314510507]})"
      ]
     },
     "execution_count": 76,
     "metadata": {
      "tags": []
     },
     "output_type": "execute_result"
    }
   ],
   "source": [
    "evaluate(svd, data, measures=['RMSE'])"
   ]
  },
  {
   "cell_type": "code",
   "execution_count": 77,
   "metadata": {
    "colab": {
     "base_uri": "https://localhost:8080/",
     "height": 34
    },
    "colab_type": "code",
    "executionInfo": {
     "elapsed": 396086,
     "status": "ok",
     "timestamp": 1563394224044,
     "user": {
      "displayName": "Thibault Foureur",
      "photoUrl": "",
      "userId": "09770321977413832787"
     },
     "user_tz": -120
    },
    "id": "EQIHeOqxKxdN",
    "outputId": "8f1c28ce-10a5-4cb2-d723-224b97baceaa"
   },
   "outputs": [
    {
     "data": {
      "text/plain": [
       "<surprise.prediction_algorithms.matrix_factorization.SVD at 0x7f18042c00f0>"
      ]
     },
     "execution_count": 77,
     "metadata": {
      "tags": []
     },
     "output_type": "execute_result"
    }
   ],
   "source": [
    "trainset = data.build_full_trainset()\n",
    "svd.fit(trainset)"
   ]
  },
  {
   "cell_type": "code",
   "execution_count": 78,
   "metadata": {
    "colab": {
     "base_uri": "https://localhost:8080/",
     "height": 34
    },
    "colab_type": "code",
    "executionInfo": {
     "elapsed": 395711,
     "status": "ok",
     "timestamp": 1563394224046,
     "user": {
      "displayName": "Thibault Foureur",
      "photoUrl": "",
      "userId": "09770321977413832787"
     },
     "user_tz": -120
    },
    "id": "yDxe6qjUVyZ7",
    "outputId": "14193364-71f9-4977-ee4a-7405bd84b13c"
   },
   "outputs": [
    {
     "data": {
      "text/plain": [
       "Prediction(uid=1, iid=302, r_ui=None, est=3.7606781528773547, details={'was_impossible': False})"
      ]
     },
     "execution_count": 78,
     "metadata": {
      "tags": []
     },
     "output_type": "execute_result"
    }
   ],
   "source": [
    "svd.predict(1, 302)"
   ]
  },
  {
   "cell_type": "code",
   "execution_count": 79,
   "metadata": {
    "colab": {
     "base_uri": "https://localhost:8080/",
     "height": 34
    },
    "colab_type": "code",
    "executionInfo": {
     "elapsed": 395443,
     "status": "ok",
     "timestamp": 1563394224047,
     "user": {
      "displayName": "Thibault Foureur",
      "photoUrl": "",
      "userId": "09770321977413832787"
     },
     "user_tz": -120
    },
    "id": "kbLzeN1EYcVP",
    "outputId": "3cbd0dd5-0f85-470f-d58a-1186c503cbe7"
   },
   "outputs": [
    {
     "data": {
      "text/plain": [
       "3.7606781528773547"
      ]
     },
     "execution_count": 79,
     "metadata": {
      "tags": []
     },
     "output_type": "execute_result"
    }
   ],
   "source": [
    "svd.predict(1, 302).est"
   ]
  },
  {
   "cell_type": "code",
   "execution_count": 80,
   "metadata": {
    "colab": {
     "base_uri": "https://localhost:8080/",
     "height": 34
    },
    "colab_type": "code",
    "executionInfo": {
     "elapsed": 395792,
     "status": "ok",
     "timestamp": 1563394225842,
     "user": {
      "displayName": "Thibault Foureur",
      "photoUrl": "",
      "userId": "09770321977413832787"
     },
     "user_tz": -120
    },
    "id": "JprezN3JZIXd",
    "outputId": "1dca2bd5-4b7a-43da-9a4f-3aa7ffa9c8d2"
   },
   "outputs": [
    {
     "data": {
      "text/plain": [
       "27090"
      ]
     },
     "execution_count": 80,
     "metadata": {
      "tags": []
     },
     "output_type": "execute_result"
    }
   ],
   "source": [
    "evaluation_ratings_sample = evaluation_ratings[evaluation_ratings['userId'].isin(unique_users_sample['userId'])]\n",
    "evaluation_ratings_sample = evaluation_ratings[evaluation_ratings['movieId'].isin(ratings_sample['movieId'])]\n",
    "ratings_sample.userId.unique().shape[0]"
   ]
  },
  {
   "cell_type": "code",
   "execution_count": 0,
   "metadata": {
    "colab": {},
    "colab_type": "code",
    "id": "xqd5BNdu3G4_"
   },
   "outputs": [],
   "source": [
    "evaluation_ratings_sample.to_csv('result/evaluation_ratings_sample.csv', sep=';', encoding='utf-8-sig')"
   ]
  },
  {
   "cell_type": "code",
   "execution_count": 0,
   "metadata": {
    "colab": {},
    "colab_type": "code",
    "id": "vmqWKEpmX0YZ"
   },
   "outputs": [],
   "source": [
    "evaluation_ratings_est = evaluation_ratings_sample.copy()\n",
    "evaluation_ratings_est['rating'] = evaluation_ratings_est.apply(lambda row : svd.predict(row['userId'],row['movieId']).est, axis=1)"
   ]
  },
  {
   "cell_type": "code",
   "execution_count": 83,
   "metadata": {
    "colab": {
     "base_uri": "https://localhost:8080/",
     "height": 1000
    },
    "colab_type": "code",
    "executionInfo": {
     "elapsed": 594218,
     "status": "ok",
     "timestamp": 1563394426376,
     "user": {
      "displayName": "Thibault Foureur",
      "photoUrl": "",
      "userId": "09770321977413832787"
     },
     "user_tz": -120
    },
    "id": "AZYUgB6ibSL4",
    "outputId": "4a12f579-f389-4484-a7dc-1289f3df0c94"
   },
   "outputs": [
    {
     "data": {
      "text/html": [
       "<div>\n",
       "<style scoped>\n",
       "    .dataframe tbody tr th:only-of-type {\n",
       "        vertical-align: middle;\n",
       "    }\n",
       "\n",
       "    .dataframe tbody tr th {\n",
       "        vertical-align: top;\n",
       "    }\n",
       "\n",
       "    .dataframe thead th {\n",
       "        text-align: right;\n",
       "    }\n",
       "</style>\n",
       "<table border=\"1\" class=\"dataframe\">\n",
       "  <thead>\n",
       "    <tr style=\"text-align: right;\">\n",
       "      <th></th>\n",
       "      <th>userId</th>\n",
       "      <th>movieId</th>\n",
       "      <th>rating</th>\n",
       "    </tr>\n",
       "  </thead>\n",
       "  <tbody>\n",
       "    <tr>\n",
       "      <th>0</th>\n",
       "      <td>1</td>\n",
       "      <td>110</td>\n",
       "      <td>4.087040</td>\n",
       "    </tr>\n",
       "    <tr>\n",
       "      <th>1</th>\n",
       "      <td>1</td>\n",
       "      <td>1968</td>\n",
       "      <td>3.849840</td>\n",
       "    </tr>\n",
       "    <tr>\n",
       "      <th>2</th>\n",
       "      <td>1</td>\n",
       "      <td>4878</td>\n",
       "      <td>4.025807</td>\n",
       "    </tr>\n",
       "    <tr>\n",
       "      <th>3</th>\n",
       "      <td>1</td>\n",
       "      <td>54503</td>\n",
       "      <td>3.742589</td>\n",
       "    </tr>\n",
       "    <tr>\n",
       "      <th>4</th>\n",
       "      <td>1</td>\n",
       "      <td>91542</td>\n",
       "      <td>3.749107</td>\n",
       "    </tr>\n",
       "    <tr>\n",
       "      <th>5</th>\n",
       "      <td>2</td>\n",
       "      <td>79</td>\n",
       "      <td>3.177159</td>\n",
       "    </tr>\n",
       "    <tr>\n",
       "      <th>6</th>\n",
       "      <td>2</td>\n",
       "      <td>141</td>\n",
       "      <td>3.471147</td>\n",
       "    </tr>\n",
       "    <tr>\n",
       "      <th>7</th>\n",
       "      <td>2</td>\n",
       "      <td>260</td>\n",
       "      <td>4.033920</td>\n",
       "    </tr>\n",
       "    <tr>\n",
       "      <th>8</th>\n",
       "      <td>2</td>\n",
       "      <td>1210</td>\n",
       "      <td>3.849447</td>\n",
       "    </tr>\n",
       "    <tr>\n",
       "      <th>9</th>\n",
       "      <td>3</td>\n",
       "      <td>1968</td>\n",
       "      <td>3.849840</td>\n",
       "    </tr>\n",
       "    <tr>\n",
       "      <th>10</th>\n",
       "      <td>3</td>\n",
       "      <td>4474</td>\n",
       "      <td>3.239515</td>\n",
       "    </tr>\n",
       "    <tr>\n",
       "      <th>11</th>\n",
       "      <td>4</td>\n",
       "      <td>1210</td>\n",
       "      <td>3.849447</td>\n",
       "    </tr>\n",
       "    <tr>\n",
       "      <th>12</th>\n",
       "      <td>4</td>\n",
       "      <td>2355</td>\n",
       "      <td>3.578211</td>\n",
       "    </tr>\n",
       "    <tr>\n",
       "      <th>13</th>\n",
       "      <td>4</td>\n",
       "      <td>2541</td>\n",
       "      <td>3.379164</td>\n",
       "    </tr>\n",
       "    <tr>\n",
       "      <th>14</th>\n",
       "      <td>4</td>\n",
       "      <td>2683</td>\n",
       "      <td>3.276723</td>\n",
       "    </tr>\n",
       "    <tr>\n",
       "      <th>15</th>\n",
       "      <td>4</td>\n",
       "      <td>2706</td>\n",
       "      <td>3.486934</td>\n",
       "    </tr>\n",
       "    <tr>\n",
       "      <th>16</th>\n",
       "      <td>4</td>\n",
       "      <td>2763</td>\n",
       "      <td>3.572265</td>\n",
       "    </tr>\n",
       "    <tr>\n",
       "      <th>17</th>\n",
       "      <td>4</td>\n",
       "      <td>2805</td>\n",
       "      <td>2.948879</td>\n",
       "    </tr>\n",
       "    <tr>\n",
       "      <th>18</th>\n",
       "      <td>4</td>\n",
       "      <td>2881</td>\n",
       "      <td>3.255857</td>\n",
       "    </tr>\n",
       "    <tr>\n",
       "      <th>19</th>\n",
       "      <td>4</td>\n",
       "      <td>3005</td>\n",
       "      <td>3.436847</td>\n",
       "    </tr>\n",
       "    <tr>\n",
       "      <th>20</th>\n",
       "      <td>4</td>\n",
       "      <td>3408</td>\n",
       "      <td>3.683892</td>\n",
       "    </tr>\n",
       "    <tr>\n",
       "      <th>21</th>\n",
       "      <td>4</td>\n",
       "      <td>3752</td>\n",
       "      <td>3.017770</td>\n",
       "    </tr>\n",
       "    <tr>\n",
       "      <th>22</th>\n",
       "      <td>4</td>\n",
       "      <td>4014</td>\n",
       "      <td>3.715434</td>\n",
       "    </tr>\n",
       "    <tr>\n",
       "      <th>23</th>\n",
       "      <td>5</td>\n",
       "      <td>7</td>\n",
       "      <td>3.395094</td>\n",
       "    </tr>\n",
       "    <tr>\n",
       "      <th>24</th>\n",
       "      <td>5</td>\n",
       "      <td>908</td>\n",
       "      <td>4.216656</td>\n",
       "    </tr>\n",
       "    <tr>\n",
       "      <th>25</th>\n",
       "      <td>5</td>\n",
       "      <td>1270</td>\n",
       "      <td>3.775830</td>\n",
       "    </tr>\n",
       "    <tr>\n",
       "      <th>26</th>\n",
       "      <td>5</td>\n",
       "      <td>3079</td>\n",
       "      <td>3.773566</td>\n",
       "    </tr>\n",
       "    <tr>\n",
       "      <th>27</th>\n",
       "      <td>5</td>\n",
       "      <td>3156</td>\n",
       "      <td>3.224359</td>\n",
       "    </tr>\n",
       "    <tr>\n",
       "      <th>28</th>\n",
       "      <td>6</td>\n",
       "      <td>2565</td>\n",
       "      <td>3.729291</td>\n",
       "    </tr>\n",
       "    <tr>\n",
       "      <th>29</th>\n",
       "      <td>7</td>\n",
       "      <td>4022</td>\n",
       "      <td>3.655801</td>\n",
       "    </tr>\n",
       "    <tr>\n",
       "      <th>...</th>\n",
       "      <td>...</td>\n",
       "      <td>...</td>\n",
       "      <td>...</td>\n",
       "    </tr>\n",
       "    <tr>\n",
       "      <th>5198004</th>\n",
       "      <td>270896</td>\n",
       "      <td>2194</td>\n",
       "      <td>3.818027</td>\n",
       "    </tr>\n",
       "    <tr>\n",
       "      <th>5198005</th>\n",
       "      <td>270896</td>\n",
       "      <td>2355</td>\n",
       "      <td>3.578211</td>\n",
       "    </tr>\n",
       "    <tr>\n",
       "      <th>5198006</th>\n",
       "      <td>270896</td>\n",
       "      <td>2502</td>\n",
       "      <td>3.962315</td>\n",
       "    </tr>\n",
       "    <tr>\n",
       "      <th>5198007</th>\n",
       "      <td>270896</td>\n",
       "      <td>2571</td>\n",
       "      <td>4.142620</td>\n",
       "    </tr>\n",
       "    <tr>\n",
       "      <th>5198008</th>\n",
       "      <td>270896</td>\n",
       "      <td>2617</td>\n",
       "      <td>3.080773</td>\n",
       "    </tr>\n",
       "    <tr>\n",
       "      <th>5198009</th>\n",
       "      <td>270896</td>\n",
       "      <td>2692</td>\n",
       "      <td>4.002256</td>\n",
       "    </tr>\n",
       "    <tr>\n",
       "      <th>5198010</th>\n",
       "      <td>270896</td>\n",
       "      <td>3101</td>\n",
       "      <td>3.476938</td>\n",
       "    </tr>\n",
       "    <tr>\n",
       "      <th>5198011</th>\n",
       "      <td>270896</td>\n",
       "      <td>3176</td>\n",
       "      <td>3.457069</td>\n",
       "    </tr>\n",
       "    <tr>\n",
       "      <th>5198012</th>\n",
       "      <td>270896</td>\n",
       "      <td>3481</td>\n",
       "      <td>3.878274</td>\n",
       "    </tr>\n",
       "    <tr>\n",
       "      <th>5198013</th>\n",
       "      <td>270896</td>\n",
       "      <td>3578</td>\n",
       "      <td>4.051048</td>\n",
       "    </tr>\n",
       "    <tr>\n",
       "      <th>5198014</th>\n",
       "      <td>270896</td>\n",
       "      <td>3751</td>\n",
       "      <td>3.448894</td>\n",
       "    </tr>\n",
       "    <tr>\n",
       "      <th>5198015</th>\n",
       "      <td>270896</td>\n",
       "      <td>4027</td>\n",
       "      <td>3.871094</td>\n",
       "    </tr>\n",
       "    <tr>\n",
       "      <th>5198016</th>\n",
       "      <td>270896</td>\n",
       "      <td>4306</td>\n",
       "      <td>3.821243</td>\n",
       "    </tr>\n",
       "    <tr>\n",
       "      <th>5198017</th>\n",
       "      <td>270896</td>\n",
       "      <td>4308</td>\n",
       "      <td>3.585660</td>\n",
       "    </tr>\n",
       "    <tr>\n",
       "      <th>5198018</th>\n",
       "      <td>270896</td>\n",
       "      <td>4963</td>\n",
       "      <td>3.915242</td>\n",
       "    </tr>\n",
       "    <tr>\n",
       "      <th>5198019</th>\n",
       "      <td>270896</td>\n",
       "      <td>5299</td>\n",
       "      <td>3.492626</td>\n",
       "    </tr>\n",
       "    <tr>\n",
       "      <th>5198020</th>\n",
       "      <td>270896</td>\n",
       "      <td>5445</td>\n",
       "      <td>3.664519</td>\n",
       "    </tr>\n",
       "    <tr>\n",
       "      <th>5198021</th>\n",
       "      <td>270896</td>\n",
       "      <td>5679</td>\n",
       "      <td>3.407179</td>\n",
       "    </tr>\n",
       "    <tr>\n",
       "      <th>5198022</th>\n",
       "      <td>270896</td>\n",
       "      <td>6016</td>\n",
       "      <td>4.245724</td>\n",
       "    </tr>\n",
       "    <tr>\n",
       "      <th>5198023</th>\n",
       "      <td>270896</td>\n",
       "      <td>6378</td>\n",
       "      <td>3.578302</td>\n",
       "    </tr>\n",
       "    <tr>\n",
       "      <th>5198024</th>\n",
       "      <td>270896</td>\n",
       "      <td>6874</td>\n",
       "      <td>3.862209</td>\n",
       "    </tr>\n",
       "    <tr>\n",
       "      <th>5198025</th>\n",
       "      <td>270896</td>\n",
       "      <td>7361</td>\n",
       "      <td>4.090277</td>\n",
       "    </tr>\n",
       "    <tr>\n",
       "      <th>5198026</th>\n",
       "      <td>270896</td>\n",
       "      <td>8949</td>\n",
       "      <td>3.707629</td>\n",
       "    </tr>\n",
       "    <tr>\n",
       "      <th>5198027</th>\n",
       "      <td>270896</td>\n",
       "      <td>33166</td>\n",
       "      <td>3.941405</td>\n",
       "    </tr>\n",
       "    <tr>\n",
       "      <th>5198028</th>\n",
       "      <td>270896</td>\n",
       "      <td>45499</td>\n",
       "      <td>3.396211</td>\n",
       "    </tr>\n",
       "    <tr>\n",
       "      <th>5198029</th>\n",
       "      <td>270896</td>\n",
       "      <td>48516</td>\n",
       "      <td>4.102888</td>\n",
       "    </tr>\n",
       "    <tr>\n",
       "      <th>5198030</th>\n",
       "      <td>270896</td>\n",
       "      <td>48774</td>\n",
       "      <td>3.869201</td>\n",
       "    </tr>\n",
       "    <tr>\n",
       "      <th>5198031</th>\n",
       "      <td>270896</td>\n",
       "      <td>50872</td>\n",
       "      <td>3.750922</td>\n",
       "    </tr>\n",
       "    <tr>\n",
       "      <th>5198032</th>\n",
       "      <td>270896</td>\n",
       "      <td>58559</td>\n",
       "      <td>4.211455</td>\n",
       "    </tr>\n",
       "    <tr>\n",
       "      <th>5198033</th>\n",
       "      <td>270896</td>\n",
       "      <td>60069</td>\n",
       "      <td>3.956104</td>\n",
       "    </tr>\n",
       "  </tbody>\n",
       "</table>\n",
       "<p>5183489 rows × 3 columns</p>\n",
       "</div>"
      ],
      "text/plain": [
       "         userId  movieId    rating\n",
       "0             1      110  4.087040\n",
       "1             1     1968  3.849840\n",
       "2             1     4878  4.025807\n",
       "3             1    54503  3.742589\n",
       "4             1    91542  3.749107\n",
       "5             2       79  3.177159\n",
       "6             2      141  3.471147\n",
       "7             2      260  4.033920\n",
       "8             2     1210  3.849447\n",
       "9             3     1968  3.849840\n",
       "10            3     4474  3.239515\n",
       "11            4     1210  3.849447\n",
       "12            4     2355  3.578211\n",
       "13            4     2541  3.379164\n",
       "14            4     2683  3.276723\n",
       "15            4     2706  3.486934\n",
       "16            4     2763  3.572265\n",
       "17            4     2805  2.948879\n",
       "18            4     2881  3.255857\n",
       "19            4     3005  3.436847\n",
       "20            4     3408  3.683892\n",
       "21            4     3752  3.017770\n",
       "22            4     4014  3.715434\n",
       "23            5        7  3.395094\n",
       "24            5      908  4.216656\n",
       "25            5     1270  3.775830\n",
       "26            5     3079  3.773566\n",
       "27            5     3156  3.224359\n",
       "28            6     2565  3.729291\n",
       "29            7     4022  3.655801\n",
       "...         ...      ...       ...\n",
       "5198004  270896     2194  3.818027\n",
       "5198005  270896     2355  3.578211\n",
       "5198006  270896     2502  3.962315\n",
       "5198007  270896     2571  4.142620\n",
       "5198008  270896     2617  3.080773\n",
       "5198009  270896     2692  4.002256\n",
       "5198010  270896     3101  3.476938\n",
       "5198011  270896     3176  3.457069\n",
       "5198012  270896     3481  3.878274\n",
       "5198013  270896     3578  4.051048\n",
       "5198014  270896     3751  3.448894\n",
       "5198015  270896     4027  3.871094\n",
       "5198016  270896     4306  3.821243\n",
       "5198017  270896     4308  3.585660\n",
       "5198018  270896     4963  3.915242\n",
       "5198019  270896     5299  3.492626\n",
       "5198020  270896     5445  3.664519\n",
       "5198021  270896     5679  3.407179\n",
       "5198022  270896     6016  4.245724\n",
       "5198023  270896     6378  3.578302\n",
       "5198024  270896     6874  3.862209\n",
       "5198025  270896     7361  4.090277\n",
       "5198026  270896     8949  3.707629\n",
       "5198027  270896    33166  3.941405\n",
       "5198028  270896    45499  3.396211\n",
       "5198029  270896    48516  4.102888\n",
       "5198030  270896    48774  3.869201\n",
       "5198031  270896    50872  3.750922\n",
       "5198032  270896    58559  4.211455\n",
       "5198033  270896    60069  3.956104\n",
       "\n",
       "[5183489 rows x 3 columns]"
      ]
     },
     "execution_count": 83,
     "metadata": {
      "tags": []
     },
     "output_type": "execute_result"
    }
   ],
   "source": [
    "evaluation_ratings_est"
   ]
  },
  {
   "cell_type": "code",
   "execution_count": 0,
   "metadata": {
    "colab": {},
    "colab_type": "code",
    "id": "zlFfqNlD25vS"
   },
   "outputs": [],
   "source": [
    "evaluation_ratings_est.to_csv('result/evaluation_ratings_est.csv', sep=';', encoding='utf-8-sig')"
   ]
  },
  {
   "cell_type": "markdown",
   "metadata": {
    "colab_type": "text",
    "id": "WsDmSNiTyczx"
   },
   "source": [
    "### Bonus benchmark for surprise : "
   ]
  },
  {
   "cell_type": "markdown",
   "metadata": {
    "colab_type": "text",
    "id": "57dZjFapyhMU"
   },
   "source": [
    "Those tests sadly took too much time to compute on either google colab or in a jupyter notebook with a local machine"
   ]
  },
  {
   "cell_type": "code",
   "execution_count": 65,
   "metadata": {
    "colab": {
     "base_uri": "https://localhost:8080/",
     "height": 392
    },
    "colab_type": "code",
    "executionInfo": {
     "elapsed": 106936,
     "status": "error",
     "timestamp": 1563295926310,
     "user": {
      "displayName": "Thibault Foureur",
      "photoUrl": "",
      "userId": "09770321977413832787"
     },
     "user_tz": -120
    },
    "id": "zaH4QcXnbAw5",
    "outputId": "7757317d-a931-4b67-a3ad-ecf21a084209",
    "scrolled": true
   },
   "outputs": [
    {
     "name": "stdout",
     "output_type": "stream",
     "text": [
      "<surprise.prediction_algorithms.matrix_factorization.SVD object at 0x7fa4cc0ba5f8>\n"
     ]
    },
    {
     "ename": "KeyboardInterrupt",
     "evalue": "ignored",
     "output_type": "error",
     "traceback": [
      "\u001b[0;31m---------------------------------------------------------------------------\u001b[0m",
      "\u001b[0;31mKeyboardInterrupt\u001b[0m                         Traceback (most recent call last)",
      "\u001b[0;32m<ipython-input-65-dae5d52273c3>\u001b[0m in \u001b[0;36m<module>\u001b[0;34m()\u001b[0m\n\u001b[1;32m      4\u001b[0m     \u001b[0mprint\u001b[0m\u001b[0;34m(\u001b[0m\u001b[0malgorithm\u001b[0m\u001b[0;34m)\u001b[0m\u001b[0;34m\u001b[0m\u001b[0;34m\u001b[0m\u001b[0m\n\u001b[1;32m      5\u001b[0m     \u001b[0;31m# Perform cross validation\u001b[0m\u001b[0;34m\u001b[0m\u001b[0;34m\u001b[0m\u001b[0;34m\u001b[0m\u001b[0m\n\u001b[0;32m----> 6\u001b[0;31m     \u001b[0mresults\u001b[0m \u001b[0;34m=\u001b[0m \u001b[0mcross_validate\u001b[0m\u001b[0;34m(\u001b[0m\u001b[0malgorithm\u001b[0m\u001b[0;34m,\u001b[0m \u001b[0mdata\u001b[0m\u001b[0;34m,\u001b[0m \u001b[0mmeasures\u001b[0m\u001b[0;34m=\u001b[0m\u001b[0;34m[\u001b[0m\u001b[0;34m'RMSE'\u001b[0m\u001b[0;34m]\u001b[0m\u001b[0;34m,\u001b[0m \u001b[0mcv\u001b[0m\u001b[0;34m=\u001b[0m\u001b[0;36m3\u001b[0m\u001b[0;34m,\u001b[0m \u001b[0mverbose\u001b[0m\u001b[0;34m=\u001b[0m\u001b[0;32mFalse\u001b[0m\u001b[0;34m)\u001b[0m\u001b[0;34m\u001b[0m\u001b[0;34m\u001b[0m\u001b[0m\n\u001b[0m\u001b[1;32m      7\u001b[0m \u001b[0;34m\u001b[0m\u001b[0m\n\u001b[1;32m      8\u001b[0m     \u001b[0;31m# Get results & append algorithm name\u001b[0m\u001b[0;34m\u001b[0m\u001b[0;34m\u001b[0m\u001b[0;34m\u001b[0m\u001b[0m\n",
      "\u001b[0;32m/usr/local/lib/python3.6/dist-packages/surprise/model_selection/validation.py\u001b[0m in \u001b[0;36mcross_validate\u001b[0;34m(algo, data, measures, cv, return_train_measures, n_jobs, pre_dispatch, verbose)\u001b[0m\n\u001b[1;32m     99\u001b[0m                                            return_train_measures)\n\u001b[1;32m    100\u001b[0m                     for (trainset, testset) in cv.split(data))\n\u001b[0;32m--> 101\u001b[0;31m     \u001b[0mout\u001b[0m \u001b[0;34m=\u001b[0m \u001b[0mParallel\u001b[0m\u001b[0;34m(\u001b[0m\u001b[0mn_jobs\u001b[0m\u001b[0;34m=\u001b[0m\u001b[0mn_jobs\u001b[0m\u001b[0;34m,\u001b[0m \u001b[0mpre_dispatch\u001b[0m\u001b[0;34m=\u001b[0m\u001b[0mpre_dispatch\u001b[0m\u001b[0;34m)\u001b[0m\u001b[0;34m(\u001b[0m\u001b[0mdelayed_list\u001b[0m\u001b[0;34m)\u001b[0m\u001b[0;34m\u001b[0m\u001b[0;34m\u001b[0m\u001b[0m\n\u001b[0m\u001b[1;32m    102\u001b[0m \u001b[0;34m\u001b[0m\u001b[0m\n\u001b[1;32m    103\u001b[0m     (test_measures_dicts,\n",
      "\u001b[0;32m/usr/local/lib/python3.6/dist-packages/joblib/parallel.py\u001b[0m in \u001b[0;36m__call__\u001b[0;34m(self, iterable)\u001b[0m\n\u001b[1;32m    919\u001b[0m             \u001b[0;31m# remaining jobs.\u001b[0m\u001b[0;34m\u001b[0m\u001b[0;34m\u001b[0m\u001b[0;34m\u001b[0m\u001b[0m\n\u001b[1;32m    920\u001b[0m             \u001b[0mself\u001b[0m\u001b[0;34m.\u001b[0m\u001b[0m_iterating\u001b[0m \u001b[0;34m=\u001b[0m \u001b[0;32mFalse\u001b[0m\u001b[0;34m\u001b[0m\u001b[0;34m\u001b[0m\u001b[0m\n\u001b[0;32m--> 921\u001b[0;31m             \u001b[0;32mif\u001b[0m \u001b[0mself\u001b[0m\u001b[0;34m.\u001b[0m\u001b[0mdispatch_one_batch\u001b[0m\u001b[0;34m(\u001b[0m\u001b[0miterator\u001b[0m\u001b[0;34m)\u001b[0m\u001b[0;34m:\u001b[0m\u001b[0;34m\u001b[0m\u001b[0;34m\u001b[0m\u001b[0m\n\u001b[0m\u001b[1;32m    922\u001b[0m                 \u001b[0mself\u001b[0m\u001b[0;34m.\u001b[0m\u001b[0m_iterating\u001b[0m \u001b[0;34m=\u001b[0m \u001b[0mself\u001b[0m\u001b[0;34m.\u001b[0m\u001b[0m_original_iterator\u001b[0m \u001b[0;32mis\u001b[0m \u001b[0;32mnot\u001b[0m \u001b[0;32mNone\u001b[0m\u001b[0;34m\u001b[0m\u001b[0;34m\u001b[0m\u001b[0m\n\u001b[1;32m    923\u001b[0m \u001b[0;34m\u001b[0m\u001b[0m\n",
      "\u001b[0;32m/usr/local/lib/python3.6/dist-packages/joblib/parallel.py\u001b[0m in \u001b[0;36mdispatch_one_batch\u001b[0;34m(self, iterator)\u001b[0m\n\u001b[1;32m    757\u001b[0m                 \u001b[0;32mreturn\u001b[0m \u001b[0;32mFalse\u001b[0m\u001b[0;34m\u001b[0m\u001b[0;34m\u001b[0m\u001b[0m\n\u001b[1;32m    758\u001b[0m             \u001b[0;32melse\u001b[0m\u001b[0;34m:\u001b[0m\u001b[0;34m\u001b[0m\u001b[0;34m\u001b[0m\u001b[0m\n\u001b[0;32m--> 759\u001b[0;31m                 \u001b[0mself\u001b[0m\u001b[0;34m.\u001b[0m\u001b[0m_dispatch\u001b[0m\u001b[0;34m(\u001b[0m\u001b[0mtasks\u001b[0m\u001b[0;34m)\u001b[0m\u001b[0;34m\u001b[0m\u001b[0;34m\u001b[0m\u001b[0m\n\u001b[0m\u001b[1;32m    760\u001b[0m                 \u001b[0;32mreturn\u001b[0m \u001b[0;32mTrue\u001b[0m\u001b[0;34m\u001b[0m\u001b[0;34m\u001b[0m\u001b[0m\n\u001b[1;32m    761\u001b[0m \u001b[0;34m\u001b[0m\u001b[0m\n",
      "\u001b[0;32m/usr/local/lib/python3.6/dist-packages/joblib/parallel.py\u001b[0m in \u001b[0;36m_dispatch\u001b[0;34m(self, batch)\u001b[0m\n\u001b[1;32m    714\u001b[0m         \u001b[0;32mwith\u001b[0m \u001b[0mself\u001b[0m\u001b[0;34m.\u001b[0m\u001b[0m_lock\u001b[0m\u001b[0;34m:\u001b[0m\u001b[0;34m\u001b[0m\u001b[0;34m\u001b[0m\u001b[0m\n\u001b[1;32m    715\u001b[0m             \u001b[0mjob_idx\u001b[0m \u001b[0;34m=\u001b[0m \u001b[0mlen\u001b[0m\u001b[0;34m(\u001b[0m\u001b[0mself\u001b[0m\u001b[0;34m.\u001b[0m\u001b[0m_jobs\u001b[0m\u001b[0;34m)\u001b[0m\u001b[0;34m\u001b[0m\u001b[0;34m\u001b[0m\u001b[0m\n\u001b[0;32m--> 716\u001b[0;31m             \u001b[0mjob\u001b[0m \u001b[0;34m=\u001b[0m \u001b[0mself\u001b[0m\u001b[0;34m.\u001b[0m\u001b[0m_backend\u001b[0m\u001b[0;34m.\u001b[0m\u001b[0mapply_async\u001b[0m\u001b[0;34m(\u001b[0m\u001b[0mbatch\u001b[0m\u001b[0;34m,\u001b[0m \u001b[0mcallback\u001b[0m\u001b[0;34m=\u001b[0m\u001b[0mcb\u001b[0m\u001b[0;34m)\u001b[0m\u001b[0;34m\u001b[0m\u001b[0;34m\u001b[0m\u001b[0m\n\u001b[0m\u001b[1;32m    717\u001b[0m             \u001b[0;31m# A job can complete so quickly than its callback is\u001b[0m\u001b[0;34m\u001b[0m\u001b[0;34m\u001b[0m\u001b[0;34m\u001b[0m\u001b[0m\n\u001b[1;32m    718\u001b[0m             \u001b[0;31m# called before we get here, causing self._jobs to\u001b[0m\u001b[0;34m\u001b[0m\u001b[0;34m\u001b[0m\u001b[0;34m\u001b[0m\u001b[0m\n",
      "\u001b[0;32m/usr/local/lib/python3.6/dist-packages/joblib/_parallel_backends.py\u001b[0m in \u001b[0;36mapply_async\u001b[0;34m(self, func, callback)\u001b[0m\n\u001b[1;32m    180\u001b[0m     \u001b[0;32mdef\u001b[0m \u001b[0mapply_async\u001b[0m\u001b[0;34m(\u001b[0m\u001b[0mself\u001b[0m\u001b[0;34m,\u001b[0m \u001b[0mfunc\u001b[0m\u001b[0;34m,\u001b[0m \u001b[0mcallback\u001b[0m\u001b[0;34m=\u001b[0m\u001b[0;32mNone\u001b[0m\u001b[0;34m)\u001b[0m\u001b[0;34m:\u001b[0m\u001b[0;34m\u001b[0m\u001b[0;34m\u001b[0m\u001b[0m\n\u001b[1;32m    181\u001b[0m         \u001b[0;34m\"\"\"Schedule a func to be run\"\"\"\u001b[0m\u001b[0;34m\u001b[0m\u001b[0;34m\u001b[0m\u001b[0m\n\u001b[0;32m--> 182\u001b[0;31m         \u001b[0mresult\u001b[0m \u001b[0;34m=\u001b[0m \u001b[0mImmediateResult\u001b[0m\u001b[0;34m(\u001b[0m\u001b[0mfunc\u001b[0m\u001b[0;34m)\u001b[0m\u001b[0;34m\u001b[0m\u001b[0;34m\u001b[0m\u001b[0m\n\u001b[0m\u001b[1;32m    183\u001b[0m         \u001b[0;32mif\u001b[0m \u001b[0mcallback\u001b[0m\u001b[0;34m:\u001b[0m\u001b[0;34m\u001b[0m\u001b[0;34m\u001b[0m\u001b[0m\n\u001b[1;32m    184\u001b[0m             \u001b[0mcallback\u001b[0m\u001b[0;34m(\u001b[0m\u001b[0mresult\u001b[0m\u001b[0;34m)\u001b[0m\u001b[0;34m\u001b[0m\u001b[0;34m\u001b[0m\u001b[0m\n",
      "\u001b[0;32m/usr/local/lib/python3.6/dist-packages/joblib/_parallel_backends.py\u001b[0m in \u001b[0;36m__init__\u001b[0;34m(self, batch)\u001b[0m\n\u001b[1;32m    547\u001b[0m         \u001b[0;31m# Don't delay the application, to avoid keeping the input\u001b[0m\u001b[0;34m\u001b[0m\u001b[0;34m\u001b[0m\u001b[0;34m\u001b[0m\u001b[0m\n\u001b[1;32m    548\u001b[0m         \u001b[0;31m# arguments in memory\u001b[0m\u001b[0;34m\u001b[0m\u001b[0;34m\u001b[0m\u001b[0;34m\u001b[0m\u001b[0m\n\u001b[0;32m--> 549\u001b[0;31m         \u001b[0mself\u001b[0m\u001b[0;34m.\u001b[0m\u001b[0mresults\u001b[0m \u001b[0;34m=\u001b[0m \u001b[0mbatch\u001b[0m\u001b[0;34m(\u001b[0m\u001b[0;34m)\u001b[0m\u001b[0;34m\u001b[0m\u001b[0;34m\u001b[0m\u001b[0m\n\u001b[0m\u001b[1;32m    550\u001b[0m \u001b[0;34m\u001b[0m\u001b[0m\n\u001b[1;32m    551\u001b[0m     \u001b[0;32mdef\u001b[0m \u001b[0mget\u001b[0m\u001b[0;34m(\u001b[0m\u001b[0mself\u001b[0m\u001b[0;34m)\u001b[0m\u001b[0;34m:\u001b[0m\u001b[0;34m\u001b[0m\u001b[0;34m\u001b[0m\u001b[0m\n",
      "\u001b[0;32m/usr/local/lib/python3.6/dist-packages/joblib/parallel.py\u001b[0m in \u001b[0;36m__call__\u001b[0;34m(self)\u001b[0m\n\u001b[1;32m    223\u001b[0m         \u001b[0;32mwith\u001b[0m \u001b[0mparallel_backend\u001b[0m\u001b[0;34m(\u001b[0m\u001b[0mself\u001b[0m\u001b[0;34m.\u001b[0m\u001b[0m_backend\u001b[0m\u001b[0;34m,\u001b[0m \u001b[0mn_jobs\u001b[0m\u001b[0;34m=\u001b[0m\u001b[0mself\u001b[0m\u001b[0;34m.\u001b[0m\u001b[0m_n_jobs\u001b[0m\u001b[0;34m)\u001b[0m\u001b[0;34m:\u001b[0m\u001b[0;34m\u001b[0m\u001b[0;34m\u001b[0m\u001b[0m\n\u001b[1;32m    224\u001b[0m             return [func(*args, **kwargs)\n\u001b[0;32m--> 225\u001b[0;31m                     for func, args, kwargs in self.items]\n\u001b[0m\u001b[1;32m    226\u001b[0m \u001b[0;34m\u001b[0m\u001b[0m\n\u001b[1;32m    227\u001b[0m     \u001b[0;32mdef\u001b[0m \u001b[0m__len__\u001b[0m\u001b[0;34m(\u001b[0m\u001b[0mself\u001b[0m\u001b[0;34m)\u001b[0m\u001b[0;34m:\u001b[0m\u001b[0;34m\u001b[0m\u001b[0;34m\u001b[0m\u001b[0m\n",
      "\u001b[0;32m/usr/local/lib/python3.6/dist-packages/joblib/parallel.py\u001b[0m in \u001b[0;36m<listcomp>\u001b[0;34m(.0)\u001b[0m\n\u001b[1;32m    223\u001b[0m         \u001b[0;32mwith\u001b[0m \u001b[0mparallel_backend\u001b[0m\u001b[0;34m(\u001b[0m\u001b[0mself\u001b[0m\u001b[0;34m.\u001b[0m\u001b[0m_backend\u001b[0m\u001b[0;34m,\u001b[0m \u001b[0mn_jobs\u001b[0m\u001b[0;34m=\u001b[0m\u001b[0mself\u001b[0m\u001b[0;34m.\u001b[0m\u001b[0m_n_jobs\u001b[0m\u001b[0;34m)\u001b[0m\u001b[0;34m:\u001b[0m\u001b[0;34m\u001b[0m\u001b[0;34m\u001b[0m\u001b[0m\n\u001b[1;32m    224\u001b[0m             return [func(*args, **kwargs)\n\u001b[0;32m--> 225\u001b[0;31m                     for func, args, kwargs in self.items]\n\u001b[0m\u001b[1;32m    226\u001b[0m \u001b[0;34m\u001b[0m\u001b[0m\n\u001b[1;32m    227\u001b[0m     \u001b[0;32mdef\u001b[0m \u001b[0m__len__\u001b[0m\u001b[0;34m(\u001b[0m\u001b[0mself\u001b[0m\u001b[0;34m)\u001b[0m\u001b[0;34m:\u001b[0m\u001b[0;34m\u001b[0m\u001b[0;34m\u001b[0m\u001b[0m\n",
      "\u001b[0;32m/usr/local/lib/python3.6/dist-packages/surprise/model_selection/validation.py\u001b[0m in \u001b[0;36mfit_and_score\u001b[0;34m(algo, trainset, testset, measures, return_train_measures)\u001b[0m\n\u001b[1;32m    162\u001b[0m \u001b[0;34m\u001b[0m\u001b[0m\n\u001b[1;32m    163\u001b[0m     \u001b[0mstart_fit\u001b[0m \u001b[0;34m=\u001b[0m \u001b[0mtime\u001b[0m\u001b[0;34m.\u001b[0m\u001b[0mtime\u001b[0m\u001b[0;34m(\u001b[0m\u001b[0;34m)\u001b[0m\u001b[0;34m\u001b[0m\u001b[0;34m\u001b[0m\u001b[0m\n\u001b[0;32m--> 164\u001b[0;31m     \u001b[0malgo\u001b[0m\u001b[0;34m.\u001b[0m\u001b[0mfit\u001b[0m\u001b[0;34m(\u001b[0m\u001b[0mtrainset\u001b[0m\u001b[0;34m)\u001b[0m\u001b[0;34m\u001b[0m\u001b[0;34m\u001b[0m\u001b[0m\n\u001b[0m\u001b[1;32m    165\u001b[0m     \u001b[0mfit_time\u001b[0m \u001b[0;34m=\u001b[0m \u001b[0mtime\u001b[0m\u001b[0;34m.\u001b[0m\u001b[0mtime\u001b[0m\u001b[0;34m(\u001b[0m\u001b[0;34m)\u001b[0m \u001b[0;34m-\u001b[0m \u001b[0mstart_fit\u001b[0m\u001b[0;34m\u001b[0m\u001b[0;34m\u001b[0m\u001b[0m\n\u001b[1;32m    166\u001b[0m     \u001b[0mstart_test\u001b[0m \u001b[0;34m=\u001b[0m \u001b[0mtime\u001b[0m\u001b[0;34m.\u001b[0m\u001b[0mtime\u001b[0m\u001b[0;34m(\u001b[0m\u001b[0;34m)\u001b[0m\u001b[0;34m\u001b[0m\u001b[0;34m\u001b[0m\u001b[0m\n",
      "\u001b[0;32m/usr/local/lib/python3.6/dist-packages/surprise/prediction_algorithms/matrix_factorization.pyx\u001b[0m in \u001b[0;36msurprise.prediction_algorithms.matrix_factorization.SVD.fit\u001b[0;34m()\u001b[0m\n",
      "\u001b[0;32m/usr/local/lib/python3.6/dist-packages/surprise/prediction_algorithms/matrix_factorization.pyx\u001b[0m in \u001b[0;36msurprise.prediction_algorithms.matrix_factorization.SVD.sgd\u001b[0;34m()\u001b[0m\n",
      "\u001b[0;32m/usr/local/lib/python3.6/dist-packages/surprise/trainset.py\u001b[0m in \u001b[0;36mall_ratings\u001b[0;34m(self)\u001b[0m\n\u001b[1;32m    188\u001b[0m         \u001b[0;32mfor\u001b[0m \u001b[0mu\u001b[0m\u001b[0;34m,\u001b[0m \u001b[0mu_ratings\u001b[0m \u001b[0;32min\u001b[0m \u001b[0miteritems\u001b[0m\u001b[0;34m(\u001b[0m\u001b[0mself\u001b[0m\u001b[0;34m.\u001b[0m\u001b[0mur\u001b[0m\u001b[0;34m)\u001b[0m\u001b[0;34m:\u001b[0m\u001b[0;34m\u001b[0m\u001b[0;34m\u001b[0m\u001b[0m\n\u001b[1;32m    189\u001b[0m             \u001b[0;32mfor\u001b[0m \u001b[0mi\u001b[0m\u001b[0;34m,\u001b[0m \u001b[0mr\u001b[0m \u001b[0;32min\u001b[0m \u001b[0mu_ratings\u001b[0m\u001b[0;34m:\u001b[0m\u001b[0;34m\u001b[0m\u001b[0;34m\u001b[0m\u001b[0m\n\u001b[0;32m--> 190\u001b[0;31m                 \u001b[0;32myield\u001b[0m \u001b[0mu\u001b[0m\u001b[0;34m,\u001b[0m \u001b[0mi\u001b[0m\u001b[0;34m,\u001b[0m \u001b[0mr\u001b[0m\u001b[0;34m\u001b[0m\u001b[0;34m\u001b[0m\u001b[0m\n\u001b[0m\u001b[1;32m    191\u001b[0m \u001b[0;34m\u001b[0m\u001b[0m\n\u001b[1;32m    192\u001b[0m     \u001b[0;32mdef\u001b[0m \u001b[0mbuild_testset\u001b[0m\u001b[0;34m(\u001b[0m\u001b[0mself\u001b[0m\u001b[0;34m)\u001b[0m\u001b[0;34m:\u001b[0m\u001b[0;34m\u001b[0m\u001b[0;34m\u001b[0m\u001b[0m\n",
      "\u001b[0;31mKeyboardInterrupt\u001b[0m: "
     ]
    }
   ],
   "source": [
    "benchmark = []\n",
    "# Iterate over all algorithms\n",
    "for algorithm in [SVD(), SVDpp(), SlopeOne(), NMF(), NormalPredictor(), KNNBaseline(), KNNBasic(), KNNWithMeans(), KNNWithZScore(), BaselineOnly(), CoClustering()]:\n",
    "    print(algorithm)\n",
    "    # Perform cross validation\n",
    "    results = cross_validate(algorithm, data, measures=['RMSE'], cv=3, verbose=False)\n",
    "    \n",
    "    # Get results & append algorithm name\n",
    "    tmp = pd.DataFrame.from_dict(results).mean(axis=0)\n",
    "    tmp = tmp.append(pd.Series([str(algorithm).split(' ')[0].split('.')[-1]], index=['Algorithm']))\n",
    "    benchmark.append(tmp)\n",
    "    \n",
    "pd.DataFrame(benchmark).set_index('Algorithm').sort_values('test_rmse')   "
   ]
  },
  {
   "cell_type": "markdown",
   "metadata": {
    "colab_type": "text",
    "id": "MDgvnWTbuXFw"
   },
   "source": [
    "## Other models or methods that have been tried"
   ]
  },
  {
   "cell_type": "markdown",
   "metadata": {
    "colab_type": "text",
    "id": "UiAMaiqZkqWA"
   },
   "source": [
    "### Tensorflow"
   ]
  },
  {
   "cell_type": "code",
   "execution_count": 0,
   "metadata": {
    "colab": {},
    "colab_type": "code",
    "id": "p3wmZlSwksFB"
   },
   "outputs": [],
   "source": [
    "ratings_df = ratings_sample.drop('timestamp', axis=1)"
   ]
  },
  {
   "cell_type": "code",
   "execution_count": 0,
   "metadata": {
    "colab": {},
    "colab_type": "code",
    "id": "vLm98BYAk1Ly"
   },
   "outputs": [],
   "source": [
    "import tensorflow as tf\n",
    "import numpy as np \n",
    "from sklearn.preprocessing import MinMaxScaler\n",
    "#from tensorflow.preprocessing import MinMaxScaler\n",
    "r = ratings_df['rating'].values.astype(float)\n",
    "min_max_scaler = MinMaxScaler()\n",
    "x_scaled = min_max_scaler.fit_transform(r.reshape(-1,1))\n",
    "df_normalized = pd.DataFrame(x_scaled)\n",
    "ratings_df['rating'] = df_normalized"
   ]
  },
  {
   "cell_type": "code",
   "execution_count": 46,
   "metadata": {
    "colab": {
     "base_uri": "https://localhost:8080/",
     "height": 34
    },
    "colab_type": "code",
    "executionInfo": {
     "elapsed": 658,
     "status": "ok",
     "timestamp": 1563294104375,
     "user": {
      "displayName": "Thibault Foureur",
      "photoUrl": "",
      "userId": "09770321977413832787"
     },
     "user_tz": -120
    },
    "id": "1vKgXE6pQqpO",
    "outputId": "dc91f625-cda1-4599-a828-e95794762472"
   },
   "outputs": [
    {
     "data": {
      "text/plain": [
       "13545"
      ]
     },
     "execution_count": 46,
     "metadata": {
      "tags": []
     },
     "output_type": "execute_result"
    }
   ],
   "source": [
    "n_unique_users = ratings_df.userId.unique().shape[0]\n",
    "n_unique_users"
   ]
  },
  {
   "cell_type": "code",
   "execution_count": 47,
   "metadata": {
    "colab": {
     "base_uri": "https://localhost:8080/",
     "height": 34
    },
    "colab_type": "code",
    "executionInfo": {
     "elapsed": 487,
     "status": "ok",
     "timestamp": 1563294104376,
     "user": {
      "displayName": "Thibault Foureur",
      "photoUrl": "",
      "userId": "09770321977413832787"
     },
     "user_tz": -120
    },
    "id": "i4pba19tQrSS",
    "outputId": "8bbcae34-4589-45b8-d501-9ab20bf10c0c"
   },
   "outputs": [
    {
     "data": {
      "text/plain": [
       "20422"
      ]
     },
     "execution_count": 47,
     "metadata": {
      "tags": []
     },
     "output_type": "execute_result"
    }
   ],
   "source": [
    "n_unique_movie = ratings_df.movieId.unique().shape[0]\n",
    "n_unique_movie"
   ]
  },
  {
   "cell_type": "code",
   "execution_count": 0,
   "metadata": {
    "colab": {},
    "colab_type": "code",
    "id": "BbK6ox2Jlx7i"
   },
   "outputs": [],
   "source": [
    "matrix = ratings_df.pivot(index='userId', columns='movieId', values='rating')\n",
    "matrix.fillna(0, inplace=True)"
   ]
  },
  {
   "cell_type": "code",
   "execution_count": 49,
   "metadata": {
    "colab": {
     "base_uri": "https://localhost:8080/",
     "height": 51
    },
    "colab_type": "code",
    "executionInfo": {
     "elapsed": 521,
     "status": "ok",
     "timestamp": 1563294173345,
     "user": {
      "displayName": "Thibault Foureur",
      "photoUrl": "",
      "userId": "09770321977413832787"
     },
     "user_tz": -120
    },
    "id": "66fA3Bb7l99m",
    "outputId": "6738a1df-9992-482a-ded7-fdca23a890a5"
   },
   "outputs": [
    {
     "name": "stderr",
     "output_type": "stream",
     "text": [
      "/usr/local/lib/python3.6/dist-packages/ipykernel_launcher.py:4: FutureWarning: Method .as_matrix will be removed in a future version. Use .values instead.\n",
      "  after removing the cwd from sys.path.\n"
     ]
    }
   ],
   "source": [
    "users = matrix.index.tolist()\n",
    "items = matrix.columns.tolist()\n",
    "\n",
    "matrix = matrix.as_matrix()"
   ]
  },
  {
   "cell_type": "code",
   "execution_count": 0,
   "metadata": {
    "colab": {},
    "colab_type": "code",
    "id": "Pft6bfLkmBU9"
   },
   "outputs": [],
   "source": [
    "num_input = n_unique_movie\n",
    "num_hidden_1 = 10\n",
    "num_hidden_2 = 5\n",
    "\n",
    "X = tf.placeholder(tf.float64, [None, num_input])\n",
    "\n",
    "weights = {\n",
    "    'encoder_h1': tf.Variable(tf.random_normal([num_input, num_hidden_1], dtype=tf.float64)),\n",
    "    'encoder_h2': tf.Variable(tf.random_normal([num_hidden_1, num_hidden_2], dtype=tf.float64)),\n",
    "    'decoder_h1': tf.Variable(tf.random_normal([num_hidden_2, num_hidden_1], dtype=tf.float64)),\n",
    "    'decoder_h2': tf.Variable(tf.random_normal([num_hidden_1, num_input], dtype=tf.float64)),\n",
    "}\n",
    "\n",
    "biases = {\n",
    "    'encoder_b1': tf.Variable(tf.random_normal([num_hidden_1], dtype=tf.float64)),\n",
    "    'encoder_b2': tf.Variable(tf.random_normal([num_hidden_2], dtype=tf.float64)),\n",
    "    'decoder_b1': tf.Variable(tf.random_normal([num_hidden_1], dtype=tf.float64)),\n",
    "    'decoder_b2': tf.Variable(tf.random_normal([num_input], dtype=tf.float64)),\n",
    "}"
   ]
  },
  {
   "cell_type": "code",
   "execution_count": 0,
   "metadata": {
    "colab": {},
    "colab_type": "code",
    "id": "PAN7cQ0pmLme"
   },
   "outputs": [],
   "source": [
    "# Building the encoder\n",
    "\n",
    "def encoder(x):\n",
    "    # Encoder Hidden layer with sigmoid activation #1\n",
    "    layer_1 = tf.nn.sigmoid(tf.add(tf.matmul(x, weights['encoder_h1']), biases['encoder_b1']))\n",
    "    # Encoder Hidden layer with sigmoid activation #2\n",
    "    layer_2 = tf.nn.sigmoid(tf.add(tf.matmul(layer_1, weights['encoder_h2']), biases['encoder_b2']))\n",
    "    return layer_2\n",
    "\n",
    "\n",
    "# Building the decoder\n",
    "\n",
    "def decoder(x):\n",
    "    # Decoder Hidden layer with sigmoid activation #1\n",
    "    layer_1 = tf.nn.sigmoid(tf.add(tf.matmul(x, weights['decoder_h1']), biases['decoder_b1']))\n",
    "    # Decoder Hidden layer with sigmoid activation #2\n",
    "    layer_2 = tf.nn.sigmoid(tf.add(tf.matmul(layer_1, weights['decoder_h2']), biases['decoder_b2']))\n",
    "    return layer_2\n",
    "\n",
    "\n",
    "# Construct model\n",
    "\n",
    "encoder_op = encoder(X)\n",
    "decoder_op = decoder(encoder_op)\n",
    "\n",
    "\n",
    "# Prediction\n",
    "\n",
    "y_pred = decoder_op\n",
    "\n",
    "\n",
    "# Targets are the input data.\n",
    "\n",
    "y_true = X"
   ]
  },
  {
   "cell_type": "code",
   "execution_count": 53,
   "metadata": {
    "colab": {
     "base_uri": "https://localhost:8080/",
     "height": 207
    },
    "colab_type": "code",
    "executionInfo": {
     "elapsed": 850,
     "status": "ok",
     "timestamp": 1563294230312,
     "user": {
      "displayName": "Thibault Foureur",
      "photoUrl": "",
      "userId": "09770321977413832787"
     },
     "user_tz": -120
    },
    "id": "fGrqhwD9mNzT",
    "outputId": "e13e5b87-f3bc-40bb-92bf-4f9642db8773"
   },
   "outputs": [
    {
     "name": "stderr",
     "output_type": "stream",
     "text": [
      "WARNING: Logging before flag parsing goes to stderr.\n",
      "W0716 16:23:49.584942 140689896007552 deprecation.py:323] From /usr/local/lib/python3.6/dist-packages/tensorflow/python/ops/losses/losses_impl.py:121: add_dispatch_support.<locals>.wrapper (from tensorflow.python.ops.array_ops) is deprecated and will be removed in a future version.\n",
      "Instructions for updating:\n",
      "Use tf.where in 2.0, which has the same broadcast rule as np.where\n",
      "W0716 16:23:49.714000 140689896007552 deprecation.py:506] From /usr/local/lib/python3.6/dist-packages/tensorflow/python/training/rmsprop.py:119: calling Ones.__init__ (from tensorflow.python.ops.init_ops) with dtype is deprecated and will be removed in a future version.\n",
      "Instructions for updating:\n",
      "Call initializer instance with the dtype argument instead of passing it to the constructor\n",
      "W0716 16:23:49.912420 140689896007552 deprecation.py:323] From /usr/local/lib/python3.6/dist-packages/tensorflow/python/ops/metrics_impl.py:2027: div (from tensorflow.python.ops.math_ops) is deprecated and will be removed in a future version.\n",
      "Instructions for updating:\n",
      "Deprecated in favor of operator or tf.math.divide.\n"
     ]
    }
   ],
   "source": [
    "# Define loss and optimizer, minimize the squared error\n",
    "\n",
    "loss = tf.losses.mean_squared_error(y_true, y_pred)\n",
    "optimizer = tf.train.RMSPropOptimizer(0.03).minimize(loss)\n",
    "\n",
    "predictions = pd.DataFrame()\n",
    "\n",
    "# Define evaluation metrics\n",
    "\n",
    "eval_x = tf.placeholder(tf.int32, )\n",
    "eval_y = tf.placeholder(tf.int32, )\n",
    "pre, pre_op = tf.metrics.precision(labels=eval_x, predictions=eval_y)"
   ]
  },
  {
   "cell_type": "code",
   "execution_count": 0,
   "metadata": {
    "colab": {},
    "colab_type": "code",
    "id": "_xB5ALDJmQEG"
   },
   "outputs": [],
   "source": [
    "# Initialize the variables (i.e. assign their default value)\n",
    "\n",
    "init = tf.global_variables_initializer()\n",
    "local_init = tf.local_variables_initializer()"
   ]
  },
  {
   "cell_type": "code",
   "execution_count": 0,
   "metadata": {
    "colab": {
     "base_uri": "https://localhost:8080/",
     "height": 119
    },
    "colab_type": "code",
    "id": "teOuw4BBmSq1",
    "outputId": "fbbb1cce-14ad-47c8-83dd-3cc880b13ec9"
   },
   "outputs": [
    {
     "name": "stdout",
     "output_type": "stream",
     "text": [
      "Epoch: 1 Loss: 0.36070097651746535\n",
      "Epoch: 2 Loss: 0.3551486294578623\n",
      "Epoch: 3 Loss: 0.3065214852492015\n",
      "Epoch: 4 Loss: 0.260313021088088\n",
      "Epoch: 5 Loss: 0.1307588339679771\n",
      "Predictions...\n"
     ]
    }
   ],
   "source": [
    "with tf.Session() as session:\n",
    "    epochs = 5\n",
    "    batch_size = 250\n",
    "\n",
    "    session.run(init)\n",
    "    session.run(local_init)\n",
    "\n",
    "    num_batches = int(matrix.shape[0] / batch_size)\n",
    "    matrix = np.array_split(matrix, num_batches)\n",
    "\n",
    "    for i in range(epochs):\n",
    "\n",
    "        avg_cost = 0\n",
    "\n",
    "        for batch in matrix:\n",
    "            _, l = session.run([optimizer, loss], feed_dict={X: batch})\n",
    "            avg_cost += l\n",
    "\n",
    "        avg_cost /= num_batches\n",
    "\n",
    "        print(\"Epoch: {} Loss: {}\".format(i + 1, avg_cost))\n",
    "\n",
    "    print(\"Predictions...\")\n",
    "\n",
    "    matrix = np.concatenate(matrix, axis=0)\n",
    "\n",
    "    preds = session.run(decoder_op, feed_dict={X: matrix})\n",
    "\n",
    "    predictions = predictions.append(pd.DataFrame(preds))\n",
    "\n",
    "    predictions = predictions.stack().reset_index(name='rating')\n",
    "    predictions.columns = ['user', 'item', 'rating']\n",
    "    predictions['user'] = predictions['user'].map(lambda value: users[value])\n",
    "    predictions['item'] = predictions['item'].map(lambda value: items[value])"
   ]
  },
  {
   "cell_type": "markdown",
   "metadata": {
    "colab_type": "text",
    "id": "atIhnw5fIqrx"
   },
   "source": [
    "### Notation base recommandation"
   ]
  },
  {
   "cell_type": "code",
   "execution_count": 0,
   "metadata": {
    "colab": {},
    "colab_type": "code",
    "id": "mwoIZVJNIqry"
   },
   "outputs": [],
   "source": [
    "def charted_movies(dataframe):\n",
    "    m = dataframe['vote_count'].quantile(0.8)\n",
    "    C = dataframe['vote_average'].mean()\n",
    "    charted_movies_df = dataframe[(dataframe['vote_count'] >= m) & \n",
    "               (dataframe['vote_count'].notnull()) & \n",
    "               (dataframe['vote_average'].notnull())]\n",
    "    print(f\"On {len(dataframe)} movies, only {len(charted_movies_df)} are qualified for the chart with at least {m} votes. The average rating is {C}/10\")\n",
    "    return charted_movies_df"
   ]
  },
  {
   "cell_type": "code",
   "execution_count": 0,
   "metadata": {
    "colab": {
     "base_uri": "https://localhost:8080/",
     "height": 51
    },
    "colab_type": "code",
    "executionInfo": {
     "elapsed": 110983,
     "status": "ok",
     "timestamp": 1563207377550,
     "user": {
      "displayName": "Thibault Foureur",
      "photoUrl": "",
      "userId": "09770321977413832787"
     },
     "user_tz": -120
    },
    "id": "kuIZrhwVIqrz",
    "outputId": "40f7f625-633a-4526-9d6b-39f53639cc9b"
   },
   "outputs": [
    {
     "name": "stdout",
     "output_type": "stream",
     "text": [
      "On 45466 movies, only 9151 are qualified for the chart with at least 50.0 votes. The average rating is 5.618207215133889/10\n"
     ]
    },
    {
     "data": {
      "text/plain": [
       "(9151, 25)"
      ]
     },
     "execution_count": 31,
     "metadata": {
      "tags": []
     },
     "output_type": "execute_result"
    }
   ],
   "source": [
    "charted_movies_df = charted_movies(movies_medata)\n",
    "charted_movies_df.shape"
   ]
  },
  {
   "cell_type": "code",
   "execution_count": 0,
   "metadata": {
    "colab": {
     "base_uri": "https://localhost:8080/",
     "height": 119
    },
    "colab_type": "code",
    "executionInfo": {
     "elapsed": 121173,
     "status": "ok",
     "timestamp": 1563207388846,
     "user": {
      "displayName": "Thibault Foureur",
      "photoUrl": "",
      "userId": "09770321977413832787"
     },
     "user_tz": -120
    },
    "id": "cqRX5uWoIqr1",
    "outputId": "3983cb1e-1337-427a-d5d2-11baae809b96"
   },
   "outputs": [
    {
     "name": "stderr",
     "output_type": "stream",
     "text": [
      "/usr/local/lib/python3.6/dist-packages/ipykernel_launcher.py:1: SettingWithCopyWarning: \n",
      "A value is trying to be set on a copy of a slice from a DataFrame.\n",
      "Try using .loc[row_indexer,col_indexer] = value instead\n",
      "\n",
      "See the caveats in the documentation: http://pandas.pydata.org/pandas-docs/stable/indexing.html#indexing-view-versus-copy\n",
      "  \"\"\"Entry point for launching an IPython kernel.\n"
     ]
    }
   ],
   "source": [
    "charted_movies_df['weighted_rating'] = charted_movies_df.apply(lambda x: weighted_rating(x, charted_movies_df), axis=1)"
   ]
  },
  {
   "cell_type": "code",
   "execution_count": 0,
   "metadata": {
    "colab": {
     "base_uri": "https://localhost:8080/",
     "height": 119
    },
    "colab_type": "code",
    "executionInfo": {
     "elapsed": 118478,
     "status": "ok",
     "timestamp": 1563207388847,
     "user": {
      "displayName": "Thibault Foureur",
      "photoUrl": "",
      "userId": "09770321977413832787"
     },
     "user_tz": -120
    },
    "id": "KhV77mjGIqr3",
    "outputId": "2aec3751-4804-4c9f-80b6-398a9bc09506"
   },
   "outputs": [
    {
     "data": {
      "text/plain": [
       "0    7.451476\n",
       "1    6.717594\n",
       "2    6.370562\n",
       "4    6.279648\n",
       "5    7.170373\n",
       "Name: weighted_rating, dtype: float64"
      ]
     },
     "execution_count": 33,
     "metadata": {
      "tags": []
     },
     "output_type": "execute_result"
    }
   ],
   "source": [
    "charted_movies_df['weighted_rating'][:5]"
   ]
  },
  {
   "cell_type": "code",
   "execution_count": 0,
   "metadata": {
    "colab": {
     "base_uri": "https://localhost:8080/",
     "height": 359
    },
    "colab_type": "code",
    "executionInfo": {
     "elapsed": 117027,
     "status": "ok",
     "timestamp": 1563207388848,
     "user": {
      "displayName": "Thibault Foureur",
      "photoUrl": "",
      "userId": "09770321977413832787"
     },
     "user_tz": -120
    },
    "id": "6mgLw8YhIqr5",
    "outputId": "ccb57be2-c35a-43de-9fca-9d9387216e84"
   },
   "outputs": [
    {
     "data": {
      "text/html": [
       "<div>\n",
       "<style scoped>\n",
       "    .dataframe tbody tr th:only-of-type {\n",
       "        vertical-align: middle;\n",
       "    }\n",
       "\n",
       "    .dataframe tbody tr th {\n",
       "        vertical-align: top;\n",
       "    }\n",
       "\n",
       "    .dataframe thead th {\n",
       "        text-align: right;\n",
       "    }\n",
       "</style>\n",
       "<table border=\"1\" class=\"dataframe\">\n",
       "  <thead>\n",
       "    <tr style=\"text-align: right;\">\n",
       "      <th></th>\n",
       "      <th>genres</th>\n",
       "      <th>title</th>\n",
       "      <th>vote_average</th>\n",
       "      <th>vote_count</th>\n",
       "      <th>weighted_rating</th>\n",
       "      <th>popularity</th>\n",
       "      <th>release_date</th>\n",
       "    </tr>\n",
       "  </thead>\n",
       "  <tbody>\n",
       "    <tr>\n",
       "      <th>314</th>\n",
       "      <td>[Drama, Crime]</td>\n",
       "      <td>The Shawshank Redemption</td>\n",
       "      <td>8.5</td>\n",
       "      <td>8358.0</td>\n",
       "      <td>8.224809</td>\n",
       "      <td>51.6454</td>\n",
       "      <td>1994-09-23</td>\n",
       "    </tr>\n",
       "    <tr>\n",
       "      <th>834</th>\n",
       "      <td>[Drama, Crime]</td>\n",
       "      <td>The Godfather</td>\n",
       "      <td>8.5</td>\n",
       "      <td>6024.0</td>\n",
       "      <td>8.136314</td>\n",
       "      <td>41.1093</td>\n",
       "      <td>1972-03-14</td>\n",
       "    </tr>\n",
       "    <tr>\n",
       "      <th>12481</th>\n",
       "      <td>[Drama, Action, Crime, Thriller]</td>\n",
       "      <td>The Dark Knight</td>\n",
       "      <td>8.3</td>\n",
       "      <td>12269.0</td>\n",
       "      <td>8.122792</td>\n",
       "      <td>123.167</td>\n",
       "      <td>2008-07-16</td>\n",
       "    </tr>\n",
       "    <tr>\n",
       "      <th>2843</th>\n",
       "      <td>[Drama]</td>\n",
       "      <td>Fight Club</td>\n",
       "      <td>8.3</td>\n",
       "      <td>9678.0</td>\n",
       "      <td>8.080715</td>\n",
       "      <td>63.8696</td>\n",
       "      <td>1999-10-15</td>\n",
       "    </tr>\n",
       "    <tr>\n",
       "      <th>292</th>\n",
       "      <td>[Thriller, Crime]</td>\n",
       "      <td>Pulp Fiction</td>\n",
       "      <td>8.3</td>\n",
       "      <td>8670.0</td>\n",
       "      <td>8.058397</td>\n",
       "      <td>140.95</td>\n",
       "      <td>1994-09-10</td>\n",
       "    </tr>\n",
       "    <tr>\n",
       "      <th>15480</th>\n",
       "      <td>[Action, Thriller, Science Fiction, Mystery, A...</td>\n",
       "      <td>Inception</td>\n",
       "      <td>8.1</td>\n",
       "      <td>14075.0</td>\n",
       "      <td>7.959819</td>\n",
       "      <td>29.1081</td>\n",
       "      <td>2010-07-14</td>\n",
       "    </tr>\n",
       "    <tr>\n",
       "      <th>351</th>\n",
       "      <td>[Comedy, Drama, Romance]</td>\n",
       "      <td>Forrest Gump</td>\n",
       "      <td>8.2</td>\n",
       "      <td>8147.0</td>\n",
       "      <td>7.958082</td>\n",
       "      <td>48.3072</td>\n",
       "      <td>1994-07-06</td>\n",
       "    </tr>\n",
       "    <tr>\n",
       "      <th>22879</th>\n",
       "      <td>[Adventure, Drama, Science Fiction]</td>\n",
       "      <td>Interstellar</td>\n",
       "      <td>8.1</td>\n",
       "      <td>11187.0</td>\n",
       "      <td>7.927225</td>\n",
       "      <td>32.2135</td>\n",
       "      <td>2014-11-05</td>\n",
       "    </tr>\n",
       "    <tr>\n",
       "      <th>1154</th>\n",
       "      <td>[Adventure, Action, Science Fiction]</td>\n",
       "      <td>The Empire Strikes Back</td>\n",
       "      <td>8.2</td>\n",
       "      <td>5998.0</td>\n",
       "      <td>7.886195</td>\n",
       "      <td>19.471</td>\n",
       "      <td>1980-05-17</td>\n",
       "    </tr>\n",
       "    <tr>\n",
       "      <th>522</th>\n",
       "      <td>[Drama, History, War]</td>\n",
       "      <td>Schindler's List</td>\n",
       "      <td>8.3</td>\n",
       "      <td>4436.0</td>\n",
       "      <td>7.877983</td>\n",
       "      <td>41.7251</td>\n",
       "      <td>1993-11-29</td>\n",
       "    </tr>\n",
       "  </tbody>\n",
       "</table>\n",
       "</div>"
      ],
      "text/plain": [
       "                                                  genres  ... release_date\n",
       "314                                       [Drama, Crime]  ...   1994-09-23\n",
       "834                                       [Drama, Crime]  ...   1972-03-14\n",
       "12481                   [Drama, Action, Crime, Thriller]  ...   2008-07-16\n",
       "2843                                             [Drama]  ...   1999-10-15\n",
       "292                                    [Thriller, Crime]  ...   1994-09-10\n",
       "15480  [Action, Thriller, Science Fiction, Mystery, A...  ...   2010-07-14\n",
       "351                             [Comedy, Drama, Romance]  ...   1994-07-06\n",
       "22879                [Adventure, Drama, Science Fiction]  ...   2014-11-05\n",
       "1154                [Adventure, Action, Science Fiction]  ...   1980-05-17\n",
       "522                                [Drama, History, War]  ...   1993-11-29\n",
       "\n",
       "[10 rows x 7 columns]"
      ]
     },
     "execution_count": 34,
     "metadata": {
      "tags": []
     },
     "output_type": "execute_result"
    }
   ],
   "source": [
    "charted_movies_df.sort_values('weighted_rating', ascending=False)[['genres','title','vote_average','vote_count','weighted_rating','popularity','release_date']].head(10)"
   ]
  },
  {
   "cell_type": "markdown",
   "metadata": {
    "colab_type": "text",
    "id": "91jPcVhFIqr7"
   },
   "source": [
    "It seems here that the popularity isn't correlated (or at least not only correlated) with the weighted rating"
   ]
  },
  {
   "cell_type": "markdown",
   "metadata": {
    "colab_type": "text",
    "id": "6vghvPWEIqr8"
   },
   "source": [
    "### Content based recommandation"
   ]
  },
  {
   "cell_type": "markdown",
   "metadata": {
    "colab_type": "text",
    "id": "WY5heWotIqr8"
   },
   "source": [
    "### Using overview text"
   ]
  },
  {
   "cell_type": "code",
   "execution_count": 0,
   "metadata": {
    "colab": {
     "base_uri": "https://localhost:8080/",
     "height": 119
    },
    "colab_type": "code",
    "executionInfo": {
     "elapsed": 108576,
     "status": "ok",
     "timestamp": 1563203570927,
     "user": {
      "displayName": "Thibault Foureur",
      "photoUrl": "",
      "userId": "09770321977413832787"
     },
     "user_tz": -120
    },
    "id": "8niU7H1HIqr9",
    "outputId": "2322d7f5-34c8-4681-85b1-03cccb27c873"
   },
   "outputs": [
    {
     "data": {
      "text/plain": [
       "0    Led by Woody, Andy's toys live happily in his ...\n",
       "1    When siblings Judy and Peter discover an encha...\n",
       "2    A family wedding reignites the ancient feud be...\n",
       "3    Cheated on, mistreated and stepped on, the wom...\n",
       "4    Just when George Banks has recovered from his ...\n",
       "Name: overview, dtype: object"
      ]
     },
     "execution_count": 39,
     "metadata": {
      "tags": []
     },
     "output_type": "execute_result"
    }
   ],
   "source": [
    "movies_medata['overview'].head(5)"
   ]
  },
  {
   "cell_type": "code",
   "execution_count": 0,
   "metadata": {
    "colab": {},
    "colab_type": "code",
    "id": "OjpSnDKRIqr_"
   },
   "outputs": [],
   "source": [
    "from sklearn.feature_extraction.text import TfidfVectorizer\n",
    "#We need to remove all the stopwords from the text and replace the empty overview with an empty string\n",
    "tfidf = TfidfVectorizer(stop_words='english')\n",
    "movies_medata['overview'] = movies_medata['overview'].fillna('')\n",
    "\n",
    "tfidf_matrix = tfidf.fit_transform(movies_medata['overview'])"
   ]
  },
  {
   "cell_type": "code",
   "execution_count": 0,
   "metadata": {
    "colab": {
     "base_uri": "https://localhost:8080/",
     "height": 34
    },
    "colab_type": "code",
    "executionInfo": {
     "elapsed": 110960,
     "status": "ok",
     "timestamp": 1563203573806,
     "user": {
      "displayName": "Thibault Foureur",
      "photoUrl": "",
      "userId": "09770321977413832787"
     },
     "user_tz": -120
    },
    "id": "o6CrcNk-IqsA",
    "outputId": "58be57c2-56b3-4188-c443-70a6db3da124"
   },
   "outputs": [
    {
     "data": {
      "text/plain": [
       "(45466, 75827)"
      ]
     },
     "execution_count": 41,
     "metadata": {
      "tags": []
     },
     "output_type": "execute_result"
    }
   ],
   "source": [
    "tfidf_matrix.shape"
   ]
  },
  {
   "cell_type": "markdown",
   "metadata": {
    "colab_type": "text",
    "id": "IN8FXz0fIqsC"
   },
   "source": [
    "We have around 76k different words to describe our movie"
   ]
  },
  {
   "cell_type": "code",
   "execution_count": 0,
   "metadata": {
    "colab": {
     "base_uri": "https://localhost:8080/",
     "height": 1000
    },
    "colab_type": "code",
    "executionInfo": {
     "elapsed": 107656,
     "status": "ok",
     "timestamp": 1563203573808,
     "user": {
      "displayName": "Thibault Foureur",
      "photoUrl": "",
      "userId": "09770321977413832787"
     },
     "user_tz": -120
    },
    "id": "ftJW-hldIqsC",
    "outputId": "7ddd5b5d-1c36-4e45-e7e0-d2117fcfc0ec"
   },
   "outputs": [
    {
     "data": {
      "text/plain": [
       "title\n",
       "Toy Story                               0\n",
       "Jumanji                                 1\n",
       "Grumpier Old Men                        2\n",
       "Waiting to Exhale                       3\n",
       "Father of the Bride Part II             4\n",
       "Heat                                    5\n",
       "Sabrina                                 6\n",
       "Tom and Huck                            7\n",
       "Sudden Death                            8\n",
       "GoldenEye                               9\n",
       "The American President                 10\n",
       "Dracula: Dead and Loving It            11\n",
       "Balto                                  12\n",
       "Nixon                                  13\n",
       "Cutthroat Island                       14\n",
       "Casino                                 15\n",
       "Sense and Sensibility                  16\n",
       "Four Rooms                             17\n",
       "Ace Ventura: When Nature Calls         18\n",
       "Money Train                            19\n",
       "Get Shorty                             20\n",
       "Copycat                                21\n",
       "Assassins                              22\n",
       "Powder                                 23\n",
       "Leaving Las Vegas                      24\n",
       "Othello                                25\n",
       "Now and Then                           26\n",
       "Persuasion                             27\n",
       "The City of Lost Children              28\n",
       "Shanghai Triad                         29\n",
       "                                    ...  \n",
       "The Final Storm                     45436\n",
       "In a Heartbeat                      45437\n",
       "Blood, Sweat and Tears              45438\n",
       "Jungle Woman                        45439\n",
       "To Be Fat Like Me                   45440\n",
       "Cadet Kelly                         45441\n",
       "The Scheming Gambler's Paradise     45442\n",
       "The Man with the Rubber Head        45443\n",
       "The Living Playing Cards            45444\n",
       "The Hilarious Posters               45445\n",
       "The Devilish Tenant                 45446\n",
       "The Untameable Whiskers             45447\n",
       "The Imperceptable Transmutations    45448\n",
       "Pooh's Heffalump Halloween Movie    45449\n",
       "The One-Man Band                    45450\n",
       "The Fat and Lean Wrestling Match    45451\n",
       "Deep Hearts                         45452\n",
       "Mom                                 45453\n",
       "The Morning After                   45454\n",
       "St. Michael Had a Rooster           45455\n",
       "House of Horrors                    45456\n",
       "Shadow of the Blair Witch           45457\n",
       "The Burkittsville 7                 45458\n",
       "Caged Heat 3000                     45459\n",
       "Robin Hood                          45460\n",
       "Subdue                              45461\n",
       "Century of Birthing                 45462\n",
       "Betrayal                            45463\n",
       "Satan Triumphant                    45464\n",
       "Queerama                            45465\n",
       "Length: 45466, dtype: int64"
      ]
     },
     "execution_count": 42,
     "metadata": {
      "tags": []
     },
     "output_type": "execute_result"
    }
   ],
   "source": [
    "#Construct a reverse map of indices and movie titles\n",
    "indices = pd.Series(movies_medata.index, index=movies_medata['title']).drop_duplicates()\n",
    "indices"
   ]
  },
  {
   "cell_type": "code",
   "execution_count": 0,
   "metadata": {
    "colab": {},
    "colab_type": "code",
    "id": "K4y6EKalIqsE"
   },
   "outputs": [],
   "source": [
    "from sklearn.metrics.pairwise import linear_kernel\n",
    "\n",
    "# Compute the cosine similarity matrix\n",
    "cosine_sim = linear_kernel(tfidf_matrix, tfidf_matrix)"
   ]
  },
  {
   "cell_type": "code",
   "execution_count": 0,
   "metadata": {
    "colab": {},
    "colab_type": "code",
    "id": "Vk60HQDwIqsM"
   },
   "outputs": [],
   "source": []
  },
  {
   "cell_type": "markdown",
   "metadata": {
    "colab_type": "text",
    "id": "RXTGeLQ0al74"
   },
   "source": [
    "### Using genres"
   ]
  },
  {
   "cell_type": "code",
   "execution_count": 0,
   "metadata": {
    "colab": {},
    "colab_type": "code",
    "id": "soqOo8EUnyKC"
   },
   "outputs": [],
   "source": [
    "def get_recommendations(title):\n",
    "    idx = indices[title]\n",
    "    sim_scores = list(enumerate(cosine_sim[idx]))\n",
    "    sim_scores = sorted(sim_scores, key=lambda x: x[1], reverse=True)\n",
    "    sim_scores = sim_scores[1:31]\n",
    "    movie_indices = [i[0] for i in sim_scores]\n",
    "    return titles.iloc[movie_indices]"
   ]
  },
  {
   "cell_type": "code",
   "execution_count": 30,
   "metadata": {
    "colab": {
     "base_uri": "https://localhost:8080/",
     "height": 1000
    },
    "colab_type": "code",
    "executionInfo": {
     "elapsed": 310,
     "status": "ok",
     "timestamp": 1563305717056,
     "user": {
      "displayName": "Thibault Foureur",
      "photoUrl": "",
      "userId": "09770321977413832787"
     },
     "user_tz": -120
    },
    "id": "vWpvd4h8gKS6",
    "outputId": "ff007918-78f3-4a3d-ed1b-dbaa7312fab6"
   },
   "outputs": [
    {
     "data": {
      "text/plain": [
       "0                        ['Animation', 'Comedy', 'Family']\n",
       "1                       ['Adventure', 'Fantasy', 'Family']\n",
       "5                 ['Action', 'Crime', 'Drama', 'Thriller']\n",
       "9                      ['Adventure', 'Action', 'Thriller']\n",
       "14                                 ['Action', 'Adventure']\n",
       "15                                      ['Drama', 'Crime']\n",
       "16                                    ['Drama', 'Romance']\n",
       "17                                     ['Crime', 'Comedy']\n",
       "20                         ['Comedy', 'Thriller', 'Crime']\n",
       "21                                   ['Drama', 'Thriller']\n",
       "24                                    ['Drama', 'Romance']\n",
       "28             ['Fantasy', 'Science Fiction', 'Adventure']\n",
       "31              ['Science Fiction', 'Thriller', 'Mystery']\n",
       "35                                               ['Drama']\n",
       "44              ['Fantasy', 'Drama', 'Comedy', 'Thriller']\n",
       "46                        ['Crime', 'Mystery', 'Thriller']\n",
       "48                                    ['Drama', 'Romance']\n",
       "49                          ['Drama', 'Crime', 'Thriller']\n",
       "61                            ['Music', 'Drama', 'Family']\n",
       "67                                   ['Comedy', 'Romance']\n",
       "69               ['Horror', 'Action', 'Thriller', 'Crime']\n",
       "80                                      ['Drama', 'Crime']\n",
       "81                                     ['Drama', 'Comedy']\n",
       "84                                    ['Drama', 'Romance']\n",
       "88                          ['Crime', 'Drama', 'Thriller']\n",
       "95                                               ['Drama']\n",
       "101      ['Drama', 'Mystery', 'Science Fiction', 'Thril...\n",
       "103                                   ['Drama', 'Romance']\n",
       "108                  ['Action', 'Drama', 'History', 'War']\n",
       "109                                     ['Crime', 'Drama']\n",
       "                               ...                        \n",
       "44984                                            ['Drama']\n",
       "44995                                 ['History', 'Drama']\n",
       "45025                        ['Music', 'Family', 'Comedy']\n",
       "45040           ['Adventure', 'Comedy', 'Science Fiction']\n",
       "45041       ['Adventure', 'Family', 'Fantasy', 'TV Movie']\n",
       "45068                              ['Mystery', 'Thriller']\n",
       "45102                                        ['Animation']\n",
       "45112                                ['Comedy', 'Romance']\n",
       "45114                                ['Drama', 'Thriller']\n",
       "45122                                  ['Comedy', 'Crime']\n",
       "45147                                  ['Horror', 'Drama']\n",
       "45216                                           ['Comedy']\n",
       "45237                                ['Comedy', 'Romance']\n",
       "45249                                 ['Drama', 'Foreign']\n",
       "45289                                  ['Drama', 'Comedy']\n",
       "45292                                  ['Crime', 'Comedy']\n",
       "45296                           ['Documentary', 'Foreign']\n",
       "45315                                ['Fantasy', 'Family']\n",
       "45318                                            ['Drama']\n",
       "45326                                            ['Drama']\n",
       "45340             ['Comedy', 'Fantasy', 'Science Fiction']\n",
       "45353                        ['Horror', 'Science Fiction']\n",
       "45366                                           ['Horror']\n",
       "45368                                           ['Comedy']\n",
       "45395                                  ['Drama', 'Horror']\n",
       "45403                                 ['Romance', 'Drama']\n",
       "45406                                ['Comedy', 'Romance']\n",
       "45433                        ['Music', 'Comedy', 'Family']\n",
       "45450                    ['Fantasy', 'Action', 'Thriller']\n",
       "45462                                            ['Drama']\n",
       "Name: genres, Length: 5793, dtype: object"
      ]
     },
     "execution_count": 30,
     "metadata": {
      "tags": []
     },
     "output_type": "execute_result"
    }
   ],
   "source": [
    "movies_sample['genres'].astype('str')"
   ]
  },
  {
   "cell_type": "code",
   "execution_count": 31,
   "metadata": {
    "colab": {
     "base_uri": "https://localhost:8080/",
     "height": 34
    },
    "colab_type": "code",
    "executionInfo": {
     "elapsed": 845,
     "status": "ok",
     "timestamp": 1563305717952,
     "user": {
      "displayName": "Thibault Foureur",
      "photoUrl": "",
      "userId": "09770321977413832787"
     },
     "user_tz": -120
    },
    "id": "Of8MjCo8apD3",
    "outputId": "c4a7ad1f-b313-46f7-9f0f-3fe391e19428"
   },
   "outputs": [
    {
     "data": {
      "text/plain": [
       "(5793, 1048576)"
      ]
     },
     "execution_count": 31,
     "metadata": {
      "tags": []
     },
     "output_type": "execute_result"
    }
   ],
   "source": [
    "from sklearn.feature_extraction.text import HashingVectorizer\n",
    "tf = HashingVectorizer(analyzer='word',ngram_range=(1, 2), stop_words='english')\n",
    "tfidf_matrix = tf.fit_transform(movies_sample['genres'].astype('str'))\n",
    "tfidf_matrix.shape"
   ]
  },
  {
   "cell_type": "code",
   "execution_count": 32,
   "metadata": {
    "colab": {
     "base_uri": "https://localhost:8080/",
     "height": 34
    },
    "colab_type": "code",
    "executionInfo": {
     "elapsed": 459,
     "status": "ok",
     "timestamp": 1563305717953,
     "user": {
      "displayName": "Thibault Foureur",
      "photoUrl": "",
      "userId": "09770321977413832787"
     },
     "user_tz": -120
    },
    "id": "U97Uwj0qgcIF",
    "outputId": "9e748b2a-b1dc-48d7-e90d-c87d6f850d45"
   },
   "outputs": [
    {
     "data": {
      "text/plain": [
       "(5793, 319)"
      ]
     },
     "execution_count": 32,
     "metadata": {
      "tags": []
     },
     "output_type": "execute_result"
    }
   ],
   "source": [
    "from sklearn.feature_extraction.text import TfidfVectorizer, CountVectorizer\n",
    "co = CountVectorizer(analyzer='word',ngram_range=(1, 2),min_df=0, stop_words='english')\n",
    "co_matrix = co.fit_transform(movies_sample['genres'].astype('str'))\n",
    "co_matrix.shape"
   ]
  },
  {
   "cell_type": "code",
   "execution_count": 0,
   "metadata": {
    "colab": {},
    "colab_type": "code",
    "id": "hF8pbgTmbIwD"
   },
   "outputs": [],
   "source": [
    "from sklearn.metrics.pairwise import linear_kernel\n",
    "from sklearn.datasets import fetch_20newsgroups\n",
    "\n",
    "batchsize = 1024\n",
    "cosine_sim = []\n",
    "for i in range(0, tfidf_matrix.shape[0], batchsize):\n",
    "    cosine_sim.extend(linear_kernel(tfidf_matrix, tfidf_matrix[i:min(i+batchsize, tfidf_matrix.shape[0])]).flatten())\n",
    "cosine_sim = np.array(cosine_sim)\n",
    "\n",
    "#cosine_sim = linear_kernel(tfidf_matrix, tfidf_matrix)"
   ]
  },
  {
   "cell_type": "code",
   "execution_count": 0,
   "metadata": {
    "colab": {},
    "colab_type": "code",
    "id": "5ZRbvtFFolLT"
   },
   "outputs": [],
   "source": [
    "cosine_sim = linear_kernel(co_matrix, co_matrix)"
   ]
  },
  {
   "cell_type": "code",
   "execution_count": 0,
   "metadata": {
    "colab": {},
    "colab_type": "code",
    "id": "BF-8k1nvbb3T"
   },
   "outputs": [],
   "source": [
    "movies_sample = movies_sample.reset_index()\n",
    "titles = movies_sample['title']\n",
    "indices = pd.Series(movies_sample.index, index=movies_sample['title'])"
   ]
  },
  {
   "cell_type": "code",
   "execution_count": 36,
   "metadata": {
    "colab": {
     "base_uri": "https://localhost:8080/",
     "height": 204
    },
    "colab_type": "code",
    "executionInfo": {
     "elapsed": 1135,
     "status": "ok",
     "timestamp": 1563305726471,
     "user": {
      "displayName": "Thibault Foureur",
      "photoUrl": "",
      "userId": "09770321977413832787"
     },
     "user_tz": -120
    },
    "id": "E-iRNL-pn9Nv",
    "outputId": "b0fbc6aa-4b3f-4469-a2cd-a94f1282c69c"
   },
   "outputs": [
    {
     "data": {
      "text/plain": [
       "20         From Dusk Till Dawn\n",
       "58                  Disclosure\n",
       "75      Leon: The Professional\n",
       "77                Pulp Fiction\n",
       "113               The Fugitive\n",
       "120             Judgment Night\n",
       "141               True Romance\n",
       "236    They Made Me a Criminal\n",
       "285                      T-Men\n",
       "333          Miller's Crossing\n",
       "Name: title, dtype: object"
      ]
     },
     "execution_count": 36,
     "metadata": {
      "tags": []
     },
     "output_type": "execute_result"
    }
   ],
   "source": [
    "get_recommendations('Pulp Fiction').head(10)"
   ]
  }
 ],
 "metadata": {
  "colab": {
   "collapsed_sections": [
    "MDgvnWTbuXFw",
    "UiAMaiqZkqWA",
    "atIhnw5fIqrx",
    "6vghvPWEIqr8",
    "WY5heWotIqr8"
   ],
   "name": "Recommandation model.ipynb",
   "provenance": [],
   "version": "0.3.2"
  },
  "kernelspec": {
   "display_name": "handsonml",
   "language": "python",
   "name": "handsonml"
  },
  "language_info": {
   "codemirror_mode": {
    "name": "ipython",
    "version": 3
   },
   "file_extension": ".py",
   "mimetype": "text/x-python",
   "name": "python",
   "nbconvert_exporter": "python",
   "pygments_lexer": "ipython3",
   "version": "3.7.0"
  }
 },
 "nbformat": 4,
 "nbformat_minor": 1
}
